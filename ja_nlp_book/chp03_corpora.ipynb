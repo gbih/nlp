{
 "cells": [
  {
   "cell_type": "markdown",
   "id": "3f436c16-2072-4a8d-bef8-97b57d7ba8a0",
   "metadata": {},
   "source": [
    "<a id='top'></a><a name='top'></a>\n",
    "# Chapter 3: Corpora"
   ]
  },
  {
   "cell_type": "markdown",
   "id": "fdb350ce-95bb-493c-a9dd-5a09d12dd977",
   "metadata": {},
   "source": [
    "<table align=\"left\">\n",
    "  <td>\n",
    "    <a href=\"link.ipynb\" target=\"_parent\"><img src=\"https://colab.research.google.com/assets/colab-badge.svg\" alt=\"Open In Colab\"/></a>\n",
    "  </td>\n",
    "</table>"
   ]
  },
  {
   "cell_type": "markdown",
   "id": "bdc3e20b-607f-40ad-a58d-6474b3fcdf60",
   "metadata": {},
   "source": [
    "* [Imports and Setup](#setup)\n",
    "* [3.1  Tokenizer Dictionaries for General Use](#3.1)\n",
    "    - [3.1.1 Changing the Main Dictionary in fugashi](#3.1.1)\n",
    "    - [3.1.2 Jumandic](#3.1.2)\n",
    "    - [3.1.3 IPAdic](#3.1.3)\n",
    "    - [3.1.4 UniDic](#3.1.4)\n",
    "        * [3.1.4.1 Tokenization Philosophy](#3.1.4.1)\n",
    "        * [3.1.4.2 Lemmas](#3.1.4.2)\n",
    "        * [3.1.4.3 Other Fields](#3.1.4.3)\n",
    "    - [3.1.5 unidic-lite](#3.1.5)\n",
    "    - [3.1.6 NEologd](#3.1.6)\n",
    "    - [3.1.7 SudachiDict](#3.1.7)\n",
    "* [3.2 Specialized Tokenizer Dictionaries](#3.2)\n",
    "    - [3.2.1 How to Use Extra Dictionaries](#3.2.1)\n",
    "    - [3.2.2 Historical and Spoken Language UniDics](#3.2.2)\n",
    "    - [3.2.3 Contemporary Spoken Japanese](#3.2.3)\n",
    "    - [3.2.4 Japanese Company Lexicon](#3.2.4)\n",
    "    - [3.2.5 Manbyo-Dictionary](#3.2.5)\n",
    "    - [3.2.6 Hyakuyaku Dictionary](#3.2.6)\n",
    "    - [3.2.7 ComeJisyo](#3.2.7)\n",
    "    - [3.2.8 J-GLOBAL Scientific Dictionaries](#3.2.8)\n",
    "    - [3.2.9 ITF-Dic (University of Tsukuba Dictionary)](#3.2.9)\n",
    "    - [3.2.10 Touhou MeCab Dictionary](#3.2.10)\n",
    "* [3.3 General Corpora](#3.3)\n",
    "    - [3.3.1 Unannotated Corpora](#3.3.1)\n",
    "        * [3.3.1.1 The Mainichi News Corpus](#3.3.1.1)\n",
    "        * [3.3.1.2 Japanese Wikipedia](#3.3.1.2)\n",
    "        * [3.3.1.3 Using Wikipedia Cirrus Dumps](#3.3.1.3)\n",
    "        * [3.3.1.4 The Common Crawl](#3.3.1.4)\n",
    "        * [3.3.1.5 CC-100](#3.3.1.5)\n",
    "    - [3.3.2 Monolingual Corpora](#3.3.2)\n",
    "        * [3.3.2.1 Balanced Corpus of Contemporary Written Japanese (BCCWJ)](#3.3.2.1)\n",
    "        * [3.3.2.2 Kyoto University Text Corpus](#3.3.2.2)\n",
    "        * [3.3.2.3 Kyoto University Web Document Leads Corpus](#3.3.2.3)\n",
    "    - [3.3.3 Multilingual Corpora](#3.3.3)    \n",
    "        * [3.3.3.1 UD Japanese GSD](#3.3.3.1)\n",
    "        * [3.3.3.2 UD Japanese PUD](#3.3.3.2)\n",
    "        * [3.3.3.3 Tatoeba](#3.3.3.3)\n",
    "        * [3.3.3.4 JParaCrawl](#3.3.3.4)\n",
    "* [3.4 Specialized Corpora](#3.4)\n",
    "    - [3.4.1 Livedoor News Corpus](#3.4.1)\n",
    "    - [3.4.2 JAQKET](#3.4.1)\n",
    "    - [3.4.3 Japanese Realistic Textual Entailment Corpus](#3.4.2)\n",
    "    - [3.4.4 JGLUE](#3.4.3)\n",
    "    - [3.4.5 Japanese WordNet](#3.4.4)\n",
    "    - [3.4.6 JMDict Project](#3.4.5)\n",
    "    - [3.4.7 Japan Post CSV](#3.4.6)\n",
    "* [3.5 Appendix: Term Set Expansion with Japanese WordNet](#3.5)"
   ]
  },
  {
   "cell_type": "markdown",
   "id": "118f07b6-02f3-4207-99e9-f049c7ca5b8e",
   "metadata": {},
   "source": [
    "---\n",
    "<a name='setup'></a><a id='setup'></a>\n",
    "# Imports and Setup\n",
    "<a href=\"#top\">[back to top]</a>"
   ]
  },
  {
   "cell_type": "markdown",
   "id": "a3ca83cb-ea97-4ac6-b566-45019650266e",
   "metadata": {},
   "source": [
    "---\n",
    "<a name='3.1'></a><a id='3.1'></a>\n",
    "# 3.1 Tokenizer Dictionaries for General Use\n",
    "<a href=\"#top\">[back to top]</a>"
   ]
  },
  {
   "cell_type": "markdown",
   "id": "a529dd9b-54c5-4280-90af-a1a07dd926fb",
   "metadata": {},
   "source": [
    "<a name='3.1.1'></a><a id='3.1.1'></a>\n",
    "## 3.1 Changing the Main Dictionary in fugashi\n",
    "<a href=\"#top\">[back to top]</a>"
   ]
  },
  {
   "cell_type": "markdown",
   "id": "8a1bc2f5-7f1f-47a0-8623-f181fe46ae8d",
   "metadata": {},
   "source": [
    "<a name='3.1.2'></a><a id='3.1.2'></a>\n",
    "## 3.2 Jumandic\n",
    "<a href=\"#top\">[back to top]</a>"
   ]
  },
  {
   "cell_type": "markdown",
   "id": "91792287-3a37-4c4c-a8e3-16822940cd00",
   "metadata": {},
   "source": [
    "<a name='3.1.3'></a><a id='3.1.3'></a>\n",
    "## 3.1.3 IPAdic\n",
    "<a href=\"#top\">[back to top]</a>"
   ]
  },
  {
   "cell_type": "markdown",
   "id": "913711d9-acdc-4461-814b-dc22d6acccff",
   "metadata": {},
   "source": [
    "<a name='3.1.4'></a><a id='3.1.4'></a>\n",
    "## 3.1.4 UniDic\n",
    "<a href=\"#top\">[back to top]</a>"
   ]
  },
  {
   "cell_type": "markdown",
   "id": "852b35bc-829b-426f-92b3-d05d83c8d77c",
   "metadata": {},
   "source": [
    "<a name='3.1.4.1'></a><a id='3.1.4.1'></a>\n",
    "### 3.1.4.1 Unidic: Tokenization Philosophy\n",
    "<a href=\"#top\">[back to top]</a>"
   ]
  },
  {
   "cell_type": "markdown",
   "id": "b537d391-fd45-44aa-8afc-6dd3e44275d7",
   "metadata": {},
   "source": [
    "<a name='3.1.4.2'></a><a id='3.1.4.2'></a>\n",
    "### 3.1.4.2 UniDic: Lemmas\n",
    "<a href=\"#top\">[back to top]</a>"
   ]
  },
  {
   "cell_type": "markdown",
   "id": "185d3bd9-90c2-45a3-8134-098ea4341585",
   "metadata": {},
   "source": [
    "<a name='3.1.4.3'></a><a id='3.1.4.3'></a>\n",
    "### 3.1.4.3 UniDic: Other Fields\n",
    "<a href=\"#top\">[back to top]</a>"
   ]
  },
  {
   "cell_type": "markdown",
   "id": "7f174363-b7ef-4621-952c-86ad607c671c",
   "metadata": {},
   "source": [
    "<a name='3.1.5'></a><a id='3.1.5'></a>\n",
    "## 3.1.5 unidic-lite\n",
    "<a href=\"#top\">[back to top]</a>"
   ]
  },
  {
   "cell_type": "markdown",
   "id": "b8685b5d-fc9b-4a9a-b126-f518eb1a1e37",
   "metadata": {},
   "source": [
    "<a name='3.1.6'></a><a id='3.1.6'></a>\n",
    "## 3.1.6 NEologd\n",
    "<a href=\"#top\">[back to top]</a>"
   ]
  },
  {
   "cell_type": "markdown",
   "id": "39a0265d-4f6c-4018-b07a-00f09e37d2c2",
   "metadata": {},
   "source": [
    "<a name='3.1.7'></a><a id='3.1.7'></a>\n",
    "## 3.1.7 SudachiDict\n",
    "<a href=\"#top\">[back to top]</a>"
   ]
  },
  {
   "cell_type": "markdown",
   "id": "49bbf164-9097-4209-9d33-61cc5b95051a",
   "metadata": {},
   "source": [
    "---\n",
    "<a name='3.2'></a><a id='3.2'></a>\n",
    "# 3.2 Specialized Tokenizer Dictionaries\n",
    "<a href=\"#top\">[back to top]</a>"
   ]
  },
  {
   "cell_type": "markdown",
   "id": "a9c2bce7-d937-45e9-b661-022a5b9e8f8d",
   "metadata": {},
   "source": [
    "<a name='3.2.1'></a><a id='3.2.1'></a>\n",
    "## 3.2.1 How to Use Extra Dictionaries\n",
    "<a href=\"#top\">[back to top]</a>"
   ]
  },
  {
   "cell_type": "markdown",
   "id": "9d8b91d1-5a22-4fc0-8289-4ad6bb588887",
   "metadata": {},
   "source": [
    "<a name='3.2.2'></a><a id='3.2.2'></a>\n",
    "## 3.2.2 Historical and Spoken Language UniDics\n",
    "<a href=\"#top\">[back to top]</a>"
   ]
  },
  {
   "cell_type": "markdown",
   "id": "9ee3689a-f41a-4d91-8229-2110ff4d652c",
   "metadata": {},
   "source": [
    "<a name='3.2.3'></a><a id='3.2.3'></a>\n",
    "## 3.2.3 Contemporary Spoken Japanese\n",
    "<a href=\"#top\">[back to top]</a>"
   ]
  },
  {
   "cell_type": "markdown",
   "id": "85b93830-b16c-4a9a-9e56-d357a8f79760",
   "metadata": {},
   "source": [
    "<a name='3.2.4'></a><a id='3.2.4'></a>\n",
    "## 3.2.4 Japanese Company Lexicon\n",
    "<a href=\"#top\">[back to top]</a>"
   ]
  },
  {
   "cell_type": "markdown",
   "id": "9fb983f0-860c-452b-855b-0f202ee01325",
   "metadata": {},
   "source": [
    "<a name='3.2.5'></a><a id='3.2.5'></a>\n",
    "## 3.2.5 Manbyo-Dictionary\n",
    "<a href=\"#top\">[back to top]</a>"
   ]
  },
  {
   "cell_type": "markdown",
   "id": "710c0fcf-228e-4dd7-a54d-4e3c81bb5da7",
   "metadata": {},
   "source": [
    "<a name='3.2.6'></a><a id='3.2.6'></a>\n",
    "## 3.2.6 Hyakuyaku Dictionary\n",
    "<a href=\"#top\">[back to top]</a>\n"
   ]
  },
  {
   "cell_type": "markdown",
   "id": "fa12a1cd-9969-4097-9ace-01c23b1d01db",
   "metadata": {},
   "source": [
    "<a name='3.2.7'></a><a id='3.2.7'></a>\n",
    "## 3.2.7 ComeJisyo\n",
    "<a href=\"#top\">[back to top]</a>"
   ]
  },
  {
   "cell_type": "markdown",
   "id": "dd572395-851b-4c3d-bf01-56c745775d06",
   "metadata": {},
   "source": [
    "<a name='3.2.8'></a><a id='3.2.8'></a>\n",
    "## 3.2.8 J-GLOBAL Scientific Dictionaries\n",
    "<a href=\"#top\">[back to top]</a>"
   ]
  },
  {
   "cell_type": "markdown",
   "id": "ccb68328-046b-4c92-b74c-47f20ab34619",
   "metadata": {},
   "source": [
    "<a name='3.2.9'></a><a id='3.2.9'></a>\n",
    "## 3.2.9 ITF-Dic (University of Tsukuba Dictionary)\n",
    "<a href=\"#top\">[back to top]</a>"
   ]
  },
  {
   "cell_type": "markdown",
   "id": "95dfda50-aaa4-4cea-8f2a-b309665b0905",
   "metadata": {},
   "source": [
    "<a name='3.2.10'></a><a id='3.2.10'></a>\n",
    "## 3.2.10 Touhou MeCab Dictionary\n",
    "<a href=\"#top\">[back to top]</a>"
   ]
  },
  {
   "cell_type": "markdown",
   "id": "7b710f78-cf7a-46ca-8893-4815294f64a2",
   "metadata": {},
   "source": [
    "---\n",
    "<a name='3.3'></a><a id='3.3'></a>\n",
    "# 3.3 General Corpora\n",
    "<a href=\"#top\">[back to top]</a>"
   ]
  },
  {
   "cell_type": "markdown",
   "id": "5c5468f5-43c8-467a-b78a-6853df8d2fb5",
   "metadata": {},
   "source": [
    "<a name='3.3.1'></a><a id='3.3.1'></a>\n",
    "## 3.3.1 Unannotated Corpora\n",
    "<a href=\"#top\">[back to top]</a>"
   ]
  },
  {
   "cell_type": "markdown",
   "id": "c3c1f9a3-4dd6-4bc5-89bb-61d62a3a657f",
   "metadata": {},
   "source": [
    "<a name='3.3.1.1'></a><a id='3.3.1.1'></a>\n",
    "### 3.3.1.1 The Mainichi News Corpus\n",
    "<a href=\"#top\">[back to top]</a>"
   ]
  },
  {
   "cell_type": "markdown",
   "id": "535e4e25-f72a-4e6d-bbba-8640b3161989",
   "metadata": {},
   "source": [
    "<a name='3.3.1.2'></a><a id='3.3.1.2'></a>\n",
    "### 3.3.1.2 Japanese Wikipedia\n",
    "<a href=\"#top\">[back to top]</a>"
   ]
  },
  {
   "cell_type": "markdown",
   "id": "d3b91455-88c8-400e-a9a0-2191272791ba",
   "metadata": {},
   "source": [
    "<a name='3.3.1.3'></a><a id='3.3.1.3'></a>\n",
    "### 3.3.1.3 Using Wikipedia Cirrus Dumps\n",
    "<a href=\"#top\">[back to top]</a>"
   ]
  },
  {
   "cell_type": "markdown",
   "id": "e21fd10f-810c-401b-a702-7c430bd2cc3f",
   "metadata": {},
   "source": [
    "<a name='3.3.1.4'></a><a id='3.3.1.4'></a>\n",
    "### 3.3.1.4 The Common Crawl\n",
    "<a href=\"#top\">[back to top]</a>"
   ]
  },
  {
   "cell_type": "markdown",
   "id": "848af119-4de2-4da7-8325-f02f6666f7c5",
   "metadata": {},
   "source": [
    "<a name='3.3.1.5'></a><a id='3.3.1.5'></a>\n",
    "### 3.3.1.5 CC-100\n",
    "<a href=\"#top\">[back to top]</a>"
   ]
  },
  {
   "cell_type": "markdown",
   "id": "b25e6eea-71dc-46cd-bac0-c23fcd5b1646",
   "metadata": {},
   "source": [
    "<a name='3.3.2'></a><a id='3.3.2'></a>\n",
    "## 3.3.2 Monolingual Corpoa\n",
    "<a href=\"#top\">[back to top]</a>"
   ]
  },
  {
   "cell_type": "markdown",
   "id": "8f2eef8d-6b46-4f19-ac39-04a145a9567a",
   "metadata": {},
   "source": [
    "<a name='3.3.2.1'></a><a id='3.3.2.1'></a>\n",
    "### 3.3.2.1 Balanced Corpus of Contemporary Written Japanese (BCCWJ)\n",
    "<a href=\"#top\">[back to top]</a>"
   ]
  },
  {
   "cell_type": "markdown",
   "id": "39a32890-8c2e-4722-8be0-708c0b07b6a4",
   "metadata": {},
   "source": [
    "<a name='3.3.2.2'></a><a id='3.3.2.2'></a>\n",
    "### 3.3.2.2 Kyoto University Text Corpus\n",
    "<a href=\"#top\">[back to top]</a>"
   ]
  },
  {
   "cell_type": "markdown",
   "id": "281c84ae-1502-4c0f-a6c4-324a1efd8c01",
   "metadata": {},
   "source": [
    "<a name='3.3.2.3'></a><a id='3.3.2.3'></a>\n",
    "### 3.3.2.3 Kyoto University Web Document Leads Corpus\n",
    "<a href=\"#top\">[back to top]</a>"
   ]
  },
  {
   "cell_type": "markdown",
   "id": "b71b2b63-c5f2-4ed3-976f-a8f7b7886dd6",
   "metadata": {},
   "source": [
    "<a name='3.3.3'></a><a id='3.3.3'></a>\n",
    "## 3.3.3 Multilingual Corpoa\n",
    "<a href=\"#top\">[back to top]</a>"
   ]
  },
  {
   "cell_type": "markdown",
   "id": "04786929-23cb-43aa-9649-d008c4e44312",
   "metadata": {},
   "source": [
    "<a name='3.3.3.1'></a><a id='3.3.3.1'></a>\n",
    "### 3.3.3.1 UD Japanese GSD\n",
    "<a href=\"#top\">[back to top]</a>"
   ]
  },
  {
   "cell_type": "markdown",
   "id": "b999b01a-a03e-4474-a567-4b00d69d29fc",
   "metadata": {},
   "source": [
    "<a name='3.3.3.2'></a><a id='3.3.3.2'></a>\n",
    "### 3.3.3.2 UD Japanese PUD\n",
    "<a href=\"#top\">[back to top]</a>"
   ]
  },
  {
   "cell_type": "markdown",
   "id": "bed811b0-49df-4558-b499-0524f8e2b5e1",
   "metadata": {},
   "source": [
    "<a name='3.3.3.3'></a><a id='3.3.3.3'></a>\n",
    "### 3.3.3.3 Tatoeba\n",
    "<a href=\"#top\">[back to top]</a>"
   ]
  },
  {
   "cell_type": "markdown",
   "id": "01afccef-feec-406c-a738-3fb4c32f653b",
   "metadata": {},
   "source": [
    "<a name='3.3.3.4'></a><a id='3.3.3.4'></a>\n",
    "### 3.3.3.4 JParaCrawl\n",
    "<a href=\"#top\">[back to top]</a>"
   ]
  },
  {
   "cell_type": "markdown",
   "id": "c57ed5fb-6a36-4458-a040-73295f8f14e4",
   "metadata": {},
   "source": [
    "---\n",
    "<a name='3.4'></a><a id='3.4'></a>\n",
    "# 3.4 Specialized Corpora\n",
    "<a href=\"#top\">[back to top]</a>"
   ]
  },
  {
   "cell_type": "markdown",
   "id": "db7b09d5-2fb8-42a1-afdb-4ecd88db78ea",
   "metadata": {},
   "source": [
    "<a name='3.4.1'></a><a id='3.4.1'></a>\n",
    "## 3.4.1 Livedoor News Corpus\n",
    "<a href=\"#top\">[back to top]</a>"
   ]
  },
  {
   "cell_type": "markdown",
   "id": "60759a9e-80b4-4d8f-837f-d1767fba1ecd",
   "metadata": {},
   "source": [
    "<a name='3.4.2'></a><a id='3.4.2'></a>\n",
    "## 3.4.2 JAQKET\n",
    "<a href=\"#top\">[back to top]</a>"
   ]
  },
  {
   "cell_type": "markdown",
   "id": "e0a73143-d288-43b5-9d06-c81a33901d2c",
   "metadata": {},
   "source": [
    "<a name='3.4.3'></a><a id='3.4.3'></a>\n",
    "## 3.4.3 Japanese Realistic Textual Entailment Corpus\n",
    "<a href=\"#top\">[back to top]</a>"
   ]
  },
  {
   "cell_type": "markdown",
   "id": "a062eff5-34f6-4c2c-b033-4b6f05cab5bb",
   "metadata": {},
   "source": [
    "<a name='3.4.4'></a><a id='3.4.4'></a>\n",
    "## 3.4.4 JGLUE\n",
    "<a href=\"#top\">[back to top]</a>"
   ]
  },
  {
   "cell_type": "markdown",
   "id": "7fc323ea-0702-4e22-a9d1-8ee9bb5b54bc",
   "metadata": {},
   "source": [
    "<a name='3.4.5'></a><a id='3.4.5'></a>\n",
    "## 3.4.5 Japanese WordNet\n",
    "<a href=\"#top\">[back to top]</a>"
   ]
  },
  {
   "cell_type": "markdown",
   "id": "8eab10aa-ac20-41d9-81b1-197831d690be",
   "metadata": {},
   "source": [
    "<a name='3.4.6'></a><a id='3.4.6'></a>\n",
    "## 3.4.6 JMDict Project\n",
    "<a href=\"#top\">[back to top]</a>"
   ]
  },
  {
   "cell_type": "markdown",
   "id": "ddafef9d-5c4b-41b8-b38d-46911bd7d2a9",
   "metadata": {},
   "source": [
    "<a name='3.4.7'></a><a id='3.4.7'></a>\n",
    "## 3.4.7 Japan Post CSV\n",
    "<a href=\"#top\">[back to top]</a>"
   ]
  },
  {
   "cell_type": "markdown",
   "id": "8e270ad4-0e67-4e35-82fd-1dd9c04cf14b",
   "metadata": {},
   "source": [
    "---\n",
    "<a name='3.5'></a><a id='3.5'></a>\n",
    "# 3.5 Appendix: Term Set Expansion with Japanese WordNet\n",
    "<a href=\"#top\">[back to top]</a>"
   ]
  },
  {
   "cell_type": "code",
   "execution_count": null,
   "id": "caea3b0d-712a-4438-a360-202b034516dc",
   "metadata": {},
   "outputs": [],
   "source": []
  }
 ],
 "metadata": {
  "kernelspec": {
   "display_name": "Python 3 (ipykernel)",
   "language": "python",
   "name": "python3"
  },
  "language_info": {
   "codemirror_mode": {
    "name": "ipython",
    "version": 3
   },
   "file_extension": ".py",
   "mimetype": "text/x-python",
   "name": "python",
   "nbconvert_exporter": "python",
   "pygments_lexer": "ipython3",
   "version": "3.8.12"
  }
 },
 "nbformat": 4,
 "nbformat_minor": 5
}
