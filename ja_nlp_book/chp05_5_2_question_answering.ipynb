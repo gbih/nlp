{
 "cells": [
  {
   "cell_type": "markdown",
   "id": "-V6JuGAsKrNN",
   "metadata": {
    "id": "-V6JuGAsKrNN"
   },
   "source": [
    "<a id='top'></a><a name='top'></a>\n",
    "# Chapter 5: Natural Language Generation and Conversion with Transformer\n",
    "\n",
    "## 5.2 Question answering"
   ]
  },
  {
   "cell_type": "markdown",
   "id": "427d57d9-8719-4711-b4b9-32e606a8c0bd",
   "metadata": {
    "id": "427d57d9-8719-4711-b4b9-32e606a8c0bd"
   },
   "source": [
    "<table align=\"left\">\n",
    "  <td>\n",
    "    <a href=\"link.ipynb\" target=\"_parent\"><img src=\"https://colab.research.google.com/assets/colab-badge.svg\" alt=\"Open In Colab\"/></a>\n",
    "  </td>\n",
    "</table>"
   ]
  },
  {
   "cell_type": "markdown",
   "id": "cfdf997b-f957-4977-ae2e-91e51a46ad8b",
   "metadata": {
    "id": "cfdf997b-f957-4977-ae2e-91e51a46ad8b"
   },
   "source": [
    "* [Introdution](#introduction)\n",
    "* [Setup](#setup)\n",
    "* [5.2 Question answering](#5.2)\n",
    "    - [5.2.1 Evaluate on the JAQKET dataset](#5.2.1)\n",
    "    - [5.2.2 How to Fine-tune the Language Model for Solving QA](#5.2.2)\n",
    "        * [5.2.2.1 Checking created artifacts](#5.2.2.1)\n",
    "        * [5.2.2.2 Saving artifacts to Google Drive](#5.2.2.2)\n",
    "    - [5.2.3 Next Steps](#5.2.3)"
   ]
  },
  {
   "cell_type": "markdown",
   "id": "bc486a68-32b4-49ee-b83f-c737ee0081e9",
   "metadata": {
    "id": "bc486a68-32b4-49ee-b83f-c737ee0081e9"
   },
   "source": [
    "---\n",
    "<a name='introduction'></a><a id='introduction'></a>\n",
    "# Introduction\n",
    "<a href=\"#top\">[back to top]</a>\n",
    "\n",
    "**Concepts**\n",
    "\n",
    "* Here we use a language model to solve a question-answering task. \n",
    "\n",
    "* A language model is a statistical model that assigns some information (probability) to a given text. \n",
    "\n",
    "* Because language models are usually trained on large datasets of naturally occuring text, they can give high probability to sentences that are natural in that language, and give low probability to unnatural sentences.\n",
    "\n",
    "* A popular language model is the autoregressive or causal language model (CLM). They model the probability of a particular input by first decomposing it into a sequence of individual tokens, and then taking the product of the individual token probability given the preceding context.\n",
    "\n",
    "* In NLP, language models have traditionally been word n-grams or based on RNNs, such as LSTM. However, recently most state-of-the-art language models are based on the Transformer architecture.\n",
    "\n",
    "**Implementation**\n",
    "\n",
    "* We use the HuggingFace Transformers library, which supports pretrained language models such as BERT and GPT-2.\n",
    "\n",
    "* We also use SentencePiece for tokenizing Japanese text, and PyTorch. "
   ]
  },
  {
   "cell_type": "markdown",
   "id": "4f22c158-28dd-47cf-a0f8-01c530591cf3",
   "metadata": {
    "id": "4f22c158-28dd-47cf-a0f8-01c530591cf3"
   },
   "source": [
    "---\n",
    "<a name='setup'></a><a id='setup'></a>\n",
    "# Setup\n",
    "<a href=\"#top\">[back to top]</a>"
   ]
  },
  {
   "cell_type": "code",
   "execution_count": 1,
   "id": "1906e34e-6717-4283-be48-64b0da0ccc63",
   "metadata": {
    "colab": {
     "base_uri": "https://localhost:8080/"
    },
    "id": "1906e34e-6717-4283-be48-64b0da0ccc63",
    "outputId": "61d7df78-21fe-4541-f252-de4185c8e571"
   },
   "outputs": [
    {
     "name": "stdout",
     "output_type": "stream",
     "text": [
      "Mounted at /content/drive\n",
      "Creating a local copy of chp05_02\n",
      "\n",
      "total 22228\n",
      "-rw------- 1 root root   853639 Dec  8 05:22 dev1_questions.json\n",
      "drwx------ 2 root root     4096 Dec  8 05:22 model_best\n",
      "drwx------ 3 root root     4096 Dec  8 05:21 models\n",
      "-rw------- 1 root root      172 Dec  8 05:22 requirements_5_5_2.txt\n",
      "-rw------- 1 root root      172 Dec  8 05:22 requirements_5_5_3.txt\n",
      "-rw------- 1 root root 11405534 Dec  8 05:22 train_questions.json\n",
      "-rw------- 1 root root 10477599 Dec  8 05:22 train_questions.nooa.json\n"
     ]
    }
   ],
   "source": [
    "# Option to use downloaded/pre-trained data from Google Drive with Colab.\n",
    "USE_GD_DATA = True\n",
    "\n",
    "if USE_GD_DATA:\n",
    "    try:\n",
    "        from google.colab import drive\n",
    "        drive.mount('/content/drive', force_remount=True)\n",
    "        print(\"Creating a local copy of chp05_02\")\n",
    "        # Assumes prepared data is stored as 'My Drive/chp05_02' on Google Drive \n",
    "        !cp -r /content/drive/MyDrive/chp05_02 /content/chp05_02\n",
    "        print()\n",
    "        !ls -l /content/chp05_02\n",
    "    except Exception as e:\n",
    "        print(f\"Error: {e}\")"
   ]
  },
  {
   "cell_type": "code",
   "execution_count": 3,
   "id": "2f6094c0-35a5-4398-afb2-151d631ccde8",
   "metadata": {
    "colab": {
     "base_uri": "https://localhost:8080/"
    },
    "id": "2f6094c0-35a5-4398-afb2-151d631ccde8",
    "outputId": "ae50625e-6c25-4b5a-ff8f-4319c4faa21e"
   },
   "outputs": [
    {
     "name": "stdout",
     "output_type": "stream",
     "text": [
      "chp05_02 exists.\n"
     ]
    }
   ],
   "source": [
    "import pathlib\n",
    "from pathlib import Path\n",
    "\n",
    "data_root = Path(\"chp05_02\")\n",
    "req_file = data_root / \"requirements_5_5_2.txt\"\n",
    "\n",
    "if not data_root.is_dir():\n",
    "    data_root.mkdir()\n",
    "else:\n",
    "    print(f\"{data_root} exists.\")"
   ]
  },
  {
   "cell_type": "code",
   "execution_count": 4,
   "id": "6d6d3854-b548-445b-aa36-f23d6ae51a1d",
   "metadata": {
    "colab": {
     "base_uri": "https://localhost:8080/"
    },
    "id": "6d6d3854-b548-445b-aa36-f23d6ae51a1d",
    "outputId": "73989203-2376-40ef-e335-dd546d822cc8"
   },
   "outputs": [
    {
     "name": "stdout",
     "output_type": "stream",
     "text": [
      "Overwriting chp05_02/requirements_5_5_2.txt\n"
     ]
    }
   ],
   "source": [
    "%%writefile {req_file}\n",
    "datasets==1.11.0\n",
    "fugashi[unidic]==1.2.1\n",
    "gensim==3.6.0\n",
    "japanize_matplotlib==1.1.3\n",
    "sentencepiece==0.1.97\n",
    "tqdm==4.64.1\n",
    "transformers==4.9.0\n",
    "unidic_lite==1.0.8\n",
    "watermark==2.3.1"
   ]
  },
  {
   "cell_type": "code",
   "execution_count": 5,
   "id": "32b05459-69ae-4c0b-86f7-296c9a4fc1e6",
   "metadata": {
    "colab": {
     "base_uri": "https://localhost:8080/"
    },
    "id": "32b05459-69ae-4c0b-86f7-296c9a4fc1e6",
    "outputId": "fd49dc8a-f57e-495e-c0e0-40edd4c34ffe"
   },
   "outputs": [
    {
     "name": "stdout",
     "output_type": "stream",
     "text": [
      "Installing packages\n",
      "\u001b[K     |████████████████████████████████| 264 kB 5.7 MB/s \n",
      "\u001b[K     |████████████████████████████████| 615 kB 86.9 MB/s \n",
      "\u001b[K     |████████████████████████████████| 4.1 MB 82.2 MB/s \n",
      "\u001b[K     |████████████████████████████████| 1.3 MB 73.8 MB/s \n",
      "\u001b[K     |████████████████████████████████| 2.6 MB 52.1 MB/s \n",
      "\u001b[K     |████████████████████████████████| 47.4 MB 1.2 MB/s \n",
      "\u001b[K     |████████████████████████████████| 212 kB 100.7 MB/s \n",
      "\u001b[K     |████████████████████████████████| 132 kB 102.6 MB/s \n",
      "\u001b[K     |████████████████████████████████| 56 kB 5.3 MB/s \n",
      "\u001b[K     |████████████████████████████████| 880 kB 84.1 MB/s \n",
      "\u001b[K     |████████████████████████████████| 3.3 MB 45.8 MB/s \n",
      "\u001b[K     |████████████████████████████████| 1.6 MB 89.6 MB/s \n",
      "\u001b[?25h  Building wheel for japanize-matplotlib (setup.py) ... \u001b[?25l\u001b[?25hdone\n",
      "  Building wheel for unidic-lite (setup.py) ... \u001b[?25l\u001b[?25hdone\n",
      "  Building wheel for sacremoses (setup.py) ... \u001b[?25l\u001b[?25hdone\n",
      "  Building wheel for unidic (setup.py) ... \u001b[?25l\u001b[?25hdone\n",
      "download url: https://cotonoha-dic.s3-ap-northeast-1.amazonaws.com/unidic-3.1.0.zip\n",
      "Dictionary version: 3.1.0+2021-08-31\n",
      "Downloading UniDic v3.1.0+2021-08-31...\n",
      "unidic-3.1.0.zip: 100% 526M/526M [00:17<00:00, 29.9MB/s]\n",
      "Finished download.\n",
      "Downloaded UniDic v3.1.0+2021-08-31 to /usr/local/lib/python3.8/dist-packages/unidic/dicdir\n",
      "jq-1.5-1-a5b5cbe\n",
      "\n",
      "** Need to restart runtime after installing sentencepiece **\n",
      "> Runtime > Restart runtime ...\n"
     ]
    }
   ],
   "source": [
    "import os\n",
    "import sys\n",
    "check1 = ('google.colab' in sys.modules)\n",
    "check2 = (os.environ.get('CLOUDSDK_CONFIG')=='/content/.config')\n",
    "IS_COLAB = True if (check1 or check2) else False\n",
    "\n",
    "if IS_COLAB:\n",
    "    print(\"Installing packages\")\n",
    "    !pip install --quiet -r {req_file}\n",
    "    !python -m unidic download\n",
    "    !apt-get install tree &> /dev/null\n",
    "    !apt-get install jq 2>&1 > /dev/null\n",
    "    !jq --version\n",
    "    print()\n",
    "    print(\"** Need to restart runtime after installing sentencepiece **\")\n",
    "    print(\"> Runtime > Restart runtime ...\")\n",
    "else:\n",
    "    print(\"Running locally.\")"
   ]
  },
  {
   "cell_type": "code",
   "execution_count": 1,
   "id": "2221afe6-b7d7-49e6-92fb-69b62b54c89d",
   "metadata": {
    "colab": {
     "base_uri": "https://localhost:8080/"
    },
    "id": "2221afe6-b7d7-49e6-92fb-69b62b54c89d",
    "outputId": "c9767390-f1cc-4f1f-a982-ec6316a97e74"
   },
   "outputs": [
    {
     "name": "stdout",
     "output_type": "stream",
     "text": [
      "device:cpu\n",
      "--------------------------------------------------\n",
      "Python implementation: CPython\n",
      "Python version       : 3.8.15\n",
      "IPython version      : 7.9.0\n",
      "\n",
      "datasets           : 1.11.0\n",
      "fugashi            : 1.2.1\n",
      "gensim             : 3.6.0\n",
      "japanize_matplotlib: 1.1.3\n",
      "sentencepiece      : 0.1.97\n",
      "torch              : 1.13.0+cu116\n",
      "tqdm               : 4.64.1\n",
      "transformers       : 4.9.0\n",
      "unidic_lite        : 1.0.8\n",
      "watermark          : 2.3.1\n",
      "\n",
      "Compiler    : GCC 7.5.0\n",
      "OS          : Linux\n",
      "Release     : 5.10.133+\n",
      "Machine     : x86_64\n",
      "Processor   : x86_64\n",
      "CPU cores   : 2\n",
      "Architecture: 64bit\n",
      "\n"
     ]
    }
   ],
   "source": [
    "# Standard Library imports\n",
    "import os\n",
    "import pathlib\n",
    "from pathlib import Path\n",
    "import shlex\n",
    "import subprocess\n",
    "import sys\n",
    " \n",
    "# Third-party imports\n",
    "from collections import Counter\n",
    "from datasets import load_dataset # HuggingFace Transformers\n",
    "import json\n",
    "import logging\n",
    "import pandas as pd\n",
    "import torch\n",
    "from tqdm import tqdm\n",
    "from transformers import T5Tokenizer # This requires sentencepiece\n",
    "from transformers import AutoModelForCausalLM\n",
    "from transformers import Trainer\n",
    "from transformers import TrainingArguments\n",
    "from watermark import watermark\n",
    "\n",
    "# Suppress TensorFlog log messages\n",
    "os.environ['TF_CPP_MIN_LOG_LEVEL'] = '3' \n",
    "\n",
    "# suppress logging from transformers\n",
    "logging.getLogger(\"transformers\").setLevel(logging.ERROR)\n",
    "logging.getLogger(\"transformers.trainer\").setLevel(logging.ERROR)\n",
    "logging.getLogger(\"datasets\").setLevel(logging.ERROR)\n",
    "\n",
    "_ = torch.manual_seed(42)\n",
    "\n",
    "def HR():\n",
    "    print(\"-\"*50)\n",
    "\n",
    "device = torch.device(\"cuda\" if torch.cuda.is_available() else \"cpu\")\n",
    "print(f\"device:{device}\")\n",
    "HR()\n",
    "\n",
    "# Need to redefine again, after restarting runtime:\n",
    "check1 = ('google.colab' in sys.modules)\n",
    "check2 = (os.environ.get('CLOUDSDK_CONFIG')=='/content/.config')\n",
    "IS_COLAB = True if (check1 or check2) else False\n",
    "\n",
    "packages_check=\"datasets,fugashi,gensim,japanize_matplotlib,sentencepiece,torch,tqdm,transformers,unidic_lite,watermark\"\n",
    "print(watermark(packages=packages_check, python=True,machine=True))"
   ]
  },
  {
   "cell_type": "code",
   "execution_count": 2,
   "id": "3de21d21-c1f1-4406-a036-6ea2f83eb71d",
   "metadata": {
    "colab": {
     "base_uri": "https://localhost:8080/"
    },
    "id": "3de21d21-c1f1-4406-a036-6ea2f83eb71d",
    "outputId": "5ebe2b25-f813-4d82-e7f3-526afc1020f5"
   },
   "outputs": [
    {
     "name": "stdout",
     "output_type": "stream",
     "text": [
      "\n",
      "data_file:\ttrain_questions.json\n",
      "data_url:\thttps://jaqket.s3.ap-northeast-1.amazonaws.com/data/aio_01/train_questions.json\n",
      "data_dir:\tchp05_02\n",
      "data_src:\tchp05_02/train_questions.json\n",
      "data_path:\tchp05_02/train_questions.json\n",
      "data_train_questions:\tchp05_02/train_questions.nooa.json\n",
      "\n"
     ]
    }
   ],
   "source": [
    "data_file = \"train_questions.json\"\n",
    "data_url = f\"https://jaqket.s3.ap-northeast-1.amazonaws.com/data/aio_01/{data_file}\"\n",
    "data_dir = Path(\"chp05_02\")\n",
    "data_src = data_dir / data_file\n",
    "data_path = data_src\n",
    "data_train_questions = data_dir / \"train_questions.nooa.json\"\n",
    "\n",
    "print(f\"\"\"\n",
    "data_file:\\t{data_file}\n",
    "data_url:\\t{data_url}\n",
    "data_dir:\\t{data_dir}\n",
    "data_src:\\t{data_src}\n",
    "data_path:\\t{data_path}\n",
    "data_train_questions:\\t{data_train_questions}\n",
    "\"\"\")"
   ]
  },
  {
   "cell_type": "code",
   "execution_count": 3,
   "id": "e8743174-6a7a-4f40-9b5f-0ca598cc06da",
   "metadata": {
    "colab": {
     "base_uri": "https://localhost:8080/"
    },
    "id": "e8743174-6a7a-4f40-9b5f-0ca598cc06da",
    "outputId": "d9679428-e2a2-4ead-8f33-2bd73d790589"
   },
   "outputs": [
    {
     "name": "stdout",
     "output_type": "stream",
     "text": [
      "\n",
      "data_dev1_file:\tdev1_questions.json\n",
      "data_dev1_url:\thttps://jaqket.s3.ap-northeast-1.amazonaws.com/data/aio_01/dev1_questions.json\n",
      "data_dev1_dir:\tchp05_02\n",
      "data_dev1_src:\tchp05_02/dev1_questions.json\n",
      "data_dev1_path:\tchp05_02/dev1_questions.json\n",
      "\n"
     ]
    }
   ],
   "source": [
    "data_dev1_file = \"dev1_questions.json\"\n",
    "data_dev1_url = f\"https://jaqket.s3.ap-northeast-1.amazonaws.com/data/aio_01/{data_dev1_file}\"\n",
    "data_dev1_dir = Path(\"chp05_02\")\n",
    "data_dev1_src = data_dev1_dir / data_dev1_file\n",
    "data_dev1_path = data_dev1_src\n",
    "\n",
    "print(f\"\"\"\n",
    "data_dev1_file:\\t{data_dev1_file}\n",
    "data_dev1_url:\\t{data_dev1_url}\n",
    "data_dev1_dir:\\t{data_dev1_dir}\n",
    "data_dev1_src:\\t{data_dev1_src}\n",
    "data_dev1_path:\\t{data_dev1_path}\n",
    "\"\"\")"
   ]
  },
  {
   "cell_type": "markdown",
   "id": "dda-7Zf6qcAa",
   "metadata": {
    "id": "dda-7Zf6qcAa"
   },
   "source": [
    "### Load and instantiate the Rinna Japanese autoregressive GPT-2 language model.\n",
    "\n",
    "* https://huggingface.co/rinna/japanese-gpt2-medium\n",
    "* https://huggingface.co/docs/transformers/model_doc/auto#transformers.AutoModelForCausalLM\n",
    "* https://huggingface.co/docs/transformers/v4.25.1/en/model_doc/auto#transformers.FlaxAutoModelForVision2Seq.from_pretrained\n"
   ]
  },
  {
   "cell_type": "code",
   "execution_count": 6,
   "id": "3c9a9ef5-4a77-4893-8b1e-e7638c23cc6a",
   "metadata": {
    "colab": {
     "base_uri": "https://localhost:8080/"
    },
    "id": "3c9a9ef5-4a77-4893-8b1e-e7638c23cc6a",
    "outputId": "c0c67438-65d3-4907-bfb4-892a66b5306b"
   },
   "outputs": [
    {
     "name": "stdout",
     "output_type": "stream",
     "text": [
      "--------------------------------------------------\n",
      "<class 'transformers.models.gpt2.modeling_gpt2.GPT2LMHeadModel'>\n"
     ]
    }
   ],
   "source": [
    "# Load Rinna — a Japanese GPT-2 model \n",
    "\n",
    "# Construct a T5 tokenizer. Based on SentencePiece.\n",
    "# This tokenizer inherits from PreTrainedTokenizer.\n",
    "tokenizer = T5Tokenizer.from_pretrained(\"rinna/japanese-gpt2-medium\")\n",
    "tokenizer.do_lower_case = True # due to some bug of tokenizer config loading\n",
    "\n",
    "# This is a generic model class that will be instantiated as one of the model \n",
    "# classes of the library (with a causal language modeling head) when created \n",
    "# with the from_pretrained() class method or the from_config() class method.\n",
    "model_untuned = AutoModelForCausalLM.from_pretrained(\"rinna/japanese-gpt2-medium\").to(device)\n",
    "\n",
    "HR()\n",
    "print(type(model_untuned))"
   ]
  },
  {
   "cell_type": "code",
   "execution_count": 7,
   "id": "QWwdlp-de55R",
   "metadata": {
    "colab": {
     "base_uri": "https://localhost:8080/"
    },
    "id": "QWwdlp-de55R",
    "outputId": "fd9bbf65-5f08-42e3-c125-58b35ee30c08"
   },
   "outputs": [
    {
     "data": {
      "text/plain": [
       "GPT2Config {\n",
       "  \"_name_or_path\": \"rinna/japanese-gpt2-medium\",\n",
       "  \"activation_function\": \"gelu_new\",\n",
       "  \"architectures\": [\n",
       "    \"GPT2LMHeadModel\"\n",
       "  ],\n",
       "  \"attn_pdrop\": 0.1,\n",
       "  \"bos_token_id\": 1,\n",
       "  \"embd_pdrop\": 0.1,\n",
       "  \"eos_token_id\": 2,\n",
       "  \"gradient_checkpointing\": false,\n",
       "  \"initializer_range\": 0.02,\n",
       "  \"layer_norm_epsilon\": 1e-05,\n",
       "  \"model_type\": \"gpt2\",\n",
       "  \"n_ctx\": 1024,\n",
       "  \"n_embd\": 1024,\n",
       "  \"n_head\": 16,\n",
       "  \"n_inner\": 4096,\n",
       "  \"n_layer\": 24,\n",
       "  \"n_positions\": 1024,\n",
       "  \"resid_pdrop\": 0.1,\n",
       "  \"scale_attn_weights\": true,\n",
       "  \"summary_activation\": null,\n",
       "  \"summary_first_dropout\": 0.1,\n",
       "  \"summary_proj_to_labels\": true,\n",
       "  \"summary_type\": \"cls_index\",\n",
       "  \"summary_use_proj\": true,\n",
       "  \"task_specific_params\": {\n",
       "    \"text-generation\": {\n",
       "      \"do_sample\": true,\n",
       "      \"max_length\": 50\n",
       "    }\n",
       "  },\n",
       "  \"transformers_version\": \"4.9.0\",\n",
       "  \"use_cache\": true,\n",
       "  \"vocab_size\": 32000\n",
       "}"
      ]
     },
     "execution_count": 7,
     "metadata": {},
     "output_type": "execute_result"
    }
   ],
   "source": [
    "model_untuned.config"
   ]
  },
  {
   "cell_type": "markdown",
   "id": "1bb25c0b-b4f5-4c4d-a234-e6f5b4622e1f",
   "metadata": {
    "id": "1bb25c0b-b4f5-4c4d-a234-e6f5b4622e1f"
   },
   "source": [
    "---\n",
    "<a name='5.2'></a><a id='5.2'></a>\n",
    "# 5.2 Question answering\n",
    "<a href=\"#top\">[back to top]</a>\n",
    "\n",
    "* We can use language models for problem-answering. \n",
    "* Here we use it to answer open-domain trivia questions.\n",
    "* Language models trained on a large corpus give lower losses to more \"natural\" input.\n",
    "* Create a function `rank_answers` which reranks the list of candidates based on the question and the model"
   ]
  },
  {
   "cell_type": "code",
   "execution_count": 8,
   "id": "154f9672-0d5b-4ee5-b774-a4df1f6dc015",
   "metadata": {
    "id": "154f9672-0d5b-4ee5-b774-a4df1f6dc015"
   },
   "outputs": [],
   "source": [
    "def rank_answers(question, candidates, model, tokenizer, top_n=10):\n",
    "    \"\"\"Given a question and a list of answer candidates, rank them based on \n",
    "    the language model score (negative log likelihood) and return the ranked\n",
    "    top N candidates.\"\"\"\n",
    "    losses = Counter()\n",
    "    inputs_question = tokenizer(\n",
    "        question, return_tensors=\"pt\",\n",
    "        add_special_tokens=False\n",
    "    ).to(model.device)\n",
    "    \n",
    "    labels_question = -100 * torch.ones_like(\n",
    "        inputs_question[\"input_ids\"],\n",
    "        device=model.device\n",
    "    )\n",
    "    \n",
    "    results = model(**inputs_question, use_cache=True)\n",
    "    past = results.past_key_values\n",
    "    \n",
    "    for candidate in candidates:\n",
    "        inputs_candidate = tokenizer(\n",
    "            candidate,\n",
    "            return_tensors=\"pt\",\n",
    "            add_special_tokens=True\n",
    "        ).to(model.device)\n",
    "        \n",
    "        attention_mask = torch.cat(\n",
    "            (inputs_question[\"attention_mask\"], inputs_candidate[\"attention_mask\"]),\n",
    "            dim = 1,\n",
    "        )\n",
    "        \n",
    "        results = model(\n",
    "            input_ids = inputs_candidate[\"input_ids\"],\n",
    "            attention_mask = attention_mask,\n",
    "            labels = inputs_candidate[\"input_ids\"],\n",
    "            past_key_values = past,\n",
    "        )\n",
    "        \n",
    "        loss = results.loss.detach().item()\n",
    "        losses[candidate] = -loss\n",
    "        \n",
    "    return [a for a, _ in losses.most_common(top_n)]"
   ]
  },
  {
   "cell_type": "markdown",
   "id": "65a0e71b-8a0b-47d3-83f7-43ad142dc647",
   "metadata": {
    "id": "65a0e71b-8a0b-47d3-83f7-43ad142dc647"
   },
   "source": [
    "* Question: What is the prefectural capital of Aichi?"
   ]
  },
  {
   "cell_type": "code",
   "execution_count": 9,
   "id": "4dc4a86f-d560-4b40-9ede-2215a63fc416",
   "metadata": {
    "id": "4dc4a86f-d560-4b40-9ede-2215a63fc416"
   },
   "outputs": [],
   "source": [
    "question = \"愛知県の県庁所在地は?\""
   ]
  },
  {
   "cell_type": "code",
   "execution_count": 10,
   "id": "023f7ce0-b1e0-47d5-8942-05a217c08593",
   "metadata": {
    "id": "023f7ce0-b1e0-47d5-8942-05a217c08593"
   },
   "outputs": [],
   "source": [
    "answers = [\"札幌市\", \"秋田市\", \"宇都宮市\", \"東京\", \"金沢市\", \"岐阜市\", \"名古屋市\", \"大津市\", \"奈良市\", \"岡山市\", \"高 松市\", \"佐賀市\", \"宮崎市\"]"
   ]
  },
  {
   "cell_type": "code",
   "execution_count": 11,
   "id": "7f7a4b1b-e33e-4144-b636-8aa5d492f7ec",
   "metadata": {
    "colab": {
     "base_uri": "https://localhost:8080/"
    },
    "id": "7f7a4b1b-e33e-4144-b636-8aa5d492f7ec",
    "outputId": "1e86820a-cc68-4b46-d712-c72e1223bb9d"
   },
   "outputs": [
    {
     "data": {
      "text/plain": [
       "['岐阜市', '名古屋市', '金沢市', '奈良市', '宇都宮市', '秋田市', '岡山市', '宮崎市', '佐賀市', '高 松市']"
      ]
     },
     "execution_count": 11,
     "metadata": {},
     "output_type": "execute_result"
    }
   ],
   "source": [
    "rank_answers(question, answers, model_untuned, tokenizer)"
   ]
  },
  {
   "cell_type": "markdown",
   "id": "8d4468e1-8c59-4588-9b43-65d45bfc8afe",
   "metadata": {
    "id": "8d4468e1-8c59-4588-9b43-65d45bfc8afe"
   },
   "source": [
    "<a name='5.2.1'></a><a id='5.2.1'></a>\n",
    "## 5.2.1 Evaluate on the JAQKET dataset\n",
    "<a href=\"#top\">[back to top]</a>\n",
    "\n",
    "* Examine how good Rinna for answering common sense questions.\n",
    "* JAQKET is an open-domain dataset including common-sense questions and answers, drawn from Wikipedia. \n",
    "* https://www.nlp.ecei.tohoku.ac.jp/projects/jaqket/"
   ]
  },
  {
   "cell_type": "code",
   "execution_count": 13,
   "id": "2d8d8925-1fa5-42e5-aaff-4487bb19351b",
   "metadata": {
    "colab": {
     "base_uri": "https://localhost:8080/"
    },
    "id": "2d8d8925-1fa5-42e5-aaff-4487bb19351b",
    "outputId": "5ceb8582-b123-4664-9d6d-d913645e0281"
   },
   "outputs": [
    {
     "name": "stdout",
     "output_type": "stream",
     "text": [
      "chp05_02/train_questions.json exists.\n"
     ]
    }
   ],
   "source": [
    "# book-link-changed\n",
    "if not data_src.is_file():\n",
    "    print(f\"Downloading {data_url}\")\n",
    "    subprocess.run(shlex.split(f\"wget -q -O {data_src} {data_url}\"))\n",
    "    print(\"Done.\")\n",
    "else:\n",
    "    print(f\"{data_src} exists.\")"
   ]
  },
  {
   "cell_type": "code",
   "execution_count": 14,
   "id": "d3d668bc-4155-494d-8a9d-2bbd7c0fe3b0",
   "metadata": {
    "colab": {
     "base_uri": "https://localhost:8080/",
     "height": 334
    },
    "id": "d3d668bc-4155-494d-8a9d-2bbd7c0fe3b0",
    "outputId": "84eb391f-515c-439a-c77d-ee1531f1f30b"
   },
   "outputs": [
    {
     "data": {
      "text/html": [
       "\n",
       "  <div id=\"df-a85ab757-679f-4006-b4fa-542c188850a4\">\n",
       "    <div class=\"colab-df-container\">\n",
       "      <div>\n",
       "<style scoped>\n",
       "    .dataframe tbody tr th:only-of-type {\n",
       "        vertical-align: middle;\n",
       "    }\n",
       "\n",
       "    .dataframe tbody tr th {\n",
       "        vertical-align: top;\n",
       "    }\n",
       "\n",
       "    .dataframe thead th {\n",
       "        text-align: right;\n",
       "    }\n",
       "</style>\n",
       "<table border=\"1\" class=\"dataframe\">\n",
       "  <thead>\n",
       "    <tr style=\"text-align: right;\">\n",
       "      <th></th>\n",
       "      <th>0</th>\n",
       "      <th>1</th>\n",
       "    </tr>\n",
       "  </thead>\n",
       "  <tbody>\n",
       "    <tr>\n",
       "      <th>qid</th>\n",
       "      <td>ABC01-01-0003</td>\n",
       "      <td>ABC01-01-0004</td>\n",
       "    </tr>\n",
       "    <tr>\n",
       "      <th>question</th>\n",
       "      <td>格闘家ボブ・サップの出身国はどこでしょう?</td>\n",
       "      <td>ロシア語で「城」という意味がある、ロシアの大統領府の別名は何でしょう?</td>\n",
       "    </tr>\n",
       "    <tr>\n",
       "      <th>answer_entity</th>\n",
       "      <td>アメリカ合衆国</td>\n",
       "      <td>クレムリン</td>\n",
       "    </tr>\n",
       "    <tr>\n",
       "      <th>answer_candidates</th>\n",
       "      <td>[アメリカ合衆国, ミネソタ州, オンタリオ州, ペンシルベニア州, オレゴン州, ニューヨ...</td>\n",
       "      <td>[クレムリン, キエフ, 赤の広場, サンクトペテルブルク, モスクワ, 救世主ハリストス大...</td>\n",
       "    </tr>\n",
       "    <tr>\n",
       "      <th>original_question</th>\n",
       "      <td>格闘家ボブ・サップの出身国はどこでしょう？</td>\n",
       "      <td>ロシア語で「城」という意味がある、ロシアの大統領府の別名は何でしょう？</td>\n",
       "    </tr>\n",
       "    <tr>\n",
       "      <th>original_answer</th>\n",
       "      <td>アメリカ</td>\n",
       "      <td>クレムリン</td>\n",
       "    </tr>\n",
       "  </tbody>\n",
       "</table>\n",
       "</div>\n",
       "      <button class=\"colab-df-convert\" onclick=\"convertToInteractive('df-a85ab757-679f-4006-b4fa-542c188850a4')\"\n",
       "              title=\"Convert this dataframe to an interactive table.\"\n",
       "              style=\"display:none;\">\n",
       "        \n",
       "  <svg xmlns=\"http://www.w3.org/2000/svg\" height=\"24px\"viewBox=\"0 0 24 24\"\n",
       "       width=\"24px\">\n",
       "    <path d=\"M0 0h24v24H0V0z\" fill=\"none\"/>\n",
       "    <path d=\"M18.56 5.44l.94 2.06.94-2.06 2.06-.94-2.06-.94-.94-2.06-.94 2.06-2.06.94zm-11 1L8.5 8.5l.94-2.06 2.06-.94-2.06-.94L8.5 2.5l-.94 2.06-2.06.94zm10 10l.94 2.06.94-2.06 2.06-.94-2.06-.94-.94-2.06-.94 2.06-2.06.94z\"/><path d=\"M17.41 7.96l-1.37-1.37c-.4-.4-.92-.59-1.43-.59-.52 0-1.04.2-1.43.59L10.3 9.45l-7.72 7.72c-.78.78-.78 2.05 0 2.83L4 21.41c.39.39.9.59 1.41.59.51 0 1.02-.2 1.41-.59l7.78-7.78 2.81-2.81c.8-.78.8-2.07 0-2.86zM5.41 20L4 18.59l7.72-7.72 1.47 1.35L5.41 20z\"/>\n",
       "  </svg>\n",
       "      </button>\n",
       "      \n",
       "  <style>\n",
       "    .colab-df-container {\n",
       "      display:flex;\n",
       "      flex-wrap:wrap;\n",
       "      gap: 12px;\n",
       "    }\n",
       "\n",
       "    .colab-df-convert {\n",
       "      background-color: #E8F0FE;\n",
       "      border: none;\n",
       "      border-radius: 50%;\n",
       "      cursor: pointer;\n",
       "      display: none;\n",
       "      fill: #1967D2;\n",
       "      height: 32px;\n",
       "      padding: 0 0 0 0;\n",
       "      width: 32px;\n",
       "    }\n",
       "\n",
       "    .colab-df-convert:hover {\n",
       "      background-color: #E2EBFA;\n",
       "      box-shadow: 0px 1px 2px rgba(60, 64, 67, 0.3), 0px 1px 3px 1px rgba(60, 64, 67, 0.15);\n",
       "      fill: #174EA6;\n",
       "    }\n",
       "\n",
       "    [theme=dark] .colab-df-convert {\n",
       "      background-color: #3B4455;\n",
       "      fill: #D2E3FC;\n",
       "    }\n",
       "\n",
       "    [theme=dark] .colab-df-convert:hover {\n",
       "      background-color: #434B5C;\n",
       "      box-shadow: 0px 1px 3px 1px rgba(0, 0, 0, 0.15);\n",
       "      filter: drop-shadow(0px 1px 2px rgba(0, 0, 0, 0.3));\n",
       "      fill: #FFFFFF;\n",
       "    }\n",
       "  </style>\n",
       "\n",
       "      <script>\n",
       "        const buttonEl =\n",
       "          document.querySelector('#df-a85ab757-679f-4006-b4fa-542c188850a4 button.colab-df-convert');\n",
       "        buttonEl.style.display =\n",
       "          google.colab.kernel.accessAllowed ? 'block' : 'none';\n",
       "\n",
       "        async function convertToInteractive(key) {\n",
       "          const element = document.querySelector('#df-a85ab757-679f-4006-b4fa-542c188850a4');\n",
       "          const dataTable =\n",
       "            await google.colab.kernel.invokeFunction('convertToInteractive',\n",
       "                                                     [key], {});\n",
       "          if (!dataTable) return;\n",
       "\n",
       "          const docLinkHtml = 'Like what you see? Visit the ' +\n",
       "            '<a target=\"_blank\" href=https://colab.research.google.com/notebooks/data_table.ipynb>data table notebook</a>'\n",
       "            + ' to learn more about interactive tables.';\n",
       "          element.innerHTML = '';\n",
       "          dataTable['output_type'] = 'display_data';\n",
       "          await google.colab.output.renderOutput(dataTable, element);\n",
       "          const docLink = document.createElement('div');\n",
       "          docLink.innerHTML = docLinkHtml;\n",
       "          element.appendChild(docLink);\n",
       "        }\n",
       "      </script>\n",
       "    </div>\n",
       "  </div>\n",
       "  "
      ],
      "text/plain": [
       "                                                                   0  \\\n",
       "qid                                                    ABC01-01-0003   \n",
       "question                                       格闘家ボブ・サップの出身国はどこでしょう?   \n",
       "answer_entity                                                アメリカ合衆国   \n",
       "answer_candidates  [アメリカ合衆国, ミネソタ州, オンタリオ州, ペンシルベニア州, オレゴン州, ニューヨ...   \n",
       "original_question                              格闘家ボブ・サップの出身国はどこでしょう？   \n",
       "original_answer                                                 アメリカ   \n",
       "\n",
       "                                                                   1  \n",
       "qid                                                    ABC01-01-0004  \n",
       "question                         ロシア語で「城」という意味がある、ロシアの大統領府の別名は何でしょう?  \n",
       "answer_entity                                                  クレムリン  \n",
       "answer_candidates  [クレムリン, キエフ, 赤の広場, サンクトペテルブルク, モスクワ, 救世主ハリストス大...  \n",
       "original_question                ロシア語で「城」という意味がある、ロシアの大統領府の別名は何でしょう？  \n",
       "original_answer                                                クレムリン  "
      ]
     },
     "execution_count": 14,
     "metadata": {},
     "output_type": "execute_result"
    }
   ],
   "source": [
    "# Since data is written in lines separated by endlines, use `lines=True`\n",
    "df = pd.read_json(data_src, lines=True)\n",
    "df.head(2).T"
   ]
  },
  {
   "cell_type": "code",
   "execution_count": 15,
   "id": "92d239c9-27fd-4188-84c2-ef7ab8927c27",
   "metadata": {
    "colab": {
     "base_uri": "https://localhost:8080/"
    },
    "id": "92d239c9-27fd-4188-84c2-ef7ab8927c27",
    "outputId": "4826c87e-0e3c-43d7-e931-f104a0affd38"
   },
   "outputs": [
    {
     "name": "stdout",
     "output_type": "stream",
     "text": [
      "chp05_02/train_questions.nooa.json exists.\n"
     ]
    }
   ],
   "source": [
    "# Delete the \"original_answer\" keys, which causes some discrepancies between\n",
    "# train and dev splits\n",
    "if not Path(data_train_questions).is_file():\n",
    "    !jq 'del(.original_answer)' -c {data_src} > {data_train_questions}\n",
    "    print(\"Done\")\n",
    "else:\n",
    "    print(f\"{data_train_questions} exists.\")"
   ]
  },
  {
   "cell_type": "code",
   "execution_count": 16,
   "id": "81cd8808-658c-4d08-aefb-4cbec990c9aa",
   "metadata": {
    "colab": {
     "base_uri": "https://localhost:8080/",
     "height": 302
    },
    "id": "81cd8808-658c-4d08-aefb-4cbec990c9aa",
    "outputId": "d095ab83-da2e-4e10-dba9-cb3b4da93a51"
   },
   "outputs": [
    {
     "data": {
      "text/html": [
       "\n",
       "  <div id=\"df-a9275e5a-b518-4582-bb09-3e0c4471539d\">\n",
       "    <div class=\"colab-df-container\">\n",
       "      <div>\n",
       "<style scoped>\n",
       "    .dataframe tbody tr th:only-of-type {\n",
       "        vertical-align: middle;\n",
       "    }\n",
       "\n",
       "    .dataframe tbody tr th {\n",
       "        vertical-align: top;\n",
       "    }\n",
       "\n",
       "    .dataframe thead th {\n",
       "        text-align: right;\n",
       "    }\n",
       "</style>\n",
       "<table border=\"1\" class=\"dataframe\">\n",
       "  <thead>\n",
       "    <tr style=\"text-align: right;\">\n",
       "      <th></th>\n",
       "      <th>0</th>\n",
       "      <th>1</th>\n",
       "    </tr>\n",
       "  </thead>\n",
       "  <tbody>\n",
       "    <tr>\n",
       "      <th>qid</th>\n",
       "      <td>ABC01-01-0003</td>\n",
       "      <td>ABC01-01-0004</td>\n",
       "    </tr>\n",
       "    <tr>\n",
       "      <th>question</th>\n",
       "      <td>格闘家ボブ・サップの出身国はどこでしょう?</td>\n",
       "      <td>ロシア語で「城」という意味がある、ロシアの大統領府の別名は何でしょう?</td>\n",
       "    </tr>\n",
       "    <tr>\n",
       "      <th>answer_entity</th>\n",
       "      <td>アメリカ合衆国</td>\n",
       "      <td>クレムリン</td>\n",
       "    </tr>\n",
       "    <tr>\n",
       "      <th>answer_candidates</th>\n",
       "      <td>[アメリカ合衆国, ミネソタ州, オンタリオ州, ペンシルベニア州, オレゴン州, ニューヨ...</td>\n",
       "      <td>[クレムリン, キエフ, 赤の広場, サンクトペテルブルク, モスクワ, 救世主ハリストス大...</td>\n",
       "    </tr>\n",
       "    <tr>\n",
       "      <th>original_question</th>\n",
       "      <td>格闘家ボブ・サップの出身国はどこでしょう？</td>\n",
       "      <td>ロシア語で「城」という意味がある、ロシアの大統領府の別名は何でしょう？</td>\n",
       "    </tr>\n",
       "  </tbody>\n",
       "</table>\n",
       "</div>\n",
       "      <button class=\"colab-df-convert\" onclick=\"convertToInteractive('df-a9275e5a-b518-4582-bb09-3e0c4471539d')\"\n",
       "              title=\"Convert this dataframe to an interactive table.\"\n",
       "              style=\"display:none;\">\n",
       "        \n",
       "  <svg xmlns=\"http://www.w3.org/2000/svg\" height=\"24px\"viewBox=\"0 0 24 24\"\n",
       "       width=\"24px\">\n",
       "    <path d=\"M0 0h24v24H0V0z\" fill=\"none\"/>\n",
       "    <path d=\"M18.56 5.44l.94 2.06.94-2.06 2.06-.94-2.06-.94-.94-2.06-.94 2.06-2.06.94zm-11 1L8.5 8.5l.94-2.06 2.06-.94-2.06-.94L8.5 2.5l-.94 2.06-2.06.94zm10 10l.94 2.06.94-2.06 2.06-.94-2.06-.94-.94-2.06-.94 2.06-2.06.94z\"/><path d=\"M17.41 7.96l-1.37-1.37c-.4-.4-.92-.59-1.43-.59-.52 0-1.04.2-1.43.59L10.3 9.45l-7.72 7.72c-.78.78-.78 2.05 0 2.83L4 21.41c.39.39.9.59 1.41.59.51 0 1.02-.2 1.41-.59l7.78-7.78 2.81-2.81c.8-.78.8-2.07 0-2.86zM5.41 20L4 18.59l7.72-7.72 1.47 1.35L5.41 20z\"/>\n",
       "  </svg>\n",
       "      </button>\n",
       "      \n",
       "  <style>\n",
       "    .colab-df-container {\n",
       "      display:flex;\n",
       "      flex-wrap:wrap;\n",
       "      gap: 12px;\n",
       "    }\n",
       "\n",
       "    .colab-df-convert {\n",
       "      background-color: #E8F0FE;\n",
       "      border: none;\n",
       "      border-radius: 50%;\n",
       "      cursor: pointer;\n",
       "      display: none;\n",
       "      fill: #1967D2;\n",
       "      height: 32px;\n",
       "      padding: 0 0 0 0;\n",
       "      width: 32px;\n",
       "    }\n",
       "\n",
       "    .colab-df-convert:hover {\n",
       "      background-color: #E2EBFA;\n",
       "      box-shadow: 0px 1px 2px rgba(60, 64, 67, 0.3), 0px 1px 3px 1px rgba(60, 64, 67, 0.15);\n",
       "      fill: #174EA6;\n",
       "    }\n",
       "\n",
       "    [theme=dark] .colab-df-convert {\n",
       "      background-color: #3B4455;\n",
       "      fill: #D2E3FC;\n",
       "    }\n",
       "\n",
       "    [theme=dark] .colab-df-convert:hover {\n",
       "      background-color: #434B5C;\n",
       "      box-shadow: 0px 1px 3px 1px rgba(0, 0, 0, 0.15);\n",
       "      filter: drop-shadow(0px 1px 2px rgba(0, 0, 0, 0.3));\n",
       "      fill: #FFFFFF;\n",
       "    }\n",
       "  </style>\n",
       "\n",
       "      <script>\n",
       "        const buttonEl =\n",
       "          document.querySelector('#df-a9275e5a-b518-4582-bb09-3e0c4471539d button.colab-df-convert');\n",
       "        buttonEl.style.display =\n",
       "          google.colab.kernel.accessAllowed ? 'block' : 'none';\n",
       "\n",
       "        async function convertToInteractive(key) {\n",
       "          const element = document.querySelector('#df-a9275e5a-b518-4582-bb09-3e0c4471539d');\n",
       "          const dataTable =\n",
       "            await google.colab.kernel.invokeFunction('convertToInteractive',\n",
       "                                                     [key], {});\n",
       "          if (!dataTable) return;\n",
       "\n",
       "          const docLinkHtml = 'Like what you see? Visit the ' +\n",
       "            '<a target=\"_blank\" href=https://colab.research.google.com/notebooks/data_table.ipynb>data table notebook</a>'\n",
       "            + ' to learn more about interactive tables.';\n",
       "          element.innerHTML = '';\n",
       "          dataTable['output_type'] = 'display_data';\n",
       "          await google.colab.output.renderOutput(dataTable, element);\n",
       "          const docLink = document.createElement('div');\n",
       "          docLink.innerHTML = docLinkHtml;\n",
       "          element.appendChild(docLink);\n",
       "        }\n",
       "      </script>\n",
       "    </div>\n",
       "  </div>\n",
       "  "
      ],
      "text/plain": [
       "                                                                   0  \\\n",
       "qid                                                    ABC01-01-0003   \n",
       "question                                       格闘家ボブ・サップの出身国はどこでしょう?   \n",
       "answer_entity                                                アメリカ合衆国   \n",
       "answer_candidates  [アメリカ合衆国, ミネソタ州, オンタリオ州, ペンシルベニア州, オレゴン州, ニューヨ...   \n",
       "original_question                              格闘家ボブ・サップの出身国はどこでしょう？   \n",
       "\n",
       "                                                                   1  \n",
       "qid                                                    ABC01-01-0004  \n",
       "question                         ロシア語で「城」という意味がある、ロシアの大統領府の別名は何でしょう?  \n",
       "answer_entity                                                  クレムリン  \n",
       "answer_candidates  [クレムリン, キエフ, 赤の広場, サンクトペテルブルク, モスクワ, 救世主ハリストス大...  \n",
       "original_question                ロシア語で「城」という意味がある、ロシアの大統領府の別名は何でしょう？  "
      ]
     },
     "execution_count": 16,
     "metadata": {},
     "output_type": "execute_result"
    }
   ],
   "source": [
    "# Examine the changed data\n",
    "df = pd.read_json(data_train_questions, lines=True)\n",
    "df.head(2).T"
   ]
  },
  {
   "cell_type": "code",
   "execution_count": 17,
   "id": "49496682-2da8-4e99-ac44-9731c5cf311d",
   "metadata": {
    "colab": {
     "base_uri": "https://localhost:8080/"
    },
    "id": "49496682-2da8-4e99-ac44-9731c5cf311d",
    "outputId": "de7c21a7-6eec-4e94-cc7d-8db4786fda46"
   },
   "outputs": [
    {
     "name": "stdout",
     "output_type": "stream",
     "text": [
      "chp05_02/dev1_questions.json exists.\n"
     ]
    }
   ],
   "source": [
    "# book-link-changed\n",
    "if not data_dev1_src.is_file():\n",
    "    print(f\"Downloading {data_dev1_url}\")\n",
    "    subprocess.run(shlex.split(f\"wget -q -O {data_dev1_src} {data_dev1_url}\"))\n",
    "    print(\"Done.\")\n",
    "else:\n",
    "    print(f\"{data_dev1_src} exists.\")"
   ]
  },
  {
   "cell_type": "code",
   "execution_count": 18,
   "id": "ed91b976-9344-4712-9fb7-ea8c5192a328",
   "metadata": {
    "colab": {
     "base_uri": "https://localhost:8080/",
     "height": 229
    },
    "id": "ed91b976-9344-4712-9fb7-ea8c5192a328",
    "outputId": "6bed5d76-ee16-414a-a7ba-59e04a37ba62"
   },
   "outputs": [
    {
     "data": {
      "text/html": [
       "\n",
       "  <div id=\"df-2d92480a-dcef-4e7c-8bd6-71f9c9928b67\">\n",
       "    <div class=\"colab-df-container\">\n",
       "      <div>\n",
       "<style scoped>\n",
       "    .dataframe tbody tr th:only-of-type {\n",
       "        vertical-align: middle;\n",
       "    }\n",
       "\n",
       "    .dataframe tbody tr th {\n",
       "        vertical-align: top;\n",
       "    }\n",
       "\n",
       "    .dataframe thead th {\n",
       "        text-align: right;\n",
       "    }\n",
       "</style>\n",
       "<table border=\"1\" class=\"dataframe\">\n",
       "  <thead>\n",
       "    <tr style=\"text-align: right;\">\n",
       "      <th></th>\n",
       "      <th>qid</th>\n",
       "      <th>question</th>\n",
       "      <th>answer_entity</th>\n",
       "      <th>answer_candidates</th>\n",
       "      <th>original_question</th>\n",
       "    </tr>\n",
       "  </thead>\n",
       "  <tbody>\n",
       "    <tr>\n",
       "      <th>0</th>\n",
       "      <td>QA20CAPR-0002</td>\n",
       "      <td>明治時代に西洋から伝わった「テーブル・ターニング」に起源を持つ占いの一種で、50音表などを記...</td>\n",
       "      <td>コックリさん</td>\n",
       "      <td>[テケテケ, 毛羽毛現, ルームメイトの死, 浄玻璃鏡, 小玉鼠 (妖怪), ベッドの下の男...</td>\n",
       "      <td>明治時代に西洋から伝わった「テーブル・ターニング」に起源を持つ占いの一種で、50音表などを記...</td>\n",
       "    </tr>\n",
       "  </tbody>\n",
       "</table>\n",
       "</div>\n",
       "      <button class=\"colab-df-convert\" onclick=\"convertToInteractive('df-2d92480a-dcef-4e7c-8bd6-71f9c9928b67')\"\n",
       "              title=\"Convert this dataframe to an interactive table.\"\n",
       "              style=\"display:none;\">\n",
       "        \n",
       "  <svg xmlns=\"http://www.w3.org/2000/svg\" height=\"24px\"viewBox=\"0 0 24 24\"\n",
       "       width=\"24px\">\n",
       "    <path d=\"M0 0h24v24H0V0z\" fill=\"none\"/>\n",
       "    <path d=\"M18.56 5.44l.94 2.06.94-2.06 2.06-.94-2.06-.94-.94-2.06-.94 2.06-2.06.94zm-11 1L8.5 8.5l.94-2.06 2.06-.94-2.06-.94L8.5 2.5l-.94 2.06-2.06.94zm10 10l.94 2.06.94-2.06 2.06-.94-2.06-.94-.94-2.06-.94 2.06-2.06.94z\"/><path d=\"M17.41 7.96l-1.37-1.37c-.4-.4-.92-.59-1.43-.59-.52 0-1.04.2-1.43.59L10.3 9.45l-7.72 7.72c-.78.78-.78 2.05 0 2.83L4 21.41c.39.39.9.59 1.41.59.51 0 1.02-.2 1.41-.59l7.78-7.78 2.81-2.81c.8-.78.8-2.07 0-2.86zM5.41 20L4 18.59l7.72-7.72 1.47 1.35L5.41 20z\"/>\n",
       "  </svg>\n",
       "      </button>\n",
       "      \n",
       "  <style>\n",
       "    .colab-df-container {\n",
       "      display:flex;\n",
       "      flex-wrap:wrap;\n",
       "      gap: 12px;\n",
       "    }\n",
       "\n",
       "    .colab-df-convert {\n",
       "      background-color: #E8F0FE;\n",
       "      border: none;\n",
       "      border-radius: 50%;\n",
       "      cursor: pointer;\n",
       "      display: none;\n",
       "      fill: #1967D2;\n",
       "      height: 32px;\n",
       "      padding: 0 0 0 0;\n",
       "      width: 32px;\n",
       "    }\n",
       "\n",
       "    .colab-df-convert:hover {\n",
       "      background-color: #E2EBFA;\n",
       "      box-shadow: 0px 1px 2px rgba(60, 64, 67, 0.3), 0px 1px 3px 1px rgba(60, 64, 67, 0.15);\n",
       "      fill: #174EA6;\n",
       "    }\n",
       "\n",
       "    [theme=dark] .colab-df-convert {\n",
       "      background-color: #3B4455;\n",
       "      fill: #D2E3FC;\n",
       "    }\n",
       "\n",
       "    [theme=dark] .colab-df-convert:hover {\n",
       "      background-color: #434B5C;\n",
       "      box-shadow: 0px 1px 3px 1px rgba(0, 0, 0, 0.15);\n",
       "      filter: drop-shadow(0px 1px 2px rgba(0, 0, 0, 0.3));\n",
       "      fill: #FFFFFF;\n",
       "    }\n",
       "  </style>\n",
       "\n",
       "      <script>\n",
       "        const buttonEl =\n",
       "          document.querySelector('#df-2d92480a-dcef-4e7c-8bd6-71f9c9928b67 button.colab-df-convert');\n",
       "        buttonEl.style.display =\n",
       "          google.colab.kernel.accessAllowed ? 'block' : 'none';\n",
       "\n",
       "        async function convertToInteractive(key) {\n",
       "          const element = document.querySelector('#df-2d92480a-dcef-4e7c-8bd6-71f9c9928b67');\n",
       "          const dataTable =\n",
       "            await google.colab.kernel.invokeFunction('convertToInteractive',\n",
       "                                                     [key], {});\n",
       "          if (!dataTable) return;\n",
       "\n",
       "          const docLinkHtml = 'Like what you see? Visit the ' +\n",
       "            '<a target=\"_blank\" href=https://colab.research.google.com/notebooks/data_table.ipynb>data table notebook</a>'\n",
       "            + ' to learn more about interactive tables.';\n",
       "          element.innerHTML = '';\n",
       "          dataTable['output_type'] = 'display_data';\n",
       "          await google.colab.output.renderOutput(dataTable, element);\n",
       "          const docLink = document.createElement('div');\n",
       "          docLink.innerHTML = docLinkHtml;\n",
       "          element.appendChild(docLink);\n",
       "        }\n",
       "      </script>\n",
       "    </div>\n",
       "  </div>\n",
       "  "
      ],
      "text/plain": [
       "             qid                                           question  \\\n",
       "0  QA20CAPR-0002  明治時代に西洋から伝わった「テーブル・ターニング」に起源を持つ占いの一種で、50音表などを記...   \n",
       "\n",
       "  answer_entity                                  answer_candidates  \\\n",
       "0        コックリさん  [テケテケ, 毛羽毛現, ルームメイトの死, 浄玻璃鏡, 小玉鼠 (妖怪), ベッドの下の男...   \n",
       "\n",
       "                                   original_question  \n",
       "0  明治時代に西洋から伝わった「テーブル・ターニング」に起源を持つ占いの一種で、50音表などを記...  "
      ]
     },
     "execution_count": 18,
     "metadata": {},
     "output_type": "execute_result"
    }
   ],
   "source": [
    "# Examine the json data\n",
    "df = pd.read_json(data_dev1_path, lines=True)\n",
    "df.head(1)"
   ]
  },
  {
   "cell_type": "code",
   "execution_count": 19,
   "id": "abf8e529-4acc-4b0c-90d7-34aafdcfdf21",
   "metadata": {
    "colab": {
     "base_uri": "https://localhost:8080/"
    },
    "id": "abf8e529-4acc-4b0c-90d7-34aafdcfdf21",
    "outputId": "c2846024-f442-4402-f678-b1cc34a4bfd0"
   },
   "outputs": [
    {
     "data": {
      "text/plain": [
       "[{'qid': 'QA20CAPR-0002',\n",
       "  'question': '明治時代に西洋から伝わった「テーブル・ターニング」に起源を持つ占いの一種で、50音表などを記入した紙を置き、参加者全員の人差し指をコインに置いて行うのは何でしょう?',\n",
       "  'answer_entity': 'コックリさん',\n",
       "  'answer_candidates': ['テケテケ',\n",
       "   '毛羽毛現',\n",
       "   'ルームメイトの死',\n",
       "   '浄玻璃鏡',\n",
       "   '小玉鼠 (妖怪)',\n",
       "   'ベッドの下の男',\n",
       "   '板鬼',\n",
       "   '赤い紙、青い紙',\n",
       "   '縊鬼',\n",
       "   '疱瘡婆',\n",
       "   '紫ババア',\n",
       "   '塵塚怪王',\n",
       "   '辻神',\n",
       "   '耳から白い糸',\n",
       "   'コックリさん',\n",
       "   '紫の鏡',\n",
       "   '天井下り',\n",
       "   '野寺坊',\n",
       "   'ヨジババ',\n",
       "   'カシマさん'],\n",
       "  'original_question': '明治時代に西洋から伝わった「テーブル・ターニング」に起源を持つ占いの一種で、50音表などを記入した紙を置き、参加者全員の人差し指をコインに置いて行うのは何でしょう？'}]"
      ]
     },
     "execution_count": 19,
     "metadata": {},
     "output_type": "execute_result"
    }
   ],
   "source": [
    "# Create list of questions and answer\n",
    "qas = []\n",
    "with open(data_dev1_path) as f:\n",
    "    for line in f:\n",
    "        qas.append(json.loads(line))\n",
    "\n",
    "qas[:1]"
   ]
  },
  {
   "cell_type": "markdown",
   "id": "8b606feb-81ba-49d6-9b3f-b2bfd9e6750e",
   "metadata": {
    "id": "8b606feb-81ba-49d6-9b3f-b2bfd9e6750e"
   },
   "source": [
    "### evaluate() method:\n",
    "\n",
    "* Takes a list of questions and answers.\n",
    "* Evaluates the questions with the model and tokenizer.\n",
    "* Returns the number of answers the model got correct.\n"
   ]
  },
  {
   "cell_type": "code",
   "execution_count": 20,
   "id": "27492f6c-25b3-4f2d-8883-0f223a2c843e",
   "metadata": {
    "id": "27492f6c-25b3-4f2d-8883-0f223a2c843e"
   },
   "outputs": [],
   "source": [
    "def evaluate(qas, model, tokenizer, stop_at=None, show_preview=False):\n",
    "    \"\"\"\n",
    "    Takes a list of questions and answers.\n",
    "    Evaluates the questions with the model and tokenizer.\n",
    "    Returns the number of answers the model get correct.\n",
    "    \"\"\"\n",
    "    num_correct = 0\n",
    "    num_questions = 0\n",
    "    \n",
    "    for qa in tqdm(qas):\n",
    "        question = qa[\"question\"]\n",
    "        candidates = qa[\"answer_candidates\"]\n",
    "        gold = qa[\"answer_entity\"]\n",
    "        preds = rank_answers(question, candidates, model, tokenizer)\n",
    "        is_correct = preds[0] == gold\n",
    "        if is_correct:\n",
    "            num_correct += 1\n",
    "        if show_preview and num_questions < 5:\n",
    "            tqdm.write(\n",
    "                f\" is_correct: {is_correct}, gold: {gold}, Q: {question}, pred: {preds[:5]},\"\n",
    "            )\n",
    "\n",
    "        num_questions += 1\n",
    "                \n",
    "        if stop_at is not None and num_questions == stop_at:\n",
    "            break\n",
    "        \n",
    "    tqdm.write(\n",
    "        f\" Success rate = {100 * num_correct / num_questions}% ({num_correct} / {num_questions})\"\n",
    "    )"
   ]
  },
  {
   "cell_type": "markdown",
   "id": "JKvOSDWmk7iZ",
   "metadata": {
    "id": "JKvOSDWmk7iZ"
   },
   "source": [
    "### Evaluate using an untuned Rinna model (Japanese GPT-2 autoregressive language model)\n"
   ]
  },
  {
   "cell_type": "code",
   "execution_count": 21,
   "id": "16a1f079-e7ee-4c70-8ba8-e387cc42c76a",
   "metadata": {
    "colab": {
     "base_uri": "https://localhost:8080/"
    },
    "id": "16a1f079-e7ee-4c70-8ba8-e387cc42c76a",
    "outputId": "10e947b6-fac8-4f03-b59f-2551f0cbae11"
   },
   "outputs": [
    {
     "name": "stderr",
     "output_type": "stream",
     "text": [
      "  0%|          | 1/995 [00:08<2:19:09,  8.40s/it]"
     ]
    },
    {
     "name": "stdout",
     "output_type": "stream",
     "text": [
      " is_correct: False, gold: コックリさん, Q: 明治時代に西洋から伝わった「テーブル・ターニング」に起源を持つ占いの一種で、50音表などを記入した紙を置き、参加者全員の人差し指をコインに置いて行うのは何でしょう?, pred: ['テケテケ', '赤い紙、青い紙', 'コックリさん', '小玉鼠 (妖怪)', 'ヨジババ'],\n"
     ]
    },
    {
     "name": "stderr",
     "output_type": "stream",
     "text": [
      "  0%|          | 2/995 [00:14<1:52:30,  6.80s/it]"
     ]
    },
    {
     "name": "stdout",
     "output_type": "stream",
     "text": [
      " is_correct: False, gold: 集英社, Q: 『non・no』『週刊プレイボーイ』『週刊少年ジャンプ』といえば、発行している出版社はどこでしょう?, pred: ['実業之日本社', '白泉社', '宝島社', '日本文芸社', '幻冬舎'],\n"
     ]
    },
    {
     "name": "stderr",
     "output_type": "stream",
     "text": [
      "  0%|          | 3/995 [00:24<2:21:01,  8.53s/it]"
     ]
    },
    {
     "name": "stdout",
     "output_type": "stream",
     "text": [
      " is_correct: False, gold: SASUKE, Q: 「パイプスライダー」や「そり立つ壁」などの関門がある、TBS系列で不定期に放送されている視聴者参加型のTV番組は何でしょう?, pred: ['最強の男は誰だ!壮絶筋肉バトル!!スポーツマンNo.1決定戦', '究極の男は誰だ!?最強スポーツ男子頂上決戦', 'SASUKE', '島田紳助がオールスターの皆様に芸能界の厳しさ教えますスペシャル!', 'クイズ王最強決定戦〜THE OPEN〜'],\n"
     ]
    },
    {
     "name": "stderr",
     "output_type": "stream",
     "text": [
      "  0%|          | 4/995 [00:32<2:17:51,  8.35s/it]"
     ]
    },
    {
     "name": "stdout",
     "output_type": "stream",
     "text": [
      " is_correct: False, gold: 浅草寺, Q: 東京都内では最も古い歴史を持つ寺院でもある、入口にある「雷門」で有名な観光名所は何でしょう?, pred: ['天龍寺 (新宿区)', '大龍寺 (東京都北区)', '大円寺 (目黒区)', '源覚寺 (文京区)', '浅草寺'],\n"
     ]
    },
    {
     "name": "stderr",
     "output_type": "stream",
     "text": [
      "  1%|          | 5/995 [00:39<2:05:25,  7.60s/it]"
     ]
    },
    {
     "name": "stdout",
     "output_type": "stream",
     "text": [
      " is_correct: False, gold: グラタン, Q: 「鍋についたおこげ」という意味の言葉が語源であるとされる、日本ではマカロニを使ったものが一般的な西洋料理は何でしょう?, pred: ['オムレツ', 'ポテトサラダ', 'ロールキャベツ', 'フレンチトースト', 'スパゲッティ'],\n"
     ]
    },
    {
     "name": "stderr",
     "output_type": "stream",
     "text": [
      " 10%|▉         | 99/995 [11:25<1:43:21,  6.92s/it]"
     ]
    },
    {
     "name": "stdout",
     "output_type": "stream",
     "text": [
      " Success rate = 13.0% (13 / 100)\n",
      "\n",
      "Done\n"
     ]
    },
    {
     "name": "stderr",
     "output_type": "stream",
     "text": [
      "\n"
     ]
    }
   ],
   "source": [
    "if IS_COLAB:\n",
    "    stop_n= 100\n",
    "else:\n",
    "    stop_n = 10\n",
    "\n",
    "evaluate(\n",
    "    qas, \n",
    "    model_untuned, \n",
    "    tokenizer, \n",
    "    stop_at=stop_n, \n",
    "    show_preview=True\n",
    ")\n",
    "\n",
    "print()\n",
    "print(\"Done\")\n",
    "\n",
    "# Success rate = 13.0% (13 / 100)"
   ]
  },
  {
   "cell_type": "markdown",
   "id": "dffeed6b-733d-4164-8270-f9a8b9f1546d",
   "metadata": {
    "id": "dffeed6b-733d-4164-8270-f9a8b9f1546d"
   },
   "source": [
    "<a name='5.2.2'></a><a id='5.2.2'></a>\n",
    "## 5.2.2 How to Fine-tune the Rinna Language Model for Solving QA\n",
    "<a href=\"#top\">[back to top]</a>\n",
    "\n",
    "* We can improve Rinna and any other pretrained model by showing it examples and optimize its parameters. \n",
    "* This is called *fine-tuning* and is the most common way to adapt a pretrained model to another task.\n",
    "* We first load the JAQKET dataset in JSONL format with the HuggingFace dataset library. \n",
    "* Then we fine-tune the model by presenting the [question_text][answer_text] pair to the language model.\n",
    "* Then we tokenize the concatenated text field.\n",
    "* Then we fine-tune the model. \n",
    "* We specify some hyper-parameters with `TrainingArguments`, create a `Trainer` instance, and invoke the `.train()` method. \n",
    "* This training may take an hour even on a fast GPU.\n",
    "\n",
    "**Reference: class transformers.Trainer API** \n",
    "\n",
    "* https://huggingface.co/docs/transformers/main_classes/trainer\n",
    "* https://huggingface.co/docs/transformers/v4.25.1/en/main_classes/trainer#transformers.Trainer"
   ]
  },
  {
   "cell_type": "code",
   "execution_count": 22,
   "id": "f734c6bf-9a7f-420e-9ac1-40c76cdc7202",
   "metadata": {
    "colab": {
     "base_uri": "https://localhost:8080/",
     "height": 75,
     "referenced_widgets": [
      "21a80d1070024ffbb6714db3b5a5537f",
      "a7f4cdfddb66444f903162bd7f11fe0c",
      "fedff31772994d44815f384ced83ddf9",
      "acfc73ee581c4eae96fbef85a513d853",
      "ba61e90026654caeae12e89ec2a207da",
      "802b7dbce9084e2082e831bf535eb642",
      "7706a5ae3a924884b714c04d0ab56d94",
      "19555b5398d24c87b3f1d8ff85a805f0",
      "3d4a8029a00747758249131df22a328d",
      "9f31f37914ac4d59a8808a6f13e83b71",
      "95972dda4a8841a9b4469873ab1f9f8e",
      "076b81cb59d449aea25058ca54dfcb7c",
      "10a0af27930243a4bc234866a6764413",
      "23dd8a392b644d918ae497d12e806fca",
      "5f8d528614fc47bb9a55d90b3f42461c",
      "58973cbcb3944ec7bca84a3bdb6d4d33",
      "3bf8659f1c6c4271ac2959a0b2f1e650",
      "9a87c210876d4e3cb4ed1df00c4b74cb",
      "ee79c2b565f04b9586036e88f67c67c5",
      "96eb084eb5384eb2a46d142046ed7ca9",
      "147d63bfc00f452e82ba2cb66ffc9b30",
      "4a43ba294bff4e9094075f0e91fdd569"
     ]
    },
    "id": "f734c6bf-9a7f-420e-9ac1-40c76cdc7202",
    "outputId": "555c8a9f-b522-4571-a44c-0214ed177626"
   },
   "outputs": [
    {
     "name": "stdout",
     "output_type": "stream",
     "text": [
      "Downloading and preparing dataset json/default (download: Unknown size, generated: Unknown size, post-processed: Unknown size, total: Unknown size) to /root/.cache/huggingface/datasets/json/default-965b7ebc83817b2c/0.0.0/45636811569ec4a6630521c18235dfbbab83b7ab572e3393c5ba68ccabe98264...\n"
     ]
    },
    {
     "data": {
      "application/vnd.jupyter.widget-view+json": {
       "model_id": "21a80d1070024ffbb6714db3b5a5537f",
       "version_major": 2,
       "version_minor": 0
      },
      "text/plain": [
       "0 tables [00:00, ? tables/s]"
      ]
     },
     "metadata": {},
     "output_type": "display_data"
    },
    {
     "data": {
      "application/vnd.jupyter.widget-view+json": {
       "model_id": "076b81cb59d449aea25058ca54dfcb7c",
       "version_major": 2,
       "version_minor": 0
      },
      "text/plain": [
       "0 tables [00:00, ? tables/s]"
      ]
     },
     "metadata": {},
     "output_type": "display_data"
    },
    {
     "name": "stdout",
     "output_type": "stream",
     "text": [
      "Dataset json downloaded and prepared to /root/.cache/huggingface/datasets/json/default-965b7ebc83817b2c/0.0.0/45636811569ec4a6630521c18235dfbbab83b7ab572e3393c5ba68ccabe98264. Subsequent calls will reuse this data.\n"
     ]
    }
   ],
   "source": [
    "# Load the JAQKET dataset in the JSONL format with HuggingFace\n",
    "dataset = load_dataset(\n",
    "    'json',\n",
    "    data_files = {\n",
    "        'train': str(data_train_questions),\n",
    "        'valid': str(data_dev1_path)\n",
    "    }\n",
    ")"
   ]
  },
  {
   "cell_type": "code",
   "execution_count": 23,
   "id": "085ad19d-0f4d-48f3-8dd1-dabcc27db21b",
   "metadata": {
    "colab": {
     "base_uri": "https://localhost:8080/"
    },
    "id": "085ad19d-0f4d-48f3-8dd1-dabcc27db21b",
    "outputId": "3d30bec5-4d36-4215-a57d-0f996282a75d"
   },
   "outputs": [
    {
     "name": "stdout",
     "output_type": "stream",
     "text": [
      "(13061, 5)\n"
     ]
    },
    {
     "data": {
      "text/plain": [
       "{'qid': 'ABC12-04-0400',\n",
       " 'question': '昨年シングル『HANDS UP!』でデビューし、日本レコード大賞最優秀新人賞を受賞した歌手は誰でしょう?',\n",
       " 'answer_entity': '新里宏太',\n",
       " 'answer_candidates': ['新里宏太',\n",
       "  '橋本裕太',\n",
       "  'FUKI',\n",
       "  '川本璃',\n",
       "  '中崎祐衣',\n",
       "  '田中雅功',\n",
       "  'Cloe',\n",
       "  '福留仁菜',\n",
       "  '歩乃圭',\n",
       "  'LUHICA',\n",
       "  'SORA (歌手)',\n",
       "  'まつもとななみ',\n",
       "  '武藤千春',\n",
       "  '野元空',\n",
       "  '果山サキ',\n",
       "  '松崎梨央',\n",
       "  '番匠谷紗衣',\n",
       "  '安倍川緑',\n",
       "  '高萩千夏',\n",
       "  '井上理香子'],\n",
       " 'original_question': '昨年（2013年）シングル『HANDS UP！』でデビューし、日本レコード大賞最優秀新人賞を受賞した歌手は誰でしょう？'}"
      ]
     },
     "execution_count": 23,
     "metadata": {},
     "output_type": "execute_result"
    }
   ],
   "source": [
    "# Inspect the data\n",
    "print(dataset['train'].shape)\n",
    "dataset['train'][-1] # last entry"
   ]
  },
  {
   "cell_type": "code",
   "execution_count": 24,
   "id": "25ad0239-410d-4b08-a684-b67003c51fe7",
   "metadata": {
    "colab": {
     "base_uri": "https://localhost:8080/",
     "height": 81,
     "referenced_widgets": [
      "d54594254f0a4c558d3583ae486df02d",
      "dfc7bf2e3d764209bd127711d4ba108b",
      "73202818a24546619b8f2de8d65bdc67",
      "09e7f15d89034fa6948350e81b7132a7",
      "91232db3a32547b795229cae56876fa0",
      "b711a94fbdd044b6a8348578ab1795a4",
      "1c17a90253b24a018f789b4b09a168a5",
      "c28c46a28cc6438781190f9015bda985",
      "400d67cd8b914c02b3d0897be454711a",
      "de90f7838893489ca726d35df369bea7",
      "153f5d82a38f47ddbed2758216433bd2",
      "a8bfbfe06774461c9103d6309e6b274a",
      "03975f462fa14475ab023e7b7a4ee3d3",
      "2ff84a46905141e986e46def909866d1",
      "1e85be6543db4e75854bf672647b9103",
      "9c6de514ec42401a94124756352ef18b",
      "392c5c2acc164c4eb9c9dbc62e7ce445",
      "8f948727806b4df9aeec68fdb056f498",
      "fcc1b7f5d10a4cf4b6992c96096ff857",
      "bcef5807f00d4a91a96fa191ff83095c",
      "9a116504f0bc40f88fa24465a0139b44",
      "c369ece31f244965a4ceccdef99f6c6d"
     ]
    },
    "id": "25ad0239-410d-4b08-a684-b67003c51fe7",
    "outputId": "c5821921-9231-406c-bf98-c3133fccbc51"
   },
   "outputs": [
    {
     "data": {
      "application/vnd.jupyter.widget-view+json": {
       "model_id": "d54594254f0a4c558d3583ae486df02d",
       "version_major": 2,
       "version_minor": 0
      },
      "text/plain": [
       "  0%|          | 0/13061 [00:00<?, ?ex/s]"
      ]
     },
     "metadata": {},
     "output_type": "display_data"
    },
    {
     "data": {
      "application/vnd.jupyter.widget-view+json": {
       "model_id": "a8bfbfe06774461c9103d6309e6b274a",
       "version_major": 2,
       "version_minor": 0
      },
      "text/plain": [
       "  0%|          | 0/995 [00:00<?, ?ex/s]"
      ]
     },
     "metadata": {},
     "output_type": "display_data"
    }
   ],
   "source": [
    "dataset = dataset.map(\n",
    "    lambda example: {\"text\": example[\"question\"] + example[\"answer_entity\"]}\n",
    ")"
   ]
  },
  {
   "cell_type": "code",
   "execution_count": 26,
   "id": "de9a5057-4d3b-4786-a1bb-49a1ca89c15c",
   "metadata": {
    "colab": {
     "base_uri": "https://localhost:8080/"
    },
    "id": "de9a5057-4d3b-4786-a1bb-49a1ca89c15c",
    "outputId": "0f065ec8-d038-49c8-e8f0-7414113b6b4d"
   },
   "outputs": [
    {
     "data": {
      "text/plain": [
       "DatasetDict({\n",
       "    train: Dataset({\n",
       "        features: ['qid', 'question', 'answer_entity', 'answer_candidates', 'original_question', 'text'],\n",
       "        num_rows: 13061\n",
       "    })\n",
       "    valid: Dataset({\n",
       "        features: ['qid', 'question', 'answer_entity', 'answer_candidates', 'original_question', 'text'],\n",
       "        num_rows: 995\n",
       "    })\n",
       "})"
      ]
     },
     "execution_count": 26,
     "metadata": {},
     "output_type": "execute_result"
    }
   ],
   "source": [
    "# Check the dataset\n",
    "dataset"
   ]
  },
  {
   "cell_type": "code",
   "execution_count": 27,
   "id": "26df8784-bfee-4745-bd08-be8d5236b99f",
   "metadata": {
    "colab": {
     "base_uri": "https://localhost:8080/"
    },
    "id": "26df8784-bfee-4745-bd08-be8d5236b99f",
    "outputId": "9104dfcc-f3d6-4e25-8220-f8830148d680"
   },
   "outputs": [
    {
     "name": "stdout",
     "output_type": "stream",
     "text": [
      "Dataset({\n",
      "    features: ['answer_candidates', 'answer_entity', 'attention_mask', 'input_ids', 'labels', 'original_question', 'qid', 'question', 'text'],\n",
      "    num_rows: 13061\n",
      "})\n"
     ]
    }
   ],
   "source": [
    "max_length = 256\n",
    "\n",
    "# It is important to return the 'label' field.\n",
    "# This a copy of the input_ids field.\n",
    "# The language model is trained by scoring it based on its ability \n",
    "# to reproduce 'label' token by token.\n",
    "def tokenize_function(examples):\n",
    "    inputs = tokenizer(\n",
    "        examples[\"text\"],\n",
    "        max_length=max_length,\n",
    "        padding=\"max_length\",\n",
    "        trucation=True,\n",
    "        return_tensors=\"np\",\n",
    "    )\n",
    "    labels = inputs.input_ids.copy()\n",
    "    labels[labels == tokenizer.pad_token_id] = -100\n",
    "    return {\n",
    "        \"input_ids\": inputs[\"input_ids\"],\n",
    "        \"attention_mask\": inputs[\"attention_mask\"],\n",
    "        \"labels\": labels,\n",
    "    }\n",
    "\n",
    "# Batch process the dataset\n",
    "tokenized_dataset = dataset.map(\n",
    "    tokenize_function,\n",
    "    batched=True,\n",
    "    batch_size=8,\n",
    "    num_proc=4\n",
    ")\n",
    "\n",
    "print(tokenized_dataset[\"train\"])"
   ]
  },
  {
   "cell_type": "code",
   "execution_count": 27,
   "id": "9da7642b-ec83-4a9b-880b-68305dbef394",
   "metadata": {
    "colab": {
     "base_uri": "https://localhost:8080/"
    },
    "id": "9da7642b-ec83-4a9b-880b-68305dbef394",
    "outputId": "dddeb1db-36b2-4f4f-ee65-99f7ef1ef43a"
   },
   "outputs": [
    {
     "name": "stdout",
     "output_type": "stream",
     "text": [
      "[9, 8355, 149, 9255, 13, 209, 2872, 10, 550, 115, 11, 5964, 16744, 3017, 886, 2, 3, 3, 3, 3, 3, 3, 3, 3, 3, 3, 3, 3, 3, 3, 3, 3, 3, 3, 3, 3, 3, 3, 3, 3, 3, 3, 3, 3, 3, 3, 3, 3, 3, 3, 3, 3, 3, 3, 3, 3, 3, 3, 3, 3, 3, 3, 3, 3, 3, 3, 3, 3, 3, 3, 3, 3, 3, 3, 3, 3, 3, 3, 3, 3, 3, 3, 3, 3, 3, 3, 3, 3, 3, 3, 3, 3, 3, 3, 3, 3, 3, 3, 3, 3, 3, 3, 3, 3, 3, 3, 3, 3, 3, 3, 3, 3, 3, 3, 3, 3, 3, 3, 3, 3, 3, 3, 3, 3, 3, 3, 3, 3, 3, 3, 3, 3, 3, 3, 3, 3, 3, 3, 3, 3, 3, 3, 3, 3, 3, 3, 3, 3, 3, 3, 3, 3, 3, 3, 3, 3, 3, 3, 3, 3, 3, 3, 3, 3, 3, 3, 3, 3, 3, 3, 3, 3, 3, 3, 3, 3, 3, 3, 3, 3, 3, 3, 3, 3, 3, 3, 3, 3, 3, 3, 3, 3, 3, 3, 3, 3, 3, 3, 3, 3, 3, 3, 3, 3, 3, 3, 3, 3, 3, 3, 3, 3, 3, 3, 3, 3, 3, 3, 3, 3, 3, 3, 3, 3, 3, 3, 3, 3, 3, 3, 3, 3, 3, 3, 3, 3, 3, 3, 3, 3, 3, 3, 3, 3, 3, 3, 3, 3, 3, 3, 3, 3, 3, 3, 3, 3]\n"
     ]
    }
   ],
   "source": [
    "# Each input has the padding token (id:3).\n",
    "# This is to ensure same length in all instances of a batch.\n",
    "print(tokenized_dataset[\"train\"][0][\"input_ids\"])"
   ]
  },
  {
   "cell_type": "code",
   "execution_count": 28,
   "id": "75793d87-2e29-4d8b-ac84-9db8347d3869",
   "metadata": {
    "colab": {
     "base_uri": "https://localhost:8080/"
    },
    "id": "75793d87-2e29-4d8b-ac84-9db8347d3869",
    "outputId": "464a99a4-b42d-40b3-afc4-1a1294d9d87b"
   },
   "outputs": [
    {
     "name": "stdout",
     "output_type": "stream",
     "text": [
      "chp05_02/model_best exists and skipping model retraining.\n"
     ]
    }
   ],
   "source": [
    "# Fine-tune the model\n",
    "model_best_pathway = data_dir / \"model_best\"\n",
    "model_retrain = False\n",
    "\n",
    "if model_best_pathway.is_dir() and not model_retrain:\n",
    "    print(f\"{model_best_pathway} exists and skipping model retraining.\")\n",
    "else:\n",
    "    print(\"Fine-tuning model rinna_japanese_gpt2_mediumfinetuned\")\n",
    "    HR()\n",
    "\n",
    "    # 1. Create transformers.training_args.TrainingArguments\n",
    "    training_args = TrainingArguments(\n",
    "        output_dir = data_dir / \"models\" / \"rinna_japanese_gpt2_mediumfinetuned\",\n",
    "        num_train_epochs = 3,\n",
    "        evaluation_strategy = \"steps\",\n",
    "        learning_rate = 0.00005,\n",
    "        warmup_steps = 1000,\n",
    "        per_device_train_batch_size = 6,\n",
    "        eval_steps = 200,\n",
    "        logging_steps = 200,\n",
    "        save_strategy = \"no\"\n",
    "    )\n",
    "\n",
    "    # 2. Create transformers.trainer.Trainer\n",
    "    trainer = Trainer(\n",
    "        model = model,\n",
    "        args = training_args,\n",
    "        train_dataset = tokenized_dataset[\"train\"],\n",
    "        eval_dataset = tokenized_dataset[\"valid\"],\n",
    "    )\n",
    "\n",
    "    # 3. Train the model\n",
    "    # This may take over an hour on a GPU (2.5H on Colab)\n",
    "    print(\"Start training\")\n",
    "    trainer.train()\n",
    "    print(\"Done training\")\n",
    "    HR()\n",
    "\n",
    "    # 4. Save model\n",
    "    # Configuration saved in chp05_02/model_best/config.json\n",
    "    # Model weights saved in chp05_02/model_best/pytorch_model.bin\n",
    "    print(\"Saving model.\")\n",
    "    trainer.save_model(\"chp05_02/model_best\")\n",
    "    print(\"Model saved.\")\n",
    "\n",
    "    # Last few iterations:\n",
    "    # Step \tTraining Loss \tValidation Loss\n",
    "    # 200 \t2.531400 \t    2.994833\n",
    "    # 400 \t2.286800 \t    3.030425\n",
    "    # ...\n",
    "    # 6200 \t1.369500 \t    3.148371\n",
    "    # 6400 \t1.377600 \t    3.144541"
   ]
  },
  {
   "cell_type": "markdown",
   "id": "mCyeLZlds7SY",
   "metadata": {
    "id": "mCyeLZlds7SY"
   },
   "source": [
    "<a name='5.2.2.1'></a><a id='5.2.2.1'></a>\n",
    "### 5.2.2.1 Checking created artifacts\n",
    "<a href=\"#top\">[back to top]</a>"
   ]
  },
  {
   "cell_type": "code",
   "execution_count": 29,
   "id": "KIwis_yNfiV9",
   "metadata": {
    "colab": {
     "base_uri": "https://localhost:8080/"
    },
    "id": "KIwis_yNfiV9",
    "outputId": "d9f1c068-82ce-4b5b-d790-a9ad539af3f0"
   },
   "outputs": [
    {
     "name": "stdout",
     "output_type": "stream",
     "text": [
      "chp05_02\n",
      "├── dev1_questions.json\n",
      "├── model_best\n",
      "│   ├── config.json\n",
      "│   ├── pytorch_model.bin\n",
      "│   └── training_args.bin\n",
      "├── models\n",
      "│   └── rinna_japanese_gpt2_mediumfinetuned\n",
      "│       └── runs\n",
      "│           ├── Dec07_12-39-07_52aa230d979d\n",
      "│           │   ├── 1670416747.7148376\n",
      "│           │   │   └── events.out.tfevents.1670416747.52aa230d979d.608.1\n",
      "│           │   └── events.out.tfevents.1670416747.52aa230d979d.608.0\n",
      "│           └── Dec08_02-26-07_98d2b8421872\n",
      "│               ├── 1670466367.9504054\n",
      "│               │   └── events.out.tfevents.1670466367.98d2b8421872.806.1\n",
      "│               └── events.out.tfevents.1670466367.98d2b8421872.806.0\n",
      "├── requirements_5_5_2.txt\n",
      "├── requirements_5_5_3.txt\n",
      "├── train_questions.json\n",
      "└── train_questions.nooa.json\n",
      "\n",
      "8 directories, 12 files\n"
     ]
    }
   ],
   "source": [
    "!tree chp05_02"
   ]
  },
  {
   "cell_type": "markdown",
   "id": "ToJ070yusrOo",
   "metadata": {
    "id": "ToJ070yusrOo"
   },
   "source": [
    "<a name='5.2.2.2'></a><a id='5.2.2.2'></a>\n",
    "### 5.2.2.2 Saving artifacts to Google Drive\n",
    "<a href=\"#top\">[back to top]</a>\n",
    "\n",
    "https://drive.google.com/drive/my-drive"
   ]
  },
  {
   "cell_type": "code",
   "execution_count": 30,
   "id": "zPkKej8YsnCW",
   "metadata": {
    "id": "zPkKej8YsnCW"
   },
   "outputs": [],
   "source": [
    "# Set PUSH_TO_GD to True if you want to push chp05_02 to Google Drive \n",
    "PUSH_TO_GD = False\n",
    "if IS_COLAB and PUSH_TO_GD:\n",
    "    from google.colab import drive\n",
    "    drive.mount('/content/drive', force_remount=True)\n",
    "    HR()\n",
    "\n",
    "    print(\"Overwriting /content/drive/MyDrive/chp05_02\")\n",
    "    !cp -R /content/chp05_02  /content/drive/MyDrive\n",
    "    HR()\n",
    "\n",
    "    print(\"Check contents of chp05_02:\")\n",
    "    !du -ah /content/drive/MyDrive/chp05_02 --max-depth=2 | sort -h"
   ]
  },
  {
   "cell_type": "markdown",
   "id": "QYmPpg-Qzrsn",
   "metadata": {
    "id": "QYmPpg-Qzrsn"
   },
   "source": [
    "### Load best model\n",
    "\n",
    "Make sure we can reload the saved mode.\n",
    "\n",
    "https://discuss.huggingface.co/t/how-to-save-my-model-to-use-it-later/20568/8"
   ]
  },
  {
   "cell_type": "code",
   "execution_count": 35,
   "id": "DsK6xm6BGAL8",
   "metadata": {
    "colab": {
     "base_uri": "https://localhost:8080/"
    },
    "id": "DsK6xm6BGAL8",
    "outputId": "0e9e3fa4-f588-4668-ddaa-be53a47bf9da"
   },
   "outputs": [
    {
     "name": "stdout",
     "output_type": "stream",
     "text": [
      "total 1337712\n",
      "-rw------- 1 root root        869 Dec  8 05:21 config.json\n",
      "-rw------- 1 root root 1369803165 Dec  8 05:22 pytorch_model.bin\n",
      "-rw------- 1 root root       2747 Dec  8 05:22 training_args.bin\n"
     ]
    }
   ],
   "source": [
    "!ls -l chp05_02/model_best"
   ]
  },
  {
   "cell_type": "code",
   "execution_count": 36,
   "id": "GofdbJRvz7BB",
   "metadata": {
    "colab": {
     "base_uri": "https://localhost:8080/"
    },
    "id": "GofdbJRvz7BB",
    "outputId": "3a6689df-1748-4cff-c35b-c50abb464867"
   },
   "outputs": [
    {
     "name": "stdout",
     "output_type": "stream",
     "text": [
      "Loading model.\n"
     ]
    }
   ],
   "source": [
    "print(\"Loading model.\")\n",
    "model_tuned = AutoModelForCausalLM.from_pretrained(model_best_pathway)"
   ]
  },
  {
   "cell_type": "markdown",
   "id": "t2_I62WelvjD",
   "metadata": {
    "id": "t2_I62WelvjD"
   },
   "source": [
    "### Evaluate using a tuned Rinna model"
   ]
  },
  {
   "cell_type": "code",
   "execution_count": 37,
   "id": "2dd39f75-0cbd-4acf-96f4-0e35e83890ed",
   "metadata": {
    "colab": {
     "base_uri": "https://localhost:8080/"
    },
    "id": "2dd39f75-0cbd-4acf-96f4-0e35e83890ed",
    "outputId": "88539d4b-29a6-4cbb-b2a2-959fc750c028"
   },
   "outputs": [
    {
     "name": "stderr",
     "output_type": "stream",
     "text": [
      "  0%|          | 1/995 [00:07<2:05:59,  7.61s/it]"
     ]
    },
    {
     "name": "stdout",
     "output_type": "stream",
     "text": [
      " is_correct: True, gold: コックリさん, Q: 明治時代に西洋から伝わった「テーブル・ターニング」に起源を持つ占いの一種で、50音表などを記入した紙を置き、参加者全員の人差し指をコインに置いて行うのは何でしょう?, pred: ['コックリさん', 'テケテケ', '赤い紙、青い紙', '小玉鼠 (妖怪)', 'ルームメイトの死'],\n"
     ]
    },
    {
     "name": "stderr",
     "output_type": "stream",
     "text": [
      "  0%|          | 2/995 [00:13<1:47:53,  6.52s/it]"
     ]
    },
    {
     "name": "stdout",
     "output_type": "stream",
     "text": [
      " is_correct: True, gold: 集英社, Q: 『non・no』『週刊プレイボーイ』『週刊少年ジャンプ』といえば、発行している出版社はどこでしょう?, pred: ['集英社', '白泉社', '日本文芸社', '小学館', '実業之日本社'],\n"
     ]
    },
    {
     "name": "stderr",
     "output_type": "stream",
     "text": [
      "  0%|          | 3/995 [00:23<2:17:29,  8.32s/it]"
     ]
    },
    {
     "name": "stdout",
     "output_type": "stream",
     "text": [
      " is_correct: True, gold: SASUKE, Q: 「パイプスライダー」や「そり立つ壁」などの関門がある、TBS系列で不定期に放送されている視聴者参加型のTV番組は何でしょう?, pred: ['SASUKE', '究極の男は誰だ!?最強スポーツ男子頂上決戦', '最強の男は誰だ!壮絶筋肉バトル!!スポーツマンNo.1決定戦', 'サスケマニア', '筋肉番付シリーズ'],\n"
     ]
    },
    {
     "name": "stderr",
     "output_type": "stream",
     "text": [
      "  0%|          | 4/995 [00:31<2:14:11,  8.13s/it]"
     ]
    },
    {
     "name": "stdout",
     "output_type": "stream",
     "text": [
      " is_correct: True, gold: 浅草寺, Q: 東京都内では最も古い歴史を持つ寺院でもある、入口にある「雷門」で有名な観光名所は何でしょう?, pred: ['浅草寺', '天龍寺 (新宿区)', '今戸神社', '天現寺', '大円寺 (目黒区)'],\n"
     ]
    },
    {
     "name": "stderr",
     "output_type": "stream",
     "text": [
      "  1%|          | 5/995 [00:38<2:04:19,  7.53s/it]"
     ]
    },
    {
     "name": "stdout",
     "output_type": "stream",
     "text": [
      " is_correct: False, gold: グラタン, Q: 「鍋についたおこげ」という意味の言葉が語源であるとされる、日本ではマカロニを使ったものが一般的な西洋料理は何でしょう?, pred: ['オムレツ', 'ポトフ', 'ポテトサラダ', 'フレンチトースト', 'サラダ'],\n"
     ]
    },
    {
     "name": "stderr",
     "output_type": "stream",
     "text": [
      " 10%|▉         | 99/995 [11:42<1:45:53,  7.09s/it]"
     ]
    },
    {
     "name": "stdout",
     "output_type": "stream",
     "text": [
      " Success rate = 49.0% (49 / 100)\n",
      "\n",
      "Done\n"
     ]
    },
    {
     "name": "stderr",
     "output_type": "stream",
     "text": [
      "\n"
     ]
    }
   ],
   "source": [
    "if IS_COLAB:\n",
    "    stop_n= 100\n",
    "else:\n",
    "    stop_n = 10\n",
    "\n",
    "evaluate(\n",
    "    qas, # questions and answer list\n",
    "    model_tuned,\n",
    "    tokenizer, # T5Tokenizer.from_pretrained(\"rinna/japanese-gpt2-medium\")\n",
    "    stop_at=stop_n,\n",
    "    show_preview=True\n",
    ")\n",
    "\n",
    "print()\n",
    "print(\"Done\")\n",
    "\n",
    "# Success rate = 49.0% (49 / 100)"
   ]
  },
  {
   "cell_type": "markdown",
   "id": "5a452152-cc71-496f-bf0a-90506c90bf0b",
   "metadata": {
    "id": "5a452152-cc71-496f-bf0a-90506c90bf0b"
   },
   "source": [
    "<a name='5.2.3'></a><a id='5.2.3'></a>\n",
    "## 5.2.3 Next Steps\n",
    "<a href=\"#top\">[back to top]</a>"
   ]
  }
 ],
 "metadata": {
  "colab": {
   "provenance": []
  },
  "gpuClass": "standard",
  "kernelspec": {
   "display_name": "Python 3 (ipykernel)",
   "language": "python",
   "name": "python3"
  },
  "language_info": {
   "codemirror_mode": {
    "name": "ipython",
    "version": 3
   },
   "file_extension": ".py",
   "mimetype": "text/x-python",
   "name": "python",
   "nbconvert_exporter": "python",
   "pygments_lexer": "ipython3",
   "version": "3.8.12"
  },
  "widgets": {
   "application/vnd.jupyter.widget-state+json": {
    "03975f462fa14475ab023e7b7a4ee3d3": {
     "model_module": "@jupyter-widgets/controls",
     "model_module_version": "1.5.0",
     "model_name": "HTMLModel",
     "state": {
      "_dom_classes": [],
      "_model_module": "@jupyter-widgets/controls",
      "_model_module_version": "1.5.0",
      "_model_name": "HTMLModel",
      "_view_count": null,
      "_view_module": "@jupyter-widgets/controls",
      "_view_module_version": "1.5.0",
      "_view_name": "HTMLView",
      "description": "",
      "description_tooltip": null,
      "layout": "IPY_MODEL_392c5c2acc164c4eb9c9dbc62e7ce445",
      "placeholder": "​",
      "style": "IPY_MODEL_8f948727806b4df9aeec68fdb056f498",
      "value": "100%"
     }
    },
    "076b81cb59d449aea25058ca54dfcb7c": {
     "model_module": "@jupyter-widgets/controls",
     "model_module_version": "1.5.0",
     "model_name": "HBoxModel",
     "state": {
      "_dom_classes": [],
      "_model_module": "@jupyter-widgets/controls",
      "_model_module_version": "1.5.0",
      "_model_name": "HBoxModel",
      "_view_count": null,
      "_view_module": "@jupyter-widgets/controls",
      "_view_module_version": "1.5.0",
      "_view_name": "HBoxView",
      "box_style": "",
      "children": [
       "IPY_MODEL_10a0af27930243a4bc234866a6764413",
       "IPY_MODEL_23dd8a392b644d918ae497d12e806fca",
       "IPY_MODEL_5f8d528614fc47bb9a55d90b3f42461c"
      ],
      "layout": "IPY_MODEL_58973cbcb3944ec7bca84a3bdb6d4d33"
     }
    },
    "09e7f15d89034fa6948350e81b7132a7": {
     "model_module": "@jupyter-widgets/controls",
     "model_module_version": "1.5.0",
     "model_name": "HTMLModel",
     "state": {
      "_dom_classes": [],
      "_model_module": "@jupyter-widgets/controls",
      "_model_module_version": "1.5.0",
      "_model_name": "HTMLModel",
      "_view_count": null,
      "_view_module": "@jupyter-widgets/controls",
      "_view_module_version": "1.5.0",
      "_view_name": "HTMLView",
      "description": "",
      "description_tooltip": null,
      "layout": "IPY_MODEL_de90f7838893489ca726d35df369bea7",
      "placeholder": "​",
      "style": "IPY_MODEL_153f5d82a38f47ddbed2758216433bd2",
      "value": " 13061/13061 [00:02&lt;00:00, 7328.61ex/s]"
     }
    },
    "10a0af27930243a4bc234866a6764413": {
     "model_module": "@jupyter-widgets/controls",
     "model_module_version": "1.5.0",
     "model_name": "HTMLModel",
     "state": {
      "_dom_classes": [],
      "_model_module": "@jupyter-widgets/controls",
      "_model_module_version": "1.5.0",
      "_model_name": "HTMLModel",
      "_view_count": null,
      "_view_module": "@jupyter-widgets/controls",
      "_view_module_version": "1.5.0",
      "_view_name": "HTMLView",
      "description": "",
      "description_tooltip": null,
      "layout": "IPY_MODEL_3bf8659f1c6c4271ac2959a0b2f1e650",
      "placeholder": "​",
      "style": "IPY_MODEL_9a87c210876d4e3cb4ed1df00c4b74cb",
      "value": ""
     }
    },
    "147d63bfc00f452e82ba2cb66ffc9b30": {
     "model_module": "@jupyter-widgets/base",
     "model_module_version": "1.2.0",
     "model_name": "LayoutModel",
     "state": {
      "_model_module": "@jupyter-widgets/base",
      "_model_module_version": "1.2.0",
      "_model_name": "LayoutModel",
      "_view_count": null,
      "_view_module": "@jupyter-widgets/base",
      "_view_module_version": "1.2.0",
      "_view_name": "LayoutView",
      "align_content": null,
      "align_items": null,
      "align_self": null,
      "border": null,
      "bottom": null,
      "display": null,
      "flex": null,
      "flex_flow": null,
      "grid_area": null,
      "grid_auto_columns": null,
      "grid_auto_flow": null,
      "grid_auto_rows": null,
      "grid_column": null,
      "grid_gap": null,
      "grid_row": null,
      "grid_template_areas": null,
      "grid_template_columns": null,
      "grid_template_rows": null,
      "height": null,
      "justify_content": null,
      "justify_items": null,
      "left": null,
      "margin": null,
      "max_height": null,
      "max_width": null,
      "min_height": null,
      "min_width": null,
      "object_fit": null,
      "object_position": null,
      "order": null,
      "overflow": null,
      "overflow_x": null,
      "overflow_y": null,
      "padding": null,
      "right": null,
      "top": null,
      "visibility": null,
      "width": null
     }
    },
    "153f5d82a38f47ddbed2758216433bd2": {
     "model_module": "@jupyter-widgets/controls",
     "model_module_version": "1.5.0",
     "model_name": "DescriptionStyleModel",
     "state": {
      "_model_module": "@jupyter-widgets/controls",
      "_model_module_version": "1.5.0",
      "_model_name": "DescriptionStyleModel",
      "_view_count": null,
      "_view_module": "@jupyter-widgets/base",
      "_view_module_version": "1.2.0",
      "_view_name": "StyleView",
      "description_width": ""
     }
    },
    "19555b5398d24c87b3f1d8ff85a805f0": {
     "model_module": "@jupyter-widgets/base",
     "model_module_version": "1.2.0",
     "model_name": "LayoutModel",
     "state": {
      "_model_module": "@jupyter-widgets/base",
      "_model_module_version": "1.2.0",
      "_model_name": "LayoutModel",
      "_view_count": null,
      "_view_module": "@jupyter-widgets/base",
      "_view_module_version": "1.2.0",
      "_view_name": "LayoutView",
      "align_content": null,
      "align_items": null,
      "align_self": null,
      "border": null,
      "bottom": null,
      "display": null,
      "flex": null,
      "flex_flow": null,
      "grid_area": null,
      "grid_auto_columns": null,
      "grid_auto_flow": null,
      "grid_auto_rows": null,
      "grid_column": null,
      "grid_gap": null,
      "grid_row": null,
      "grid_template_areas": null,
      "grid_template_columns": null,
      "grid_template_rows": null,
      "height": null,
      "justify_content": null,
      "justify_items": null,
      "left": null,
      "margin": null,
      "max_height": null,
      "max_width": null,
      "min_height": null,
      "min_width": null,
      "object_fit": null,
      "object_position": null,
      "order": null,
      "overflow": null,
      "overflow_x": null,
      "overflow_y": null,
      "padding": null,
      "right": null,
      "top": null,
      "visibility": null,
      "width": "20px"
     }
    },
    "1c17a90253b24a018f789b4b09a168a5": {
     "model_module": "@jupyter-widgets/controls",
     "model_module_version": "1.5.0",
     "model_name": "DescriptionStyleModel",
     "state": {
      "_model_module": "@jupyter-widgets/controls",
      "_model_module_version": "1.5.0",
      "_model_name": "DescriptionStyleModel",
      "_view_count": null,
      "_view_module": "@jupyter-widgets/base",
      "_view_module_version": "1.2.0",
      "_view_name": "StyleView",
      "description_width": ""
     }
    },
    "1e85be6543db4e75854bf672647b9103": {
     "model_module": "@jupyter-widgets/controls",
     "model_module_version": "1.5.0",
     "model_name": "HTMLModel",
     "state": {
      "_dom_classes": [],
      "_model_module": "@jupyter-widgets/controls",
      "_model_module_version": "1.5.0",
      "_model_name": "HTMLModel",
      "_view_count": null,
      "_view_module": "@jupyter-widgets/controls",
      "_view_module_version": "1.5.0",
      "_view_name": "HTMLView",
      "description": "",
      "description_tooltip": null,
      "layout": "IPY_MODEL_9a116504f0bc40f88fa24465a0139b44",
      "placeholder": "​",
      "style": "IPY_MODEL_c369ece31f244965a4ceccdef99f6c6d",
      "value": " 995/995 [00:00&lt;00:00, 5518.83ex/s]"
     }
    },
    "21a80d1070024ffbb6714db3b5a5537f": {
     "model_module": "@jupyter-widgets/controls",
     "model_module_version": "1.5.0",
     "model_name": "HBoxModel",
     "state": {
      "_dom_classes": [],
      "_model_module": "@jupyter-widgets/controls",
      "_model_module_version": "1.5.0",
      "_model_name": "HBoxModel",
      "_view_count": null,
      "_view_module": "@jupyter-widgets/controls",
      "_view_module_version": "1.5.0",
      "_view_name": "HBoxView",
      "box_style": "",
      "children": [
       "IPY_MODEL_a7f4cdfddb66444f903162bd7f11fe0c",
       "IPY_MODEL_fedff31772994d44815f384ced83ddf9",
       "IPY_MODEL_acfc73ee581c4eae96fbef85a513d853"
      ],
      "layout": "IPY_MODEL_ba61e90026654caeae12e89ec2a207da"
     }
    },
    "23dd8a392b644d918ae497d12e806fca": {
     "model_module": "@jupyter-widgets/controls",
     "model_module_version": "1.5.0",
     "model_name": "FloatProgressModel",
     "state": {
      "_dom_classes": [],
      "_model_module": "@jupyter-widgets/controls",
      "_model_module_version": "1.5.0",
      "_model_name": "FloatProgressModel",
      "_view_count": null,
      "_view_module": "@jupyter-widgets/controls",
      "_view_module_version": "1.5.0",
      "_view_name": "ProgressView",
      "bar_style": "info",
      "description": "",
      "description_tooltip": null,
      "layout": "IPY_MODEL_ee79c2b565f04b9586036e88f67c67c5",
      "max": 1,
      "min": 0,
      "orientation": "horizontal",
      "style": "IPY_MODEL_96eb084eb5384eb2a46d142046ed7ca9",
      "value": 1
     }
    },
    "2ff84a46905141e986e46def909866d1": {
     "model_module": "@jupyter-widgets/controls",
     "model_module_version": "1.5.0",
     "model_name": "FloatProgressModel",
     "state": {
      "_dom_classes": [],
      "_model_module": "@jupyter-widgets/controls",
      "_model_module_version": "1.5.0",
      "_model_name": "FloatProgressModel",
      "_view_count": null,
      "_view_module": "@jupyter-widgets/controls",
      "_view_module_version": "1.5.0",
      "_view_name": "ProgressView",
      "bar_style": "success",
      "description": "",
      "description_tooltip": null,
      "layout": "IPY_MODEL_fcc1b7f5d10a4cf4b6992c96096ff857",
      "max": 995,
      "min": 0,
      "orientation": "horizontal",
      "style": "IPY_MODEL_bcef5807f00d4a91a96fa191ff83095c",
      "value": 995
     }
    },
    "392c5c2acc164c4eb9c9dbc62e7ce445": {
     "model_module": "@jupyter-widgets/base",
     "model_module_version": "1.2.0",
     "model_name": "LayoutModel",
     "state": {
      "_model_module": "@jupyter-widgets/base",
      "_model_module_version": "1.2.0",
      "_model_name": "LayoutModel",
      "_view_count": null,
      "_view_module": "@jupyter-widgets/base",
      "_view_module_version": "1.2.0",
      "_view_name": "LayoutView",
      "align_content": null,
      "align_items": null,
      "align_self": null,
      "border": null,
      "bottom": null,
      "display": null,
      "flex": null,
      "flex_flow": null,
      "grid_area": null,
      "grid_auto_columns": null,
      "grid_auto_flow": null,
      "grid_auto_rows": null,
      "grid_column": null,
      "grid_gap": null,
      "grid_row": null,
      "grid_template_areas": null,
      "grid_template_columns": null,
      "grid_template_rows": null,
      "height": null,
      "justify_content": null,
      "justify_items": null,
      "left": null,
      "margin": null,
      "max_height": null,
      "max_width": null,
      "min_height": null,
      "min_width": null,
      "object_fit": null,
      "object_position": null,
      "order": null,
      "overflow": null,
      "overflow_x": null,
      "overflow_y": null,
      "padding": null,
      "right": null,
      "top": null,
      "visibility": null,
      "width": null
     }
    },
    "3bf8659f1c6c4271ac2959a0b2f1e650": {
     "model_module": "@jupyter-widgets/base",
     "model_module_version": "1.2.0",
     "model_name": "LayoutModel",
     "state": {
      "_model_module": "@jupyter-widgets/base",
      "_model_module_version": "1.2.0",
      "_model_name": "LayoutModel",
      "_view_count": null,
      "_view_module": "@jupyter-widgets/base",
      "_view_module_version": "1.2.0",
      "_view_name": "LayoutView",
      "align_content": null,
      "align_items": null,
      "align_self": null,
      "border": null,
      "bottom": null,
      "display": null,
      "flex": null,
      "flex_flow": null,
      "grid_area": null,
      "grid_auto_columns": null,
      "grid_auto_flow": null,
      "grid_auto_rows": null,
      "grid_column": null,
      "grid_gap": null,
      "grid_row": null,
      "grid_template_areas": null,
      "grid_template_columns": null,
      "grid_template_rows": null,
      "height": null,
      "justify_content": null,
      "justify_items": null,
      "left": null,
      "margin": null,
      "max_height": null,
      "max_width": null,
      "min_height": null,
      "min_width": null,
      "object_fit": null,
      "object_position": null,
      "order": null,
      "overflow": null,
      "overflow_x": null,
      "overflow_y": null,
      "padding": null,
      "right": null,
      "top": null,
      "visibility": null,
      "width": null
     }
    },
    "3d4a8029a00747758249131df22a328d": {
     "model_module": "@jupyter-widgets/controls",
     "model_module_version": "1.5.0",
     "model_name": "ProgressStyleModel",
     "state": {
      "_model_module": "@jupyter-widgets/controls",
      "_model_module_version": "1.5.0",
      "_model_name": "ProgressStyleModel",
      "_view_count": null,
      "_view_module": "@jupyter-widgets/base",
      "_view_module_version": "1.2.0",
      "_view_name": "StyleView",
      "bar_color": null,
      "description_width": ""
     }
    },
    "400d67cd8b914c02b3d0897be454711a": {
     "model_module": "@jupyter-widgets/controls",
     "model_module_version": "1.5.0",
     "model_name": "ProgressStyleModel",
     "state": {
      "_model_module": "@jupyter-widgets/controls",
      "_model_module_version": "1.5.0",
      "_model_name": "ProgressStyleModel",
      "_view_count": null,
      "_view_module": "@jupyter-widgets/base",
      "_view_module_version": "1.2.0",
      "_view_name": "StyleView",
      "bar_color": null,
      "description_width": ""
     }
    },
    "4a43ba294bff4e9094075f0e91fdd569": {
     "model_module": "@jupyter-widgets/controls",
     "model_module_version": "1.5.0",
     "model_name": "DescriptionStyleModel",
     "state": {
      "_model_module": "@jupyter-widgets/controls",
      "_model_module_version": "1.5.0",
      "_model_name": "DescriptionStyleModel",
      "_view_count": null,
      "_view_module": "@jupyter-widgets/base",
      "_view_module_version": "1.2.0",
      "_view_name": "StyleView",
      "description_width": ""
     }
    },
    "58973cbcb3944ec7bca84a3bdb6d4d33": {
     "model_module": "@jupyter-widgets/base",
     "model_module_version": "1.2.0",
     "model_name": "LayoutModel",
     "state": {
      "_model_module": "@jupyter-widgets/base",
      "_model_module_version": "1.2.0",
      "_model_name": "LayoutModel",
      "_view_count": null,
      "_view_module": "@jupyter-widgets/base",
      "_view_module_version": "1.2.0",
      "_view_name": "LayoutView",
      "align_content": null,
      "align_items": null,
      "align_self": null,
      "border": null,
      "bottom": null,
      "display": null,
      "flex": null,
      "flex_flow": null,
      "grid_area": null,
      "grid_auto_columns": null,
      "grid_auto_flow": null,
      "grid_auto_rows": null,
      "grid_column": null,
      "grid_gap": null,
      "grid_row": null,
      "grid_template_areas": null,
      "grid_template_columns": null,
      "grid_template_rows": null,
      "height": null,
      "justify_content": null,
      "justify_items": null,
      "left": null,
      "margin": null,
      "max_height": null,
      "max_width": null,
      "min_height": null,
      "min_width": null,
      "object_fit": null,
      "object_position": null,
      "order": null,
      "overflow": null,
      "overflow_x": null,
      "overflow_y": null,
      "padding": null,
      "right": null,
      "top": null,
      "visibility": "hidden",
      "width": null
     }
    },
    "5f8d528614fc47bb9a55d90b3f42461c": {
     "model_module": "@jupyter-widgets/controls",
     "model_module_version": "1.5.0",
     "model_name": "HTMLModel",
     "state": {
      "_dom_classes": [],
      "_model_module": "@jupyter-widgets/controls",
      "_model_module_version": "1.5.0",
      "_model_name": "HTMLModel",
      "_view_count": null,
      "_view_module": "@jupyter-widgets/controls",
      "_view_module_version": "1.5.0",
      "_view_name": "HTMLView",
      "description": "",
      "description_tooltip": null,
      "layout": "IPY_MODEL_147d63bfc00f452e82ba2cb66ffc9b30",
      "placeholder": "​",
      "style": "IPY_MODEL_4a43ba294bff4e9094075f0e91fdd569",
      "value": " 0/? [00:00&lt;?, ? tables/s]"
     }
    },
    "73202818a24546619b8f2de8d65bdc67": {
     "model_module": "@jupyter-widgets/controls",
     "model_module_version": "1.5.0",
     "model_name": "FloatProgressModel",
     "state": {
      "_dom_classes": [],
      "_model_module": "@jupyter-widgets/controls",
      "_model_module_version": "1.5.0",
      "_model_name": "FloatProgressModel",
      "_view_count": null,
      "_view_module": "@jupyter-widgets/controls",
      "_view_module_version": "1.5.0",
      "_view_name": "ProgressView",
      "bar_style": "success",
      "description": "",
      "description_tooltip": null,
      "layout": "IPY_MODEL_c28c46a28cc6438781190f9015bda985",
      "max": 13061,
      "min": 0,
      "orientation": "horizontal",
      "style": "IPY_MODEL_400d67cd8b914c02b3d0897be454711a",
      "value": 13061
     }
    },
    "7706a5ae3a924884b714c04d0ab56d94": {
     "model_module": "@jupyter-widgets/controls",
     "model_module_version": "1.5.0",
     "model_name": "DescriptionStyleModel",
     "state": {
      "_model_module": "@jupyter-widgets/controls",
      "_model_module_version": "1.5.0",
      "_model_name": "DescriptionStyleModel",
      "_view_count": null,
      "_view_module": "@jupyter-widgets/base",
      "_view_module_version": "1.2.0",
      "_view_name": "StyleView",
      "description_width": ""
     }
    },
    "802b7dbce9084e2082e831bf535eb642": {
     "model_module": "@jupyter-widgets/base",
     "model_module_version": "1.2.0",
     "model_name": "LayoutModel",
     "state": {
      "_model_module": "@jupyter-widgets/base",
      "_model_module_version": "1.2.0",
      "_model_name": "LayoutModel",
      "_view_count": null,
      "_view_module": "@jupyter-widgets/base",
      "_view_module_version": "1.2.0",
      "_view_name": "LayoutView",
      "align_content": null,
      "align_items": null,
      "align_self": null,
      "border": null,
      "bottom": null,
      "display": null,
      "flex": null,
      "flex_flow": null,
      "grid_area": null,
      "grid_auto_columns": null,
      "grid_auto_flow": null,
      "grid_auto_rows": null,
      "grid_column": null,
      "grid_gap": null,
      "grid_row": null,
      "grid_template_areas": null,
      "grid_template_columns": null,
      "grid_template_rows": null,
      "height": null,
      "justify_content": null,
      "justify_items": null,
      "left": null,
      "margin": null,
      "max_height": null,
      "max_width": null,
      "min_height": null,
      "min_width": null,
      "object_fit": null,
      "object_position": null,
      "order": null,
      "overflow": null,
      "overflow_x": null,
      "overflow_y": null,
      "padding": null,
      "right": null,
      "top": null,
      "visibility": null,
      "width": null
     }
    },
    "8f948727806b4df9aeec68fdb056f498": {
     "model_module": "@jupyter-widgets/controls",
     "model_module_version": "1.5.0",
     "model_name": "DescriptionStyleModel",
     "state": {
      "_model_module": "@jupyter-widgets/controls",
      "_model_module_version": "1.5.0",
      "_model_name": "DescriptionStyleModel",
      "_view_count": null,
      "_view_module": "@jupyter-widgets/base",
      "_view_module_version": "1.2.0",
      "_view_name": "StyleView",
      "description_width": ""
     }
    },
    "91232db3a32547b795229cae56876fa0": {
     "model_module": "@jupyter-widgets/base",
     "model_module_version": "1.2.0",
     "model_name": "LayoutModel",
     "state": {
      "_model_module": "@jupyter-widgets/base",
      "_model_module_version": "1.2.0",
      "_model_name": "LayoutModel",
      "_view_count": null,
      "_view_module": "@jupyter-widgets/base",
      "_view_module_version": "1.2.0",
      "_view_name": "LayoutView",
      "align_content": null,
      "align_items": null,
      "align_self": null,
      "border": null,
      "bottom": null,
      "display": null,
      "flex": null,
      "flex_flow": null,
      "grid_area": null,
      "grid_auto_columns": null,
      "grid_auto_flow": null,
      "grid_auto_rows": null,
      "grid_column": null,
      "grid_gap": null,
      "grid_row": null,
      "grid_template_areas": null,
      "grid_template_columns": null,
      "grid_template_rows": null,
      "height": null,
      "justify_content": null,
      "justify_items": null,
      "left": null,
      "margin": null,
      "max_height": null,
      "max_width": null,
      "min_height": null,
      "min_width": null,
      "object_fit": null,
      "object_position": null,
      "order": null,
      "overflow": null,
      "overflow_x": null,
      "overflow_y": null,
      "padding": null,
      "right": null,
      "top": null,
      "visibility": null,
      "width": null
     }
    },
    "95972dda4a8841a9b4469873ab1f9f8e": {
     "model_module": "@jupyter-widgets/controls",
     "model_module_version": "1.5.0",
     "model_name": "DescriptionStyleModel",
     "state": {
      "_model_module": "@jupyter-widgets/controls",
      "_model_module_version": "1.5.0",
      "_model_name": "DescriptionStyleModel",
      "_view_count": null,
      "_view_module": "@jupyter-widgets/base",
      "_view_module_version": "1.2.0",
      "_view_name": "StyleView",
      "description_width": ""
     }
    },
    "96eb084eb5384eb2a46d142046ed7ca9": {
     "model_module": "@jupyter-widgets/controls",
     "model_module_version": "1.5.0",
     "model_name": "ProgressStyleModel",
     "state": {
      "_model_module": "@jupyter-widgets/controls",
      "_model_module_version": "1.5.0",
      "_model_name": "ProgressStyleModel",
      "_view_count": null,
      "_view_module": "@jupyter-widgets/base",
      "_view_module_version": "1.2.0",
      "_view_name": "StyleView",
      "bar_color": null,
      "description_width": ""
     }
    },
    "9a116504f0bc40f88fa24465a0139b44": {
     "model_module": "@jupyter-widgets/base",
     "model_module_version": "1.2.0",
     "model_name": "LayoutModel",
     "state": {
      "_model_module": "@jupyter-widgets/base",
      "_model_module_version": "1.2.0",
      "_model_name": "LayoutModel",
      "_view_count": null,
      "_view_module": "@jupyter-widgets/base",
      "_view_module_version": "1.2.0",
      "_view_name": "LayoutView",
      "align_content": null,
      "align_items": null,
      "align_self": null,
      "border": null,
      "bottom": null,
      "display": null,
      "flex": null,
      "flex_flow": null,
      "grid_area": null,
      "grid_auto_columns": null,
      "grid_auto_flow": null,
      "grid_auto_rows": null,
      "grid_column": null,
      "grid_gap": null,
      "grid_row": null,
      "grid_template_areas": null,
      "grid_template_columns": null,
      "grid_template_rows": null,
      "height": null,
      "justify_content": null,
      "justify_items": null,
      "left": null,
      "margin": null,
      "max_height": null,
      "max_width": null,
      "min_height": null,
      "min_width": null,
      "object_fit": null,
      "object_position": null,
      "order": null,
      "overflow": null,
      "overflow_x": null,
      "overflow_y": null,
      "padding": null,
      "right": null,
      "top": null,
      "visibility": null,
      "width": null
     }
    },
    "9a87c210876d4e3cb4ed1df00c4b74cb": {
     "model_module": "@jupyter-widgets/controls",
     "model_module_version": "1.5.0",
     "model_name": "DescriptionStyleModel",
     "state": {
      "_model_module": "@jupyter-widgets/controls",
      "_model_module_version": "1.5.0",
      "_model_name": "DescriptionStyleModel",
      "_view_count": null,
      "_view_module": "@jupyter-widgets/base",
      "_view_module_version": "1.2.0",
      "_view_name": "StyleView",
      "description_width": ""
     }
    },
    "9c6de514ec42401a94124756352ef18b": {
     "model_module": "@jupyter-widgets/base",
     "model_module_version": "1.2.0",
     "model_name": "LayoutModel",
     "state": {
      "_model_module": "@jupyter-widgets/base",
      "_model_module_version": "1.2.0",
      "_model_name": "LayoutModel",
      "_view_count": null,
      "_view_module": "@jupyter-widgets/base",
      "_view_module_version": "1.2.0",
      "_view_name": "LayoutView",
      "align_content": null,
      "align_items": null,
      "align_self": null,
      "border": null,
      "bottom": null,
      "display": null,
      "flex": null,
      "flex_flow": null,
      "grid_area": null,
      "grid_auto_columns": null,
      "grid_auto_flow": null,
      "grid_auto_rows": null,
      "grid_column": null,
      "grid_gap": null,
      "grid_row": null,
      "grid_template_areas": null,
      "grid_template_columns": null,
      "grid_template_rows": null,
      "height": null,
      "justify_content": null,
      "justify_items": null,
      "left": null,
      "margin": null,
      "max_height": null,
      "max_width": null,
      "min_height": null,
      "min_width": null,
      "object_fit": null,
      "object_position": null,
      "order": null,
      "overflow": null,
      "overflow_x": null,
      "overflow_y": null,
      "padding": null,
      "right": null,
      "top": null,
      "visibility": null,
      "width": null
     }
    },
    "9f31f37914ac4d59a8808a6f13e83b71": {
     "model_module": "@jupyter-widgets/base",
     "model_module_version": "1.2.0",
     "model_name": "LayoutModel",
     "state": {
      "_model_module": "@jupyter-widgets/base",
      "_model_module_version": "1.2.0",
      "_model_name": "LayoutModel",
      "_view_count": null,
      "_view_module": "@jupyter-widgets/base",
      "_view_module_version": "1.2.0",
      "_view_name": "LayoutView",
      "align_content": null,
      "align_items": null,
      "align_self": null,
      "border": null,
      "bottom": null,
      "display": null,
      "flex": null,
      "flex_flow": null,
      "grid_area": null,
      "grid_auto_columns": null,
      "grid_auto_flow": null,
      "grid_auto_rows": null,
      "grid_column": null,
      "grid_gap": null,
      "grid_row": null,
      "grid_template_areas": null,
      "grid_template_columns": null,
      "grid_template_rows": null,
      "height": null,
      "justify_content": null,
      "justify_items": null,
      "left": null,
      "margin": null,
      "max_height": null,
      "max_width": null,
      "min_height": null,
      "min_width": null,
      "object_fit": null,
      "object_position": null,
      "order": null,
      "overflow": null,
      "overflow_x": null,
      "overflow_y": null,
      "padding": null,
      "right": null,
      "top": null,
      "visibility": null,
      "width": null
     }
    },
    "a7f4cdfddb66444f903162bd7f11fe0c": {
     "model_module": "@jupyter-widgets/controls",
     "model_module_version": "1.5.0",
     "model_name": "HTMLModel",
     "state": {
      "_dom_classes": [],
      "_model_module": "@jupyter-widgets/controls",
      "_model_module_version": "1.5.0",
      "_model_name": "HTMLModel",
      "_view_count": null,
      "_view_module": "@jupyter-widgets/controls",
      "_view_module_version": "1.5.0",
      "_view_name": "HTMLView",
      "description": "",
      "description_tooltip": null,
      "layout": "IPY_MODEL_802b7dbce9084e2082e831bf535eb642",
      "placeholder": "​",
      "style": "IPY_MODEL_7706a5ae3a924884b714c04d0ab56d94",
      "value": ""
     }
    },
    "a8bfbfe06774461c9103d6309e6b274a": {
     "model_module": "@jupyter-widgets/controls",
     "model_module_version": "1.5.0",
     "model_name": "HBoxModel",
     "state": {
      "_dom_classes": [],
      "_model_module": "@jupyter-widgets/controls",
      "_model_module_version": "1.5.0",
      "_model_name": "HBoxModel",
      "_view_count": null,
      "_view_module": "@jupyter-widgets/controls",
      "_view_module_version": "1.5.0",
      "_view_name": "HBoxView",
      "box_style": "",
      "children": [
       "IPY_MODEL_03975f462fa14475ab023e7b7a4ee3d3",
       "IPY_MODEL_2ff84a46905141e986e46def909866d1",
       "IPY_MODEL_1e85be6543db4e75854bf672647b9103"
      ],
      "layout": "IPY_MODEL_9c6de514ec42401a94124756352ef18b"
     }
    },
    "acfc73ee581c4eae96fbef85a513d853": {
     "model_module": "@jupyter-widgets/controls",
     "model_module_version": "1.5.0",
     "model_name": "HTMLModel",
     "state": {
      "_dom_classes": [],
      "_model_module": "@jupyter-widgets/controls",
      "_model_module_version": "1.5.0",
      "_model_name": "HTMLModel",
      "_view_count": null,
      "_view_module": "@jupyter-widgets/controls",
      "_view_module_version": "1.5.0",
      "_view_name": "HTMLView",
      "description": "",
      "description_tooltip": null,
      "layout": "IPY_MODEL_9f31f37914ac4d59a8808a6f13e83b71",
      "placeholder": "​",
      "style": "IPY_MODEL_95972dda4a8841a9b4469873ab1f9f8e",
      "value": " 1/? [00:00&lt;00:00,  6.30 tables/s]"
     }
    },
    "b711a94fbdd044b6a8348578ab1795a4": {
     "model_module": "@jupyter-widgets/base",
     "model_module_version": "1.2.0",
     "model_name": "LayoutModel",
     "state": {
      "_model_module": "@jupyter-widgets/base",
      "_model_module_version": "1.2.0",
      "_model_name": "LayoutModel",
      "_view_count": null,
      "_view_module": "@jupyter-widgets/base",
      "_view_module_version": "1.2.0",
      "_view_name": "LayoutView",
      "align_content": null,
      "align_items": null,
      "align_self": null,
      "border": null,
      "bottom": null,
      "display": null,
      "flex": null,
      "flex_flow": null,
      "grid_area": null,
      "grid_auto_columns": null,
      "grid_auto_flow": null,
      "grid_auto_rows": null,
      "grid_column": null,
      "grid_gap": null,
      "grid_row": null,
      "grid_template_areas": null,
      "grid_template_columns": null,
      "grid_template_rows": null,
      "height": null,
      "justify_content": null,
      "justify_items": null,
      "left": null,
      "margin": null,
      "max_height": null,
      "max_width": null,
      "min_height": null,
      "min_width": null,
      "object_fit": null,
      "object_position": null,
      "order": null,
      "overflow": null,
      "overflow_x": null,
      "overflow_y": null,
      "padding": null,
      "right": null,
      "top": null,
      "visibility": null,
      "width": null
     }
    },
    "ba61e90026654caeae12e89ec2a207da": {
     "model_module": "@jupyter-widgets/base",
     "model_module_version": "1.2.0",
     "model_name": "LayoutModel",
     "state": {
      "_model_module": "@jupyter-widgets/base",
      "_model_module_version": "1.2.0",
      "_model_name": "LayoutModel",
      "_view_count": null,
      "_view_module": "@jupyter-widgets/base",
      "_view_module_version": "1.2.0",
      "_view_name": "LayoutView",
      "align_content": null,
      "align_items": null,
      "align_self": null,
      "border": null,
      "bottom": null,
      "display": null,
      "flex": null,
      "flex_flow": null,
      "grid_area": null,
      "grid_auto_columns": null,
      "grid_auto_flow": null,
      "grid_auto_rows": null,
      "grid_column": null,
      "grid_gap": null,
      "grid_row": null,
      "grid_template_areas": null,
      "grid_template_columns": null,
      "grid_template_rows": null,
      "height": null,
      "justify_content": null,
      "justify_items": null,
      "left": null,
      "margin": null,
      "max_height": null,
      "max_width": null,
      "min_height": null,
      "min_width": null,
      "object_fit": null,
      "object_position": null,
      "order": null,
      "overflow": null,
      "overflow_x": null,
      "overflow_y": null,
      "padding": null,
      "right": null,
      "top": null,
      "visibility": "hidden",
      "width": null
     }
    },
    "bcef5807f00d4a91a96fa191ff83095c": {
     "model_module": "@jupyter-widgets/controls",
     "model_module_version": "1.5.0",
     "model_name": "ProgressStyleModel",
     "state": {
      "_model_module": "@jupyter-widgets/controls",
      "_model_module_version": "1.5.0",
      "_model_name": "ProgressStyleModel",
      "_view_count": null,
      "_view_module": "@jupyter-widgets/base",
      "_view_module_version": "1.2.0",
      "_view_name": "StyleView",
      "bar_color": null,
      "description_width": ""
     }
    },
    "c28c46a28cc6438781190f9015bda985": {
     "model_module": "@jupyter-widgets/base",
     "model_module_version": "1.2.0",
     "model_name": "LayoutModel",
     "state": {
      "_model_module": "@jupyter-widgets/base",
      "_model_module_version": "1.2.0",
      "_model_name": "LayoutModel",
      "_view_count": null,
      "_view_module": "@jupyter-widgets/base",
      "_view_module_version": "1.2.0",
      "_view_name": "LayoutView",
      "align_content": null,
      "align_items": null,
      "align_self": null,
      "border": null,
      "bottom": null,
      "display": null,
      "flex": null,
      "flex_flow": null,
      "grid_area": null,
      "grid_auto_columns": null,
      "grid_auto_flow": null,
      "grid_auto_rows": null,
      "grid_column": null,
      "grid_gap": null,
      "grid_row": null,
      "grid_template_areas": null,
      "grid_template_columns": null,
      "grid_template_rows": null,
      "height": null,
      "justify_content": null,
      "justify_items": null,
      "left": null,
      "margin": null,
      "max_height": null,
      "max_width": null,
      "min_height": null,
      "min_width": null,
      "object_fit": null,
      "object_position": null,
      "order": null,
      "overflow": null,
      "overflow_x": null,
      "overflow_y": null,
      "padding": null,
      "right": null,
      "top": null,
      "visibility": null,
      "width": null
     }
    },
    "c369ece31f244965a4ceccdef99f6c6d": {
     "model_module": "@jupyter-widgets/controls",
     "model_module_version": "1.5.0",
     "model_name": "DescriptionStyleModel",
     "state": {
      "_model_module": "@jupyter-widgets/controls",
      "_model_module_version": "1.5.0",
      "_model_name": "DescriptionStyleModel",
      "_view_count": null,
      "_view_module": "@jupyter-widgets/base",
      "_view_module_version": "1.2.0",
      "_view_name": "StyleView",
      "description_width": ""
     }
    },
    "d54594254f0a4c558d3583ae486df02d": {
     "model_module": "@jupyter-widgets/controls",
     "model_module_version": "1.5.0",
     "model_name": "HBoxModel",
     "state": {
      "_dom_classes": [],
      "_model_module": "@jupyter-widgets/controls",
      "_model_module_version": "1.5.0",
      "_model_name": "HBoxModel",
      "_view_count": null,
      "_view_module": "@jupyter-widgets/controls",
      "_view_module_version": "1.5.0",
      "_view_name": "HBoxView",
      "box_style": "",
      "children": [
       "IPY_MODEL_dfc7bf2e3d764209bd127711d4ba108b",
       "IPY_MODEL_73202818a24546619b8f2de8d65bdc67",
       "IPY_MODEL_09e7f15d89034fa6948350e81b7132a7"
      ],
      "layout": "IPY_MODEL_91232db3a32547b795229cae56876fa0"
     }
    },
    "de90f7838893489ca726d35df369bea7": {
     "model_module": "@jupyter-widgets/base",
     "model_module_version": "1.2.0",
     "model_name": "LayoutModel",
     "state": {
      "_model_module": "@jupyter-widgets/base",
      "_model_module_version": "1.2.0",
      "_model_name": "LayoutModel",
      "_view_count": null,
      "_view_module": "@jupyter-widgets/base",
      "_view_module_version": "1.2.0",
      "_view_name": "LayoutView",
      "align_content": null,
      "align_items": null,
      "align_self": null,
      "border": null,
      "bottom": null,
      "display": null,
      "flex": null,
      "flex_flow": null,
      "grid_area": null,
      "grid_auto_columns": null,
      "grid_auto_flow": null,
      "grid_auto_rows": null,
      "grid_column": null,
      "grid_gap": null,
      "grid_row": null,
      "grid_template_areas": null,
      "grid_template_columns": null,
      "grid_template_rows": null,
      "height": null,
      "justify_content": null,
      "justify_items": null,
      "left": null,
      "margin": null,
      "max_height": null,
      "max_width": null,
      "min_height": null,
      "min_width": null,
      "object_fit": null,
      "object_position": null,
      "order": null,
      "overflow": null,
      "overflow_x": null,
      "overflow_y": null,
      "padding": null,
      "right": null,
      "top": null,
      "visibility": null,
      "width": null
     }
    },
    "dfc7bf2e3d764209bd127711d4ba108b": {
     "model_module": "@jupyter-widgets/controls",
     "model_module_version": "1.5.0",
     "model_name": "HTMLModel",
     "state": {
      "_dom_classes": [],
      "_model_module": "@jupyter-widgets/controls",
      "_model_module_version": "1.5.0",
      "_model_name": "HTMLModel",
      "_view_count": null,
      "_view_module": "@jupyter-widgets/controls",
      "_view_module_version": "1.5.0",
      "_view_name": "HTMLView",
      "description": "",
      "description_tooltip": null,
      "layout": "IPY_MODEL_b711a94fbdd044b6a8348578ab1795a4",
      "placeholder": "​",
      "style": "IPY_MODEL_1c17a90253b24a018f789b4b09a168a5",
      "value": "100%"
     }
    },
    "ee79c2b565f04b9586036e88f67c67c5": {
     "model_module": "@jupyter-widgets/base",
     "model_module_version": "1.2.0",
     "model_name": "LayoutModel",
     "state": {
      "_model_module": "@jupyter-widgets/base",
      "_model_module_version": "1.2.0",
      "_model_name": "LayoutModel",
      "_view_count": null,
      "_view_module": "@jupyter-widgets/base",
      "_view_module_version": "1.2.0",
      "_view_name": "LayoutView",
      "align_content": null,
      "align_items": null,
      "align_self": null,
      "border": null,
      "bottom": null,
      "display": null,
      "flex": null,
      "flex_flow": null,
      "grid_area": null,
      "grid_auto_columns": null,
      "grid_auto_flow": null,
      "grid_auto_rows": null,
      "grid_column": null,
      "grid_gap": null,
      "grid_row": null,
      "grid_template_areas": null,
      "grid_template_columns": null,
      "grid_template_rows": null,
      "height": null,
      "justify_content": null,
      "justify_items": null,
      "left": null,
      "margin": null,
      "max_height": null,
      "max_width": null,
      "min_height": null,
      "min_width": null,
      "object_fit": null,
      "object_position": null,
      "order": null,
      "overflow": null,
      "overflow_x": null,
      "overflow_y": null,
      "padding": null,
      "right": null,
      "top": null,
      "visibility": null,
      "width": "20px"
     }
    },
    "fcc1b7f5d10a4cf4b6992c96096ff857": {
     "model_module": "@jupyter-widgets/base",
     "model_module_version": "1.2.0",
     "model_name": "LayoutModel",
     "state": {
      "_model_module": "@jupyter-widgets/base",
      "_model_module_version": "1.2.0",
      "_model_name": "LayoutModel",
      "_view_count": null,
      "_view_module": "@jupyter-widgets/base",
      "_view_module_version": "1.2.0",
      "_view_name": "LayoutView",
      "align_content": null,
      "align_items": null,
      "align_self": null,
      "border": null,
      "bottom": null,
      "display": null,
      "flex": null,
      "flex_flow": null,
      "grid_area": null,
      "grid_auto_columns": null,
      "grid_auto_flow": null,
      "grid_auto_rows": null,
      "grid_column": null,
      "grid_gap": null,
      "grid_row": null,
      "grid_template_areas": null,
      "grid_template_columns": null,
      "grid_template_rows": null,
      "height": null,
      "justify_content": null,
      "justify_items": null,
      "left": null,
      "margin": null,
      "max_height": null,
      "max_width": null,
      "min_height": null,
      "min_width": null,
      "object_fit": null,
      "object_position": null,
      "order": null,
      "overflow": null,
      "overflow_x": null,
      "overflow_y": null,
      "padding": null,
      "right": null,
      "top": null,
      "visibility": null,
      "width": null
     }
    },
    "fedff31772994d44815f384ced83ddf9": {
     "model_module": "@jupyter-widgets/controls",
     "model_module_version": "1.5.0",
     "model_name": "FloatProgressModel",
     "state": {
      "_dom_classes": [],
      "_model_module": "@jupyter-widgets/controls",
      "_model_module_version": "1.5.0",
      "_model_name": "FloatProgressModel",
      "_view_count": null,
      "_view_module": "@jupyter-widgets/controls",
      "_view_module_version": "1.5.0",
      "_view_name": "ProgressView",
      "bar_style": "info",
      "description": "",
      "description_tooltip": null,
      "layout": "IPY_MODEL_19555b5398d24c87b3f1d8ff85a805f0",
      "max": 1,
      "min": 0,
      "orientation": "horizontal",
      "style": "IPY_MODEL_3d4a8029a00747758249131df22a328d",
      "value": 1
     }
    }
   }
  }
 },
 "nbformat": 4,
 "nbformat_minor": 5
}
