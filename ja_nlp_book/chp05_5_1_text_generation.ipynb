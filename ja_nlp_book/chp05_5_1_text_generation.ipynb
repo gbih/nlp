{
 "cells": [
  {
   "cell_type": "markdown",
   "id": "bc486a68-32b4-49ee-b83f-c737ee0081e9",
   "metadata": {
    "id": "bc486a68-32b4-49ee-b83f-c737ee0081e9"
   },
   "source": [
    "<a id='top'></a><a name='top'></a>\n",
    "# Chapter 5: Natural Language Generation and Conversion with Transformer\n",
    "\n",
    "## 5.1 Transformer and Text Generation¶"
   ]
  },
  {
   "cell_type": "markdown",
   "id": "427d57d9-8719-4711-b4b9-32e606a8c0bd",
   "metadata": {
    "id": "427d57d9-8719-4711-b4b9-32e606a8c0bd"
   },
   "source": [
    "<table align=\"left\">\n",
    "  <td>\n",
    "    <a href=\"link.ipynb\" target=\"_parent\"><img src=\"https://colab.research.google.com/assets/colab-badge.svg\" alt=\"Open In Colab\"/></a>\n",
    "  </td>\n",
    "</table>"
   ]
  },
  {
   "cell_type": "markdown",
   "id": "cfdf997b-f957-4977-ae2e-91e51a46ad8b",
   "metadata": {
    "id": "cfdf997b-f957-4977-ae2e-91e51a46ad8b"
   },
   "source": [
    "* [Imports and Setup](#setup)\n",
    "* [5.1 Transformer and Text Generation](#5.1)\n",
    "    - [5.1.1 What is the Transformer?](#5.1.1)\n",
    "    - [5.1.2 Text Generation](#5.1.2)"
   ]
  },
  {
   "cell_type": "markdown",
   "id": "4f22c158-28dd-47cf-a0f8-01c530591cf3",
   "metadata": {
    "id": "4f22c158-28dd-47cf-a0f8-01c530591cf3"
   },
   "source": [
    "---\n",
    "<a name='setup'></a><a id='setup'></a>\n",
    "# Imports and Setup\n",
    "<a href=\"#top\">[back to top]</a>"
   ]
  },
  {
   "cell_type": "code",
   "execution_count": 1,
   "id": "l-gug0poW2K8",
   "metadata": {
    "colab": {
     "base_uri": "https://localhost:8080/"
    },
    "id": "l-gug0poW2K8",
    "outputId": "f8bd7f54-680b-4f42-be26-4ce769781f90"
   },
   "outputs": [
    {
     "name": "stdout",
     "output_type": "stream",
     "text": [
      "chp05_01 exists.\n"
     ]
    }
   ],
   "source": [
    "import pathlib\n",
    "from pathlib import Path\n",
    "\n",
    "data_root = Path(\"chp05_01\")\n",
    "req_file = data_root / \"requirements_5_5_1.txt\"\n",
    "\n",
    "if not data_root.is_dir():\n",
    "    data_root.mkdir()\n",
    "else:\n",
    "    print(f\"{data_root} exists.\")"
   ]
  },
  {
   "cell_type": "code",
   "execution_count": 2,
   "id": "Gx8Wv9MH7S_u",
   "metadata": {
    "colab": {
     "base_uri": "https://localhost:8080/"
    },
    "id": "Gx8Wv9MH7S_u",
    "outputId": "046cc28a-954a-4d85-8bf8-8df070767973"
   },
   "outputs": [
    {
     "name": "stdout",
     "output_type": "stream",
     "text": [
      "Overwriting chp05_01/requirements_5_5_1.txt\n"
     ]
    }
   ],
   "source": [
    "%%writefile {req_file}\n",
    "datasets==1.11.0\n",
    "fugashi[unidic]==1.2.1\n",
    "gensim==3.6.0\n",
    "japanize_matplotlib==1.1.3\n",
    "sentencepiece==0.1.97\n",
    "tqdm==4.64.1\n",
    "transformers==4.9.0\n",
    "unidic_lite==1.0.8\n",
    "watermark==2.3.1"
   ]
  },
  {
   "cell_type": "code",
   "execution_count": 5,
   "id": "EO3VuT9c857f",
   "metadata": {
    "colab": {
     "base_uri": "https://localhost:8080/"
    },
    "id": "EO3VuT9c857f",
    "outputId": "376e06cd-c04a-424f-ef4f-92d8b394b377"
   },
   "outputs": [
    {
     "name": "stdout",
     "output_type": "stream",
     "text": [
      "Installing packages\n",
      "\u001b[K     |████████████████████████████████| 264 kB 7.2 MB/s \n",
      "\u001b[K     |████████████████████████████████| 615 kB 52.7 MB/s \n",
      "\u001b[K     |████████████████████████████████| 4.1 MB 43.0 MB/s \n",
      "\u001b[K     |████████████████████████████████| 1.3 MB 56.0 MB/s \n",
      "\u001b[K     |████████████████████████████████| 2.6 MB 42.9 MB/s \n",
      "\u001b[K     |████████████████████████████████| 47.4 MB 1.7 MB/s \n",
      "\u001b[K     |████████████████████████████████| 212 kB 47.0 MB/s \n",
      "\u001b[K     |████████████████████████████████| 132 kB 59.0 MB/s \n",
      "\u001b[K     |████████████████████████████████| 56 kB 3.9 MB/s \n",
      "\u001b[K     |████████████████████████████████| 880 kB 60.8 MB/s \n",
      "\u001b[K     |████████████████████████████████| 3.3 MB 35.8 MB/s \n",
      "\u001b[K     |████████████████████████████████| 1.6 MB 63.1 MB/s \n",
      "\u001b[?25h  Building wheel for japanize-matplotlib (setup.py) ... \u001b[?25l\u001b[?25hdone\n",
      "  Building wheel for unidic-lite (setup.py) ... \u001b[?25l\u001b[?25hdone\n",
      "  Building wheel for sacremoses (setup.py) ... \u001b[?25l\u001b[?25hdone\n",
      "  Building wheel for unidic (setup.py) ... \u001b[?25l\u001b[?25hdone\n",
      "download url: https://cotonoha-dic.s3-ap-northeast-1.amazonaws.com/unidic-3.1.0.zip\n",
      "Dictionary version: 3.1.0+2021-08-31\n",
      "Downloading UniDic v3.1.0+2021-08-31...\n",
      "unidic-3.1.0.zip: 100% 526M/526M [00:20<00:00, 25.5MB/s]\n",
      "Finished download.\n",
      "Downloaded UniDic v3.1.0+2021-08-31 to /usr/local/lib/python3.8/dist-packages/unidic/dicdir\n",
      "jq-1.5-1-a5b5cbe\n",
      "Need to restart runtime after installing sentencepiece.\n",
      "> Runtime > Restart runtime ...\n"
     ]
    }
   ],
   "source": [
    "import sys\n",
    "import os\n",
    "check1 = ('google.colab' in sys.modules)\n",
    "check2 = (os.environ.get('CLOUDSDK_CONFIG')=='/content/.config')\n",
    "IS_COLAB = True if (check1 or check2) else False\n",
    "\n",
    "if IS_COLAB:\n",
    "    print(\"Installing packages\")\n",
    "    !pip install --quiet -r {req_file}\n",
    "    !python -m unidic download\n",
    "    !apt-get install jq 2>&1 > /dev/null\n",
    "    !jq --version\n",
    "    print(\"Need to restart runtime after installing sentencepiece.\")\n",
    "    print(\"> Runtime > Restart runtime ...\")\n",
    "else:\n",
    "    print(\"Running locally.\")"
   ]
  },
  {
   "cell_type": "code",
   "execution_count": 2,
   "id": "2221afe6-b7d7-49e6-92fb-69b62b54c89d",
   "metadata": {
    "colab": {
     "base_uri": "https://localhost:8080/"
    },
    "id": "2221afe6-b7d7-49e6-92fb-69b62b54c89d",
    "outputId": "827cd5fb-a49e-4aea-e469-7d4c035484f8"
   },
   "outputs": [
    {
     "name": "stdout",
     "output_type": "stream",
     "text": [
      "device:cpu\n",
      "--------------------------------------------------\n",
      "Python implementation: CPython\n",
      "Python version       : 3.8.15\n",
      "IPython version      : 7.9.0\n",
      "\n",
      "datasets           : 1.11.0\n",
      "fugashi            : 1.2.1\n",
      "gensim             : 3.6.0\n",
      "japanize_matplotlib: 1.1.3\n",
      "sentencepiece      : 0.1.97\n",
      "tqdm               : 4.64.1\n",
      "transformers       : 4.9.0\n",
      "unidic_lite        : 1.0.8\n",
      "watermark          : 2.3.1\n",
      "\n",
      "Compiler    : GCC 7.5.0\n",
      "OS          : Linux\n",
      "Release     : 5.10.133+\n",
      "Machine     : x86_64\n",
      "Processor   : x86_64\n",
      "CPU cores   : 2\n",
      "Architecture: 64bit\n",
      "\n"
     ]
    }
   ],
   "source": [
    "# Standard Library imports\n",
    "import sys\n",
    "import os\n",
    "os.environ['TF_CPP_MIN_LOG_LEVEL'] = '3' # Suppress TensorFlog log messages\n",
    "import pathlib\n",
    "from pathlib import Path\n",
    "import shlex\n",
    "import subprocess\n",
    " \n",
    "# Third-party imports\n",
    "from collections import Counter\n",
    "from datasets import load_dataset # HuggingFace Transformers\n",
    "import json\n",
    "import logging\n",
    "import pandas as pd\n",
    "import sentencepiece as spm\n",
    "import torch\n",
    "from tqdm import tqdm\n",
    "from transformers import T5Tokenizer # This requires sentencepiece\n",
    "from transformers import AutoModelForCausalLM\n",
    "from transformers import Trainer\n",
    "from transformers import TrainingArguments\n",
    "from watermark import watermark\n",
    "\n",
    "# suppress logging from transformers\n",
    "logging.getLogger(\"transformers\").setLevel(logging.ERROR)\n",
    "logging.getLogger(\"transformers.trainer\").setLevel(logging.ERROR)\n",
    "logging.getLogger(\"datasets\").setLevel(logging.ERROR)\n",
    "\n",
    "_ = torch.manual_seed(42)\n",
    "\n",
    "def HR():\n",
    "    print(\"-\"*50)\n",
    "\n",
    "device = torch.device(\"cuda\" if torch.cuda.is_available() else \"cpu\")\n",
    "print(f\"device:{device}\")\n",
    "HR()\n",
    "\n",
    "packages_check=\"datasets,fugashi,gensim,japanize_matplotlib,sentencepiece,tqdm,transformers,unidic_lite,watermark\"\n",
    "print(watermark(packages=packages_check, python=True,machine=True))"
   ]
  },
  {
   "cell_type": "code",
   "execution_count": 5,
   "id": "54d2b29d-cc23-4ef9-9a55-eb512c440137",
   "metadata": {
    "colab": {
     "base_uri": "https://localhost:8080/"
    },
    "id": "54d2b29d-cc23-4ef9-9a55-eb512c440137",
    "outputId": "4f315c50-974d-43c4-c293-6a569e2ba045"
   },
   "outputs": [
    {
     "name": "stdout",
     "output_type": "stream",
     "text": [
      "data_dir: chp05_01\n"
     ]
    }
   ],
   "source": [
    "data_dir = Path(\"chp05_01\")\n",
    "\n",
    "print(f\"data_dir: {data_dir}\")"
   ]
  },
  {
   "cell_type": "markdown",
   "id": "9f9d66e5-0266-421d-968d-7759d4e27196",
   "metadata": {
    "id": "9f9d66e5-0266-421d-968d-7759d4e27196"
   },
   "source": [
    "---\n",
    "<a name='5.1'></a><a id='5.1'></a>\n",
    "# 5.1 Transformer and Text Generation\n",
    "<a href=\"#top\">[back to top]</a>"
   ]
  },
  {
   "cell_type": "markdown",
   "id": "bb3671dc-8690-4d39-8476-4cc4e89b5b95",
   "metadata": {
    "id": "bb3671dc-8690-4d39-8476-4cc4e89b5b95"
   },
   "source": [
    "<a name='5.1.1'></a><a id='5.1.1'></a>\n",
    "## 5.1.1 What is the Transformer?\n",
    "<a href=\"#top\">[back to top]</a>"
   ]
  },
  {
   "cell_type": "markdown",
   "id": "b3b826e2-6f9c-49a1-88f9-2c3c754b150f",
   "metadata": {
    "id": "b3b826e2-6f9c-49a1-88f9-2c3c754b150f"
   },
   "source": [
    "<a name='5.1.2'></a><a id='5.1.2'></a>\n",
    "## 5.1.2 Text Generation\n",
    "<a href=\"#top\">[back to top]</a>\n",
    "\n",
    "* Use Rinna for our Japanese autoregressive language model GPT-2 model\n",
    "* Load the pretrained model via `from_pretrained()`.\n",
    "* To process model input, initialize a corresponding tokenizer.\n",
    "* Since we are not fine-tuning this model any further, there is no advantage to saving and reusing it."
   ]
  },
  {
   "cell_type": "code",
   "execution_count": 6,
   "id": "3c9a9ef5-4a77-4893-8b1e-e7638c23cc6a",
   "metadata": {
    "colab": {
     "base_uri": "https://localhost:8080/",
     "height": 196,
     "referenced_widgets": [
      "e835c978852942839a49a80e5aeca0f8",
      "4fe6eca73cd1475d816773d9f2bc7bf2",
      "771bdda75178499aa0e94d298fa843b8",
      "97203ae630734aaf8f0e66d23267df8d",
      "6fd95c50fe7742fa93a51c7458634524",
      "a35cb8d04f7e476f8faf813fec8fe4d1",
      "a7fe0bf30b7a4e07bff56f5a95eb10b5",
      "643dd506512d487da3492a656be05181",
      "1fb7189c02824508aee05ae22dc8ebda",
      "54d95b9784b641aa8365c59d8be51b68",
      "a999bbf2607d4ec6a53e3be504d2ff83",
      "aa36ce2c51de4fdf9bccd2e7eea7c88d",
      "015da972a5714aae92eec2e296cae80b",
      "abb0a211d7724cf4b5f4462eb0f7524a",
      "e370957383a7463781d717ab4eb395c3",
      "b880099b74c3455c88666ce2f61c9fd3",
      "6a31b52521fc4763a1133dc862657a6e",
      "7eeaa8ab5a814d32b9b389c371104a95",
      "c1786f627aae422ca06e863e3b4f2d92",
      "d3d7a4b14f5241af8bb2ebd3d4dcb1f7",
      "6494f7912b1441edbc9d272fb803539b",
      "6ef52f608bb44808a0f6fbf55309303c",
      "c1a13210dfce4bbc82ed4a229e27417a",
      "cbc14efecbb244f498de6ccf67e00f7e",
      "796173b96d19489baeb3850040bd2a82",
      "08dfe01820e04279886a7a27be876ba9",
      "acd21cdfe7814cf5b62d35365b05502a",
      "46228472d8544785983fecfd59874256",
      "bcafa557d2774abe862e35387074a7d8",
      "2261208e13d7428b9e4b1fffbde35657",
      "7002922eb4144268b55959ae8fe41b46",
      "6ffabeb6872c4c5194ce53ff3afd10e9",
      "2e27f61ec9c34ac4a42610d95712d1b7",
      "a75a958112d54fc1aa0e91237d30c883",
      "f5a81adac3814f8897fd3a3ae8866f92",
      "c1725fe2b54e4b3883e075ed41653282",
      "ce608a4650054529bd9247d43a549f5b",
      "b3de61dfb1fa4acf8a6433c81dde37ce",
      "585a2c7d691d4fc99bbcb89fa3cc2392",
      "e566eeef5af64482b1bd1ea55420547e",
      "4b7b9d838fe64a059fd22067d813c787",
      "098e50a595214699ad6338eae0527673",
      "f12a141892ad439fad4b5c42cbb9a6d7",
      "31c85465013b47f4adc2e681fe4b76bd",
      "29b849b5854444548196b2a6eb665cd0",
      "e854b1118873441e99709f34a9a88d2a",
      "70826574b2f447fead9aa138a94b0668",
      "5dac27226b294034ad3962aab846d314",
      "4aeb70aa773f4804bc311539866e6d5e",
      "24ba99067a8648619968720fc953246b",
      "148d92ea5f8649329a9ff6ba9beac0ea",
      "a79f0304706a475aa67cc61a156b11a2",
      "2f16171ead6845cd8005ae2ba20c810a",
      "74046dbfbbc84bbf96c7cd80079904b8",
      "6c6c7c55176c4969970aa31f4e88c84c"
     ]
    },
    "id": "3c9a9ef5-4a77-4893-8b1e-e7638c23cc6a",
    "outputId": "61abd5b0-b808-4801-94af-fdc7d180c309"
   },
   "outputs": [
    {
     "data": {
      "application/vnd.jupyter.widget-view+json": {
       "model_id": "e835c978852942839a49a80e5aeca0f8",
       "version_major": 2,
       "version_minor": 0
      },
      "text/plain": [
       "Downloading:   0%|          | 0.00/806k [00:00<?, ?B/s]"
      ]
     },
     "metadata": {},
     "output_type": "display_data"
    },
    {
     "data": {
      "application/vnd.jupyter.widget-view+json": {
       "model_id": "aa36ce2c51de4fdf9bccd2e7eea7c88d",
       "version_major": 2,
       "version_minor": 0
      },
      "text/plain": [
       "Downloading:   0%|          | 0.00/153 [00:00<?, ?B/s]"
      ]
     },
     "metadata": {},
     "output_type": "display_data"
    },
    {
     "data": {
      "application/vnd.jupyter.widget-view+json": {
       "model_id": "c1a13210dfce4bbc82ed4a229e27417a",
       "version_major": 2,
       "version_minor": 0
      },
      "text/plain": [
       "Downloading:   0%|          | 0.00/282 [00:00<?, ?B/s]"
      ]
     },
     "metadata": {},
     "output_type": "display_data"
    },
    {
     "data": {
      "application/vnd.jupyter.widget-view+json": {
       "model_id": "a75a958112d54fc1aa0e91237d30c883",
       "version_major": 2,
       "version_minor": 0
      },
      "text/plain": [
       "Downloading:   0%|          | 0.00/799 [00:00<?, ?B/s]"
      ]
     },
     "metadata": {},
     "output_type": "display_data"
    },
    {
     "data": {
      "application/vnd.jupyter.widget-view+json": {
       "model_id": "29b849b5854444548196b2a6eb665cd0",
       "version_major": 2,
       "version_minor": 0
      },
      "text/plain": [
       "Downloading:   0%|          | 0.00/1.37G [00:00<?, ?B/s]"
      ]
     },
     "metadata": {},
     "output_type": "display_data"
    },
    {
     "data": {
      "text/plain": [
       "transformers.models.gpt2.modeling_gpt2.GPT2LMHeadModel"
      ]
     },
     "execution_count": 6,
     "metadata": {},
     "output_type": "execute_result"
    }
   ],
   "source": [
    "# Load Rinna — a Japanese GPT-2 model \n",
    "tokenizer = T5Tokenizer.from_pretrained(\"rinna/japanese-gpt2-medium\")\n",
    "tokenizer.do_lower_case = True # due to some bug of tokenizer config loading\n",
    "\n",
    "model = (AutoModelForCausalLM\n",
    "        .from_pretrained(\"rinna/japanese-gpt2-medium\")\n",
    "        .to(device))\n",
    "\n",
    "type(model)"
   ]
  },
  {
   "cell_type": "code",
   "execution_count": null,
   "id": "97286bc9-1c11-44f3-9e76-8b1e8d5ca5d9",
   "metadata": {
    "colab": {
     "base_uri": "https://localhost:8080/"
    },
    "id": "97286bc9-1c11-44f3-9e76-8b1e8d5ca5d9",
    "outputId": "40acd3a7-8061-4734-e205-778925fc9566"
   },
   "outputs": [
    {
     "data": {
      "text/plain": [
       "{'input_ids': tensor([[    9,   561,  8359,   561,  8359,     7,   382, 12141,     7]]), 'attention_mask': tensor([[1, 1, 1, 1, 1, 1, 1, 1, 1]])}"
      ]
     },
     "execution_count": 17,
     "metadata": {},
     "output_type": "execute_result"
    }
   ],
   "source": [
    "inputs = tokenizer(\n",
    "    \"むかしむかし、あるところに、\", \n",
    "    return_tensors=\"pt\", \n",
    "    add_special_tokens=False\n",
    "    ).to(device)\n",
    "\n",
    "inputs"
   ]
  },
  {
   "cell_type": "markdown",
   "id": "a691f658-50fa-4628-8d7e-ba2e2a53c140",
   "metadata": {
    "id": "a691f658-50fa-4628-8d7e-ba2e2a53c140"
   },
   "source": [
    "* Use `model.generate()` to generate the continuation.\n",
    "* Decode the results and convert back to text with `tokenizer.decode()`"
   ]
  },
  {
   "cell_type": "code",
   "execution_count": null,
   "id": "65968a15-919b-40bd-b5d2-0b85e75f52f6",
   "metadata": {
    "colab": {
     "base_uri": "https://localhost:8080/"
    },
    "id": "65968a15-919b-40bd-b5d2-0b85e75f52f6",
    "outputId": "6bed2330-4d70-49ec-a6bc-d94a13e9d53f"
   },
   "outputs": [
    {
     "name": "stdout",
     "output_type": "stream",
     "text": [
      "torch.Size([1, 100])\n",
      "tensor([[    9,   561,  8359,   561,  8359,     7,   382, 12141,     7,   622,\n",
      "          1391,    10,  4249,   518,   101,    12, 21740,  5363,     8,   235,\n",
      "          1391,   774,    30,     7,  2134,  5743,   772,  2767,   969,    21,\n",
      "            49, 22810,    17,   220,  1315,  2874,   341,  7992,    29,     8,\n",
      "           235,   703, 17309,   543,     9, 11283,   474,  2674,  7192,   124,\n",
      "           154,     7,   240,  2204, 11139, 13714,  1043,   314,    13,    13,\n",
      "            13,    21,    20, 16791,    11, 26240, 13391,   842,   969,     8,\n",
      "         11742,    24,  2604,   108,  7439, 16744,    95,    93,   220,   865,\n",
      "          2090,    11,   220, 13732, 23120,  5913,    20,  2454,    18,   308,\n",
      "          1737,    40, 11551,  5363,     8,     9, 16791,    11,     7, 10252]])\n"
     ]
    }
   ],
   "source": [
    "result = model.generate(\n",
    "    **inputs,\n",
    "    do_sample=True,\n",
    "    top_p=0.9,\n",
    "    temperature=0.8,\n",
    "    max_length=100,\n",
    "    pad_token_id=2,\n",
    "    repetition_penalty=1.2\n",
    ")\n",
    "\n",
    "print(result.shape)\n",
    "print(result)"
   ]
  },
  {
   "cell_type": "code",
   "execution_count": null,
   "id": "58b1d7c1-d030-4924-9347-322798df81d5",
   "metadata": {
    "colab": {
     "base_uri": "https://localhost:8080/",
     "height": 73
    },
    "id": "58b1d7c1-d030-4924-9347-322798df81d5",
    "outputId": "c42056b5-6cff-466e-8f71-314046d81a12"
   },
   "outputs": [
    {
     "data": {
      "text/plain": [
       "'むかしむかし、あるところに、大きな鳥のさえずりが聞こえました。 「鳥さんも、もうすぐ春ですね」というふうにおっしゃっていました。 「あぁ! 春の気配を感じていたら、また冬に戻ってしまいそうだ・・・」とわたしは思ったんですよね。 それから1週間後くらいでしょうか、「お母様はお元気ですか?」と電話をいただいたことがありました。 わたしは、あの'"
      ]
     },
     "execution_count": 19,
     "metadata": {},
     "output_type": "execute_result"
    }
   ],
   "source": [
    "tokenizer.decode(result[0])"
   ]
  },
  {
   "cell_type": "code",
   "execution_count": 30,
   "id": "Z5fiUarKYLXi",
   "metadata": {
    "colab": {
     "base_uri": "https://localhost:8080/",
     "height": 74
    },
    "id": "Z5fiUarKYLXi",
    "outputId": "a1bea854-e960-4a94-ac4a-d59a94aaa79a"
   },
   "outputs": [
    {
     "data": {
      "application/vnd.google.colaboratory.intrinsic+json": {
       "type": "string"
      },
      "text/plain": [
       "'雨や雪の降りやすい天気が続きます。降り方が強まり、雷やアラレを伴うおそれもあります。寒い日が多く、特に朝晩はグッと冷え込みます。体調管理を万全に。 【9月27日(木)】秋の全国交通安全運動が実施されます!【10月5日まで実施中】 [pdfファイル/1.17mb] 10月1日から9日にかけて、全国の警察署で一斉取締りを実施しています。'"
      ]
     },
     "execution_count": 30,
     "metadata": {},
     "output_type": "execute_result"
    }
   ],
   "source": [
    "# Another iteration, using this text from weathernews.jp:\n",
    "# 雨や雪の降りやすい天気が続きます。降り方が強まり、雷やアラレを伴うおそれもあります。\n",
    "# 寒い日が多く、特に朝晩はグッと冷え込みます。体調管理を万全に。\n",
    "# https://weathernews.jp/onebox/tenki/niigata/15461/\n",
    "\n",
    "inputs = tokenizer(\n",
    "    \"雨や雪の降りやすい天気が続きます。降り方が強まり、雷やアラレを伴うおそれもあります。寒い日が多く、特に朝晩はグッと冷え込みます。体調管理を万全に。\", \n",
    "    return_tensors=\"pt\", \n",
    "    add_special_tokens=False\n",
    "    ).to(device)\n",
    "\n",
    "result = model.generate(\n",
    "    **inputs,\n",
    "    do_sample=True,\n",
    "    top_p=0.9,\n",
    "    temperature=0.8,\n",
    "    max_length=100,\n",
    "    pad_token_id=2,\n",
    "    repetition_penalty=1.2\n",
    ")\n",
    "\n",
    "tokenizer.decode(result[0])"
   ]
  },
  {
   "cell_type": "code",
   "execution_count": 31,
   "id": "yI7sZIcvZkxh",
   "metadata": {
    "colab": {
     "base_uri": "https://localhost:8080/",
     "height": 55
    },
    "id": "yI7sZIcvZkxh",
    "outputId": "0ae2a189-40a2-410c-abcf-05576592542a"
   },
   "outputs": [
    {
     "data": {
      "application/vnd.google.colaboratory.intrinsic+json": {
       "type": "string"
      },
      "text/plain": [
       "'12/8(木) 15:20現在本日16時からのtenyテレビ新潟さんの夕方のニュースは、かぐらメインゲレンデからの生中継でお届け??ドラ〜<unk> #naeba #かぐら #夕方ワイド新潟一番 pic.twitter.com/dm1nxb9wcz — @nippon_kanazawa (@kanazawayamagensen) 2017年10月12日'"
      ]
     },
     "execution_count": 31,
     "metadata": {},
     "output_type": "execute_result"
    }
   ],
   "source": [
    "# Text from Twitter:\n",
    "# 12/8(木) 15:20現在本日16時からのTeNYテレビ新潟さんの夕方のニュースは、\n",
    "# かぐらメインゲレンデからの生中継でお届け？？ドラ〜✨#naeba #かぐら #夕方ワイド新潟一番\n",
    "# https://twitter.com/Naebanow/status/1600738428211335170\n",
    "\n",
    "inputs = tokenizer(\n",
    "    \"12/8(木) 15:20現在本日16時からのTeNYテレビ新潟さんの夕方のニュースは、かぐらメインゲレンデからの生中継でお届け？？ドラ〜✨#naeba #かぐら #夕方ワイド新潟一番\", \n",
    "    return_tensors=\"pt\", \n",
    "    add_special_tokens=False\n",
    "    ).to(device)\n",
    "\n",
    "result = model.generate(\n",
    "    **inputs,\n",
    "    do_sample=True,\n",
    "    top_p=0.9,\n",
    "    temperature=0.8,\n",
    "    max_length=100,\n",
    "    pad_token_id=2,\n",
    "    repetition_penalty=1.2\n",
    ")\n",
    "\n",
    "tokenizer.decode(result[0])"
   ]
  }
 ],
 "metadata": {
  "colab": {
   "provenance": []
  },
  "gpuClass": "standard",
  "kernelspec": {
   "display_name": "Python 3 (ipykernel)",
   "language": "python",
   "name": "python3"
  },
  "language_info": {
   "codemirror_mode": {
    "name": "ipython",
    "version": 3
   },
   "file_extension": ".py",
   "mimetype": "text/x-python",
   "name": "python",
   "nbconvert_exporter": "python",
   "pygments_lexer": "ipython3",
   "version": "3.8.12"
  },
  "widgets": {
   "application/vnd.jupyter.widget-state+json": {
    "015da972a5714aae92eec2e296cae80b": {
     "model_module": "@jupyter-widgets/controls",
     "model_module_version": "1.5.0",
     "model_name": "HTMLModel",
     "state": {
      "_dom_classes": [],
      "_model_module": "@jupyter-widgets/controls",
      "_model_module_version": "1.5.0",
      "_model_name": "HTMLModel",
      "_view_count": null,
      "_view_module": "@jupyter-widgets/controls",
      "_view_module_version": "1.5.0",
      "_view_name": "HTMLView",
      "description": "",
      "description_tooltip": null,
      "layout": "IPY_MODEL_6a31b52521fc4763a1133dc862657a6e",
      "placeholder": "​",
      "style": "IPY_MODEL_7eeaa8ab5a814d32b9b389c371104a95",
      "value": "Downloading: 100%"
     }
    },
    "08dfe01820e04279886a7a27be876ba9": {
     "model_module": "@jupyter-widgets/controls",
     "model_module_version": "1.5.0",
     "model_name": "HTMLModel",
     "state": {
      "_dom_classes": [],
      "_model_module": "@jupyter-widgets/controls",
      "_model_module_version": "1.5.0",
      "_model_name": "HTMLModel",
      "_view_count": null,
      "_view_module": "@jupyter-widgets/controls",
      "_view_module_version": "1.5.0",
      "_view_name": "HTMLView",
      "description": "",
      "description_tooltip": null,
      "layout": "IPY_MODEL_6ffabeb6872c4c5194ce53ff3afd10e9",
      "placeholder": "​",
      "style": "IPY_MODEL_2e27f61ec9c34ac4a42610d95712d1b7",
      "value": " 282/282 [00:00&lt;00:00, 1.75kB/s]"
     }
    },
    "098e50a595214699ad6338eae0527673": {
     "model_module": "@jupyter-widgets/controls",
     "model_module_version": "1.5.0",
     "model_name": "ProgressStyleModel",
     "state": {
      "_model_module": "@jupyter-widgets/controls",
      "_model_module_version": "1.5.0",
      "_model_name": "ProgressStyleModel",
      "_view_count": null,
      "_view_module": "@jupyter-widgets/base",
      "_view_module_version": "1.2.0",
      "_view_name": "StyleView",
      "bar_color": null,
      "description_width": ""
     }
    },
    "148d92ea5f8649329a9ff6ba9beac0ea": {
     "model_module": "@jupyter-widgets/controls",
     "model_module_version": "1.5.0",
     "model_name": "DescriptionStyleModel",
     "state": {
      "_model_module": "@jupyter-widgets/controls",
      "_model_module_version": "1.5.0",
      "_model_name": "DescriptionStyleModel",
      "_view_count": null,
      "_view_module": "@jupyter-widgets/base",
      "_view_module_version": "1.2.0",
      "_view_name": "StyleView",
      "description_width": ""
     }
    },
    "1fb7189c02824508aee05ae22dc8ebda": {
     "model_module": "@jupyter-widgets/controls",
     "model_module_version": "1.5.0",
     "model_name": "ProgressStyleModel",
     "state": {
      "_model_module": "@jupyter-widgets/controls",
      "_model_module_version": "1.5.0",
      "_model_name": "ProgressStyleModel",
      "_view_count": null,
      "_view_module": "@jupyter-widgets/base",
      "_view_module_version": "1.2.0",
      "_view_name": "StyleView",
      "bar_color": null,
      "description_width": ""
     }
    },
    "2261208e13d7428b9e4b1fffbde35657": {
     "model_module": "@jupyter-widgets/base",
     "model_module_version": "1.2.0",
     "model_name": "LayoutModel",
     "state": {
      "_model_module": "@jupyter-widgets/base",
      "_model_module_version": "1.2.0",
      "_model_name": "LayoutModel",
      "_view_count": null,
      "_view_module": "@jupyter-widgets/base",
      "_view_module_version": "1.2.0",
      "_view_name": "LayoutView",
      "align_content": null,
      "align_items": null,
      "align_self": null,
      "border": null,
      "bottom": null,
      "display": null,
      "flex": null,
      "flex_flow": null,
      "grid_area": null,
      "grid_auto_columns": null,
      "grid_auto_flow": null,
      "grid_auto_rows": null,
      "grid_column": null,
      "grid_gap": null,
      "grid_row": null,
      "grid_template_areas": null,
      "grid_template_columns": null,
      "grid_template_rows": null,
      "height": null,
      "justify_content": null,
      "justify_items": null,
      "left": null,
      "margin": null,
      "max_height": null,
      "max_width": null,
      "min_height": null,
      "min_width": null,
      "object_fit": null,
      "object_position": null,
      "order": null,
      "overflow": null,
      "overflow_x": null,
      "overflow_y": null,
      "padding": null,
      "right": null,
      "top": null,
      "visibility": null,
      "width": null
     }
    },
    "24ba99067a8648619968720fc953246b": {
     "model_module": "@jupyter-widgets/base",
     "model_module_version": "1.2.0",
     "model_name": "LayoutModel",
     "state": {
      "_model_module": "@jupyter-widgets/base",
      "_model_module_version": "1.2.0",
      "_model_name": "LayoutModel",
      "_view_count": null,
      "_view_module": "@jupyter-widgets/base",
      "_view_module_version": "1.2.0",
      "_view_name": "LayoutView",
      "align_content": null,
      "align_items": null,
      "align_self": null,
      "border": null,
      "bottom": null,
      "display": null,
      "flex": null,
      "flex_flow": null,
      "grid_area": null,
      "grid_auto_columns": null,
      "grid_auto_flow": null,
      "grid_auto_rows": null,
      "grid_column": null,
      "grid_gap": null,
      "grid_row": null,
      "grid_template_areas": null,
      "grid_template_columns": null,
      "grid_template_rows": null,
      "height": null,
      "justify_content": null,
      "justify_items": null,
      "left": null,
      "margin": null,
      "max_height": null,
      "max_width": null,
      "min_height": null,
      "min_width": null,
      "object_fit": null,
      "object_position": null,
      "order": null,
      "overflow": null,
      "overflow_x": null,
      "overflow_y": null,
      "padding": null,
      "right": null,
      "top": null,
      "visibility": null,
      "width": null
     }
    },
    "29b849b5854444548196b2a6eb665cd0": {
     "model_module": "@jupyter-widgets/controls",
     "model_module_version": "1.5.0",
     "model_name": "HBoxModel",
     "state": {
      "_dom_classes": [],
      "_model_module": "@jupyter-widgets/controls",
      "_model_module_version": "1.5.0",
      "_model_name": "HBoxModel",
      "_view_count": null,
      "_view_module": "@jupyter-widgets/controls",
      "_view_module_version": "1.5.0",
      "_view_name": "HBoxView",
      "box_style": "",
      "children": [
       "IPY_MODEL_e854b1118873441e99709f34a9a88d2a",
       "IPY_MODEL_70826574b2f447fead9aa138a94b0668",
       "IPY_MODEL_5dac27226b294034ad3962aab846d314"
      ],
      "layout": "IPY_MODEL_4aeb70aa773f4804bc311539866e6d5e"
     }
    },
    "2e27f61ec9c34ac4a42610d95712d1b7": {
     "model_module": "@jupyter-widgets/controls",
     "model_module_version": "1.5.0",
     "model_name": "DescriptionStyleModel",
     "state": {
      "_model_module": "@jupyter-widgets/controls",
      "_model_module_version": "1.5.0",
      "_model_name": "DescriptionStyleModel",
      "_view_count": null,
      "_view_module": "@jupyter-widgets/base",
      "_view_module_version": "1.2.0",
      "_view_name": "StyleView",
      "description_width": ""
     }
    },
    "2f16171ead6845cd8005ae2ba20c810a": {
     "model_module": "@jupyter-widgets/controls",
     "model_module_version": "1.5.0",
     "model_name": "ProgressStyleModel",
     "state": {
      "_model_module": "@jupyter-widgets/controls",
      "_model_module_version": "1.5.0",
      "_model_name": "ProgressStyleModel",
      "_view_count": null,
      "_view_module": "@jupyter-widgets/base",
      "_view_module_version": "1.2.0",
      "_view_name": "StyleView",
      "bar_color": null,
      "description_width": ""
     }
    },
    "31c85465013b47f4adc2e681fe4b76bd": {
     "model_module": "@jupyter-widgets/controls",
     "model_module_version": "1.5.0",
     "model_name": "DescriptionStyleModel",
     "state": {
      "_model_module": "@jupyter-widgets/controls",
      "_model_module_version": "1.5.0",
      "_model_name": "DescriptionStyleModel",
      "_view_count": null,
      "_view_module": "@jupyter-widgets/base",
      "_view_module_version": "1.2.0",
      "_view_name": "StyleView",
      "description_width": ""
     }
    },
    "46228472d8544785983fecfd59874256": {
     "model_module": "@jupyter-widgets/base",
     "model_module_version": "1.2.0",
     "model_name": "LayoutModel",
     "state": {
      "_model_module": "@jupyter-widgets/base",
      "_model_module_version": "1.2.0",
      "_model_name": "LayoutModel",
      "_view_count": null,
      "_view_module": "@jupyter-widgets/base",
      "_view_module_version": "1.2.0",
      "_view_name": "LayoutView",
      "align_content": null,
      "align_items": null,
      "align_self": null,
      "border": null,
      "bottom": null,
      "display": null,
      "flex": null,
      "flex_flow": null,
      "grid_area": null,
      "grid_auto_columns": null,
      "grid_auto_flow": null,
      "grid_auto_rows": null,
      "grid_column": null,
      "grid_gap": null,
      "grid_row": null,
      "grid_template_areas": null,
      "grid_template_columns": null,
      "grid_template_rows": null,
      "height": null,
      "justify_content": null,
      "justify_items": null,
      "left": null,
      "margin": null,
      "max_height": null,
      "max_width": null,
      "min_height": null,
      "min_width": null,
      "object_fit": null,
      "object_position": null,
      "order": null,
      "overflow": null,
      "overflow_x": null,
      "overflow_y": null,
      "padding": null,
      "right": null,
      "top": null,
      "visibility": null,
      "width": null
     }
    },
    "4aeb70aa773f4804bc311539866e6d5e": {
     "model_module": "@jupyter-widgets/base",
     "model_module_version": "1.2.0",
     "model_name": "LayoutModel",
     "state": {
      "_model_module": "@jupyter-widgets/base",
      "_model_module_version": "1.2.0",
      "_model_name": "LayoutModel",
      "_view_count": null,
      "_view_module": "@jupyter-widgets/base",
      "_view_module_version": "1.2.0",
      "_view_name": "LayoutView",
      "align_content": null,
      "align_items": null,
      "align_self": null,
      "border": null,
      "bottom": null,
      "display": null,
      "flex": null,
      "flex_flow": null,
      "grid_area": null,
      "grid_auto_columns": null,
      "grid_auto_flow": null,
      "grid_auto_rows": null,
      "grid_column": null,
      "grid_gap": null,
      "grid_row": null,
      "grid_template_areas": null,
      "grid_template_columns": null,
      "grid_template_rows": null,
      "height": null,
      "justify_content": null,
      "justify_items": null,
      "left": null,
      "margin": null,
      "max_height": null,
      "max_width": null,
      "min_height": null,
      "min_width": null,
      "object_fit": null,
      "object_position": null,
      "order": null,
      "overflow": null,
      "overflow_x": null,
      "overflow_y": null,
      "padding": null,
      "right": null,
      "top": null,
      "visibility": null,
      "width": null
     }
    },
    "4b7b9d838fe64a059fd22067d813c787": {
     "model_module": "@jupyter-widgets/base",
     "model_module_version": "1.2.0",
     "model_name": "LayoutModel",
     "state": {
      "_model_module": "@jupyter-widgets/base",
      "_model_module_version": "1.2.0",
      "_model_name": "LayoutModel",
      "_view_count": null,
      "_view_module": "@jupyter-widgets/base",
      "_view_module_version": "1.2.0",
      "_view_name": "LayoutView",
      "align_content": null,
      "align_items": null,
      "align_self": null,
      "border": null,
      "bottom": null,
      "display": null,
      "flex": null,
      "flex_flow": null,
      "grid_area": null,
      "grid_auto_columns": null,
      "grid_auto_flow": null,
      "grid_auto_rows": null,
      "grid_column": null,
      "grid_gap": null,
      "grid_row": null,
      "grid_template_areas": null,
      "grid_template_columns": null,
      "grid_template_rows": null,
      "height": null,
      "justify_content": null,
      "justify_items": null,
      "left": null,
      "margin": null,
      "max_height": null,
      "max_width": null,
      "min_height": null,
      "min_width": null,
      "object_fit": null,
      "object_position": null,
      "order": null,
      "overflow": null,
      "overflow_x": null,
      "overflow_y": null,
      "padding": null,
      "right": null,
      "top": null,
      "visibility": null,
      "width": null
     }
    },
    "4fe6eca73cd1475d816773d9f2bc7bf2": {
     "model_module": "@jupyter-widgets/controls",
     "model_module_version": "1.5.0",
     "model_name": "HTMLModel",
     "state": {
      "_dom_classes": [],
      "_model_module": "@jupyter-widgets/controls",
      "_model_module_version": "1.5.0",
      "_model_name": "HTMLModel",
      "_view_count": null,
      "_view_module": "@jupyter-widgets/controls",
      "_view_module_version": "1.5.0",
      "_view_name": "HTMLView",
      "description": "",
      "description_tooltip": null,
      "layout": "IPY_MODEL_a35cb8d04f7e476f8faf813fec8fe4d1",
      "placeholder": "​",
      "style": "IPY_MODEL_a7fe0bf30b7a4e07bff56f5a95eb10b5",
      "value": "Downloading: 100%"
     }
    },
    "54d95b9784b641aa8365c59d8be51b68": {
     "model_module": "@jupyter-widgets/base",
     "model_module_version": "1.2.0",
     "model_name": "LayoutModel",
     "state": {
      "_model_module": "@jupyter-widgets/base",
      "_model_module_version": "1.2.0",
      "_model_name": "LayoutModel",
      "_view_count": null,
      "_view_module": "@jupyter-widgets/base",
      "_view_module_version": "1.2.0",
      "_view_name": "LayoutView",
      "align_content": null,
      "align_items": null,
      "align_self": null,
      "border": null,
      "bottom": null,
      "display": null,
      "flex": null,
      "flex_flow": null,
      "grid_area": null,
      "grid_auto_columns": null,
      "grid_auto_flow": null,
      "grid_auto_rows": null,
      "grid_column": null,
      "grid_gap": null,
      "grid_row": null,
      "grid_template_areas": null,
      "grid_template_columns": null,
      "grid_template_rows": null,
      "height": null,
      "justify_content": null,
      "justify_items": null,
      "left": null,
      "margin": null,
      "max_height": null,
      "max_width": null,
      "min_height": null,
      "min_width": null,
      "object_fit": null,
      "object_position": null,
      "order": null,
      "overflow": null,
      "overflow_x": null,
      "overflow_y": null,
      "padding": null,
      "right": null,
      "top": null,
      "visibility": null,
      "width": null
     }
    },
    "585a2c7d691d4fc99bbcb89fa3cc2392": {
     "model_module": "@jupyter-widgets/base",
     "model_module_version": "1.2.0",
     "model_name": "LayoutModel",
     "state": {
      "_model_module": "@jupyter-widgets/base",
      "_model_module_version": "1.2.0",
      "_model_name": "LayoutModel",
      "_view_count": null,
      "_view_module": "@jupyter-widgets/base",
      "_view_module_version": "1.2.0",
      "_view_name": "LayoutView",
      "align_content": null,
      "align_items": null,
      "align_self": null,
      "border": null,
      "bottom": null,
      "display": null,
      "flex": null,
      "flex_flow": null,
      "grid_area": null,
      "grid_auto_columns": null,
      "grid_auto_flow": null,
      "grid_auto_rows": null,
      "grid_column": null,
      "grid_gap": null,
      "grid_row": null,
      "grid_template_areas": null,
      "grid_template_columns": null,
      "grid_template_rows": null,
      "height": null,
      "justify_content": null,
      "justify_items": null,
      "left": null,
      "margin": null,
      "max_height": null,
      "max_width": null,
      "min_height": null,
      "min_width": null,
      "object_fit": null,
      "object_position": null,
      "order": null,
      "overflow": null,
      "overflow_x": null,
      "overflow_y": null,
      "padding": null,
      "right": null,
      "top": null,
      "visibility": null,
      "width": null
     }
    },
    "5dac27226b294034ad3962aab846d314": {
     "model_module": "@jupyter-widgets/controls",
     "model_module_version": "1.5.0",
     "model_name": "HTMLModel",
     "state": {
      "_dom_classes": [],
      "_model_module": "@jupyter-widgets/controls",
      "_model_module_version": "1.5.0",
      "_model_name": "HTMLModel",
      "_view_count": null,
      "_view_module": "@jupyter-widgets/controls",
      "_view_module_version": "1.5.0",
      "_view_name": "HTMLView",
      "description": "",
      "description_tooltip": null,
      "layout": "IPY_MODEL_74046dbfbbc84bbf96c7cd80079904b8",
      "placeholder": "​",
      "style": "IPY_MODEL_6c6c7c55176c4969970aa31f4e88c84c",
      "value": " 1.37G/1.37G [00:23&lt;00:00, 63.6MB/s]"
     }
    },
    "643dd506512d487da3492a656be05181": {
     "model_module": "@jupyter-widgets/base",
     "model_module_version": "1.2.0",
     "model_name": "LayoutModel",
     "state": {
      "_model_module": "@jupyter-widgets/base",
      "_model_module_version": "1.2.0",
      "_model_name": "LayoutModel",
      "_view_count": null,
      "_view_module": "@jupyter-widgets/base",
      "_view_module_version": "1.2.0",
      "_view_name": "LayoutView",
      "align_content": null,
      "align_items": null,
      "align_self": null,
      "border": null,
      "bottom": null,
      "display": null,
      "flex": null,
      "flex_flow": null,
      "grid_area": null,
      "grid_auto_columns": null,
      "grid_auto_flow": null,
      "grid_auto_rows": null,
      "grid_column": null,
      "grid_gap": null,
      "grid_row": null,
      "grid_template_areas": null,
      "grid_template_columns": null,
      "grid_template_rows": null,
      "height": null,
      "justify_content": null,
      "justify_items": null,
      "left": null,
      "margin": null,
      "max_height": null,
      "max_width": null,
      "min_height": null,
      "min_width": null,
      "object_fit": null,
      "object_position": null,
      "order": null,
      "overflow": null,
      "overflow_x": null,
      "overflow_y": null,
      "padding": null,
      "right": null,
      "top": null,
      "visibility": null,
      "width": null
     }
    },
    "6494f7912b1441edbc9d272fb803539b": {
     "model_module": "@jupyter-widgets/base",
     "model_module_version": "1.2.0",
     "model_name": "LayoutModel",
     "state": {
      "_model_module": "@jupyter-widgets/base",
      "_model_module_version": "1.2.0",
      "_model_name": "LayoutModel",
      "_view_count": null,
      "_view_module": "@jupyter-widgets/base",
      "_view_module_version": "1.2.0",
      "_view_name": "LayoutView",
      "align_content": null,
      "align_items": null,
      "align_self": null,
      "border": null,
      "bottom": null,
      "display": null,
      "flex": null,
      "flex_flow": null,
      "grid_area": null,
      "grid_auto_columns": null,
      "grid_auto_flow": null,
      "grid_auto_rows": null,
      "grid_column": null,
      "grid_gap": null,
      "grid_row": null,
      "grid_template_areas": null,
      "grid_template_columns": null,
      "grid_template_rows": null,
      "height": null,
      "justify_content": null,
      "justify_items": null,
      "left": null,
      "margin": null,
      "max_height": null,
      "max_width": null,
      "min_height": null,
      "min_width": null,
      "object_fit": null,
      "object_position": null,
      "order": null,
      "overflow": null,
      "overflow_x": null,
      "overflow_y": null,
      "padding": null,
      "right": null,
      "top": null,
      "visibility": null,
      "width": null
     }
    },
    "6a31b52521fc4763a1133dc862657a6e": {
     "model_module": "@jupyter-widgets/base",
     "model_module_version": "1.2.0",
     "model_name": "LayoutModel",
     "state": {
      "_model_module": "@jupyter-widgets/base",
      "_model_module_version": "1.2.0",
      "_model_name": "LayoutModel",
      "_view_count": null,
      "_view_module": "@jupyter-widgets/base",
      "_view_module_version": "1.2.0",
      "_view_name": "LayoutView",
      "align_content": null,
      "align_items": null,
      "align_self": null,
      "border": null,
      "bottom": null,
      "display": null,
      "flex": null,
      "flex_flow": null,
      "grid_area": null,
      "grid_auto_columns": null,
      "grid_auto_flow": null,
      "grid_auto_rows": null,
      "grid_column": null,
      "grid_gap": null,
      "grid_row": null,
      "grid_template_areas": null,
      "grid_template_columns": null,
      "grid_template_rows": null,
      "height": null,
      "justify_content": null,
      "justify_items": null,
      "left": null,
      "margin": null,
      "max_height": null,
      "max_width": null,
      "min_height": null,
      "min_width": null,
      "object_fit": null,
      "object_position": null,
      "order": null,
      "overflow": null,
      "overflow_x": null,
      "overflow_y": null,
      "padding": null,
      "right": null,
      "top": null,
      "visibility": null,
      "width": null
     }
    },
    "6c6c7c55176c4969970aa31f4e88c84c": {
     "model_module": "@jupyter-widgets/controls",
     "model_module_version": "1.5.0",
     "model_name": "DescriptionStyleModel",
     "state": {
      "_model_module": "@jupyter-widgets/controls",
      "_model_module_version": "1.5.0",
      "_model_name": "DescriptionStyleModel",
      "_view_count": null,
      "_view_module": "@jupyter-widgets/base",
      "_view_module_version": "1.2.0",
      "_view_name": "StyleView",
      "description_width": ""
     }
    },
    "6ef52f608bb44808a0f6fbf55309303c": {
     "model_module": "@jupyter-widgets/controls",
     "model_module_version": "1.5.0",
     "model_name": "DescriptionStyleModel",
     "state": {
      "_model_module": "@jupyter-widgets/controls",
      "_model_module_version": "1.5.0",
      "_model_name": "DescriptionStyleModel",
      "_view_count": null,
      "_view_module": "@jupyter-widgets/base",
      "_view_module_version": "1.2.0",
      "_view_name": "StyleView",
      "description_width": ""
     }
    },
    "6fd95c50fe7742fa93a51c7458634524": {
     "model_module": "@jupyter-widgets/base",
     "model_module_version": "1.2.0",
     "model_name": "LayoutModel",
     "state": {
      "_model_module": "@jupyter-widgets/base",
      "_model_module_version": "1.2.0",
      "_model_name": "LayoutModel",
      "_view_count": null,
      "_view_module": "@jupyter-widgets/base",
      "_view_module_version": "1.2.0",
      "_view_name": "LayoutView",
      "align_content": null,
      "align_items": null,
      "align_self": null,
      "border": null,
      "bottom": null,
      "display": null,
      "flex": null,
      "flex_flow": null,
      "grid_area": null,
      "grid_auto_columns": null,
      "grid_auto_flow": null,
      "grid_auto_rows": null,
      "grid_column": null,
      "grid_gap": null,
      "grid_row": null,
      "grid_template_areas": null,
      "grid_template_columns": null,
      "grid_template_rows": null,
      "height": null,
      "justify_content": null,
      "justify_items": null,
      "left": null,
      "margin": null,
      "max_height": null,
      "max_width": null,
      "min_height": null,
      "min_width": null,
      "object_fit": null,
      "object_position": null,
      "order": null,
      "overflow": null,
      "overflow_x": null,
      "overflow_y": null,
      "padding": null,
      "right": null,
      "top": null,
      "visibility": null,
      "width": null
     }
    },
    "6ffabeb6872c4c5194ce53ff3afd10e9": {
     "model_module": "@jupyter-widgets/base",
     "model_module_version": "1.2.0",
     "model_name": "LayoutModel",
     "state": {
      "_model_module": "@jupyter-widgets/base",
      "_model_module_version": "1.2.0",
      "_model_name": "LayoutModel",
      "_view_count": null,
      "_view_module": "@jupyter-widgets/base",
      "_view_module_version": "1.2.0",
      "_view_name": "LayoutView",
      "align_content": null,
      "align_items": null,
      "align_self": null,
      "border": null,
      "bottom": null,
      "display": null,
      "flex": null,
      "flex_flow": null,
      "grid_area": null,
      "grid_auto_columns": null,
      "grid_auto_flow": null,
      "grid_auto_rows": null,
      "grid_column": null,
      "grid_gap": null,
      "grid_row": null,
      "grid_template_areas": null,
      "grid_template_columns": null,
      "grid_template_rows": null,
      "height": null,
      "justify_content": null,
      "justify_items": null,
      "left": null,
      "margin": null,
      "max_height": null,
      "max_width": null,
      "min_height": null,
      "min_width": null,
      "object_fit": null,
      "object_position": null,
      "order": null,
      "overflow": null,
      "overflow_x": null,
      "overflow_y": null,
      "padding": null,
      "right": null,
      "top": null,
      "visibility": null,
      "width": null
     }
    },
    "7002922eb4144268b55959ae8fe41b46": {
     "model_module": "@jupyter-widgets/controls",
     "model_module_version": "1.5.0",
     "model_name": "ProgressStyleModel",
     "state": {
      "_model_module": "@jupyter-widgets/controls",
      "_model_module_version": "1.5.0",
      "_model_name": "ProgressStyleModel",
      "_view_count": null,
      "_view_module": "@jupyter-widgets/base",
      "_view_module_version": "1.2.0",
      "_view_name": "StyleView",
      "bar_color": null,
      "description_width": ""
     }
    },
    "70826574b2f447fead9aa138a94b0668": {
     "model_module": "@jupyter-widgets/controls",
     "model_module_version": "1.5.0",
     "model_name": "FloatProgressModel",
     "state": {
      "_dom_classes": [],
      "_model_module": "@jupyter-widgets/controls",
      "_model_module_version": "1.5.0",
      "_model_name": "FloatProgressModel",
      "_view_count": null,
      "_view_module": "@jupyter-widgets/controls",
      "_view_module_version": "1.5.0",
      "_view_name": "ProgressView",
      "bar_style": "success",
      "description": "",
      "description_tooltip": null,
      "layout": "IPY_MODEL_a79f0304706a475aa67cc61a156b11a2",
      "max": 1369804067,
      "min": 0,
      "orientation": "horizontal",
      "style": "IPY_MODEL_2f16171ead6845cd8005ae2ba20c810a",
      "value": 1369804067
     }
    },
    "74046dbfbbc84bbf96c7cd80079904b8": {
     "model_module": "@jupyter-widgets/base",
     "model_module_version": "1.2.0",
     "model_name": "LayoutModel",
     "state": {
      "_model_module": "@jupyter-widgets/base",
      "_model_module_version": "1.2.0",
      "_model_name": "LayoutModel",
      "_view_count": null,
      "_view_module": "@jupyter-widgets/base",
      "_view_module_version": "1.2.0",
      "_view_name": "LayoutView",
      "align_content": null,
      "align_items": null,
      "align_self": null,
      "border": null,
      "bottom": null,
      "display": null,
      "flex": null,
      "flex_flow": null,
      "grid_area": null,
      "grid_auto_columns": null,
      "grid_auto_flow": null,
      "grid_auto_rows": null,
      "grid_column": null,
      "grid_gap": null,
      "grid_row": null,
      "grid_template_areas": null,
      "grid_template_columns": null,
      "grid_template_rows": null,
      "height": null,
      "justify_content": null,
      "justify_items": null,
      "left": null,
      "margin": null,
      "max_height": null,
      "max_width": null,
      "min_height": null,
      "min_width": null,
      "object_fit": null,
      "object_position": null,
      "order": null,
      "overflow": null,
      "overflow_x": null,
      "overflow_y": null,
      "padding": null,
      "right": null,
      "top": null,
      "visibility": null,
      "width": null
     }
    },
    "771bdda75178499aa0e94d298fa843b8": {
     "model_module": "@jupyter-widgets/controls",
     "model_module_version": "1.5.0",
     "model_name": "FloatProgressModel",
     "state": {
      "_dom_classes": [],
      "_model_module": "@jupyter-widgets/controls",
      "_model_module_version": "1.5.0",
      "_model_name": "FloatProgressModel",
      "_view_count": null,
      "_view_module": "@jupyter-widgets/controls",
      "_view_module_version": "1.5.0",
      "_view_name": "ProgressView",
      "bar_style": "success",
      "description": "",
      "description_tooltip": null,
      "layout": "IPY_MODEL_643dd506512d487da3492a656be05181",
      "max": 805634,
      "min": 0,
      "orientation": "horizontal",
      "style": "IPY_MODEL_1fb7189c02824508aee05ae22dc8ebda",
      "value": 805634
     }
    },
    "796173b96d19489baeb3850040bd2a82": {
     "model_module": "@jupyter-widgets/controls",
     "model_module_version": "1.5.0",
     "model_name": "FloatProgressModel",
     "state": {
      "_dom_classes": [],
      "_model_module": "@jupyter-widgets/controls",
      "_model_module_version": "1.5.0",
      "_model_name": "FloatProgressModel",
      "_view_count": null,
      "_view_module": "@jupyter-widgets/controls",
      "_view_module_version": "1.5.0",
      "_view_name": "ProgressView",
      "bar_style": "success",
      "description": "",
      "description_tooltip": null,
      "layout": "IPY_MODEL_2261208e13d7428b9e4b1fffbde35657",
      "max": 282,
      "min": 0,
      "orientation": "horizontal",
      "style": "IPY_MODEL_7002922eb4144268b55959ae8fe41b46",
      "value": 282
     }
    },
    "7eeaa8ab5a814d32b9b389c371104a95": {
     "model_module": "@jupyter-widgets/controls",
     "model_module_version": "1.5.0",
     "model_name": "DescriptionStyleModel",
     "state": {
      "_model_module": "@jupyter-widgets/controls",
      "_model_module_version": "1.5.0",
      "_model_name": "DescriptionStyleModel",
      "_view_count": null,
      "_view_module": "@jupyter-widgets/base",
      "_view_module_version": "1.2.0",
      "_view_name": "StyleView",
      "description_width": ""
     }
    },
    "97203ae630734aaf8f0e66d23267df8d": {
     "model_module": "@jupyter-widgets/controls",
     "model_module_version": "1.5.0",
     "model_name": "HTMLModel",
     "state": {
      "_dom_classes": [],
      "_model_module": "@jupyter-widgets/controls",
      "_model_module_version": "1.5.0",
      "_model_name": "HTMLModel",
      "_view_count": null,
      "_view_module": "@jupyter-widgets/controls",
      "_view_module_version": "1.5.0",
      "_view_name": "HTMLView",
      "description": "",
      "description_tooltip": null,
      "layout": "IPY_MODEL_54d95b9784b641aa8365c59d8be51b68",
      "placeholder": "​",
      "style": "IPY_MODEL_a999bbf2607d4ec6a53e3be504d2ff83",
      "value": " 806k/806k [00:00&lt;00:00, 4.58MB/s]"
     }
    },
    "a35cb8d04f7e476f8faf813fec8fe4d1": {
     "model_module": "@jupyter-widgets/base",
     "model_module_version": "1.2.0",
     "model_name": "LayoutModel",
     "state": {
      "_model_module": "@jupyter-widgets/base",
      "_model_module_version": "1.2.0",
      "_model_name": "LayoutModel",
      "_view_count": null,
      "_view_module": "@jupyter-widgets/base",
      "_view_module_version": "1.2.0",
      "_view_name": "LayoutView",
      "align_content": null,
      "align_items": null,
      "align_self": null,
      "border": null,
      "bottom": null,
      "display": null,
      "flex": null,
      "flex_flow": null,
      "grid_area": null,
      "grid_auto_columns": null,
      "grid_auto_flow": null,
      "grid_auto_rows": null,
      "grid_column": null,
      "grid_gap": null,
      "grid_row": null,
      "grid_template_areas": null,
      "grid_template_columns": null,
      "grid_template_rows": null,
      "height": null,
      "justify_content": null,
      "justify_items": null,
      "left": null,
      "margin": null,
      "max_height": null,
      "max_width": null,
      "min_height": null,
      "min_width": null,
      "object_fit": null,
      "object_position": null,
      "order": null,
      "overflow": null,
      "overflow_x": null,
      "overflow_y": null,
      "padding": null,
      "right": null,
      "top": null,
      "visibility": null,
      "width": null
     }
    },
    "a75a958112d54fc1aa0e91237d30c883": {
     "model_module": "@jupyter-widgets/controls",
     "model_module_version": "1.5.0",
     "model_name": "HBoxModel",
     "state": {
      "_dom_classes": [],
      "_model_module": "@jupyter-widgets/controls",
      "_model_module_version": "1.5.0",
      "_model_name": "HBoxModel",
      "_view_count": null,
      "_view_module": "@jupyter-widgets/controls",
      "_view_module_version": "1.5.0",
      "_view_name": "HBoxView",
      "box_style": "",
      "children": [
       "IPY_MODEL_f5a81adac3814f8897fd3a3ae8866f92",
       "IPY_MODEL_c1725fe2b54e4b3883e075ed41653282",
       "IPY_MODEL_ce608a4650054529bd9247d43a549f5b"
      ],
      "layout": "IPY_MODEL_b3de61dfb1fa4acf8a6433c81dde37ce"
     }
    },
    "a79f0304706a475aa67cc61a156b11a2": {
     "model_module": "@jupyter-widgets/base",
     "model_module_version": "1.2.0",
     "model_name": "LayoutModel",
     "state": {
      "_model_module": "@jupyter-widgets/base",
      "_model_module_version": "1.2.0",
      "_model_name": "LayoutModel",
      "_view_count": null,
      "_view_module": "@jupyter-widgets/base",
      "_view_module_version": "1.2.0",
      "_view_name": "LayoutView",
      "align_content": null,
      "align_items": null,
      "align_self": null,
      "border": null,
      "bottom": null,
      "display": null,
      "flex": null,
      "flex_flow": null,
      "grid_area": null,
      "grid_auto_columns": null,
      "grid_auto_flow": null,
      "grid_auto_rows": null,
      "grid_column": null,
      "grid_gap": null,
      "grid_row": null,
      "grid_template_areas": null,
      "grid_template_columns": null,
      "grid_template_rows": null,
      "height": null,
      "justify_content": null,
      "justify_items": null,
      "left": null,
      "margin": null,
      "max_height": null,
      "max_width": null,
      "min_height": null,
      "min_width": null,
      "object_fit": null,
      "object_position": null,
      "order": null,
      "overflow": null,
      "overflow_x": null,
      "overflow_y": null,
      "padding": null,
      "right": null,
      "top": null,
      "visibility": null,
      "width": null
     }
    },
    "a7fe0bf30b7a4e07bff56f5a95eb10b5": {
     "model_module": "@jupyter-widgets/controls",
     "model_module_version": "1.5.0",
     "model_name": "DescriptionStyleModel",
     "state": {
      "_model_module": "@jupyter-widgets/controls",
      "_model_module_version": "1.5.0",
      "_model_name": "DescriptionStyleModel",
      "_view_count": null,
      "_view_module": "@jupyter-widgets/base",
      "_view_module_version": "1.2.0",
      "_view_name": "StyleView",
      "description_width": ""
     }
    },
    "a999bbf2607d4ec6a53e3be504d2ff83": {
     "model_module": "@jupyter-widgets/controls",
     "model_module_version": "1.5.0",
     "model_name": "DescriptionStyleModel",
     "state": {
      "_model_module": "@jupyter-widgets/controls",
      "_model_module_version": "1.5.0",
      "_model_name": "DescriptionStyleModel",
      "_view_count": null,
      "_view_module": "@jupyter-widgets/base",
      "_view_module_version": "1.2.0",
      "_view_name": "StyleView",
      "description_width": ""
     }
    },
    "aa36ce2c51de4fdf9bccd2e7eea7c88d": {
     "model_module": "@jupyter-widgets/controls",
     "model_module_version": "1.5.0",
     "model_name": "HBoxModel",
     "state": {
      "_dom_classes": [],
      "_model_module": "@jupyter-widgets/controls",
      "_model_module_version": "1.5.0",
      "_model_name": "HBoxModel",
      "_view_count": null,
      "_view_module": "@jupyter-widgets/controls",
      "_view_module_version": "1.5.0",
      "_view_name": "HBoxView",
      "box_style": "",
      "children": [
       "IPY_MODEL_015da972a5714aae92eec2e296cae80b",
       "IPY_MODEL_abb0a211d7724cf4b5f4462eb0f7524a",
       "IPY_MODEL_e370957383a7463781d717ab4eb395c3"
      ],
      "layout": "IPY_MODEL_b880099b74c3455c88666ce2f61c9fd3"
     }
    },
    "abb0a211d7724cf4b5f4462eb0f7524a": {
     "model_module": "@jupyter-widgets/controls",
     "model_module_version": "1.5.0",
     "model_name": "FloatProgressModel",
     "state": {
      "_dom_classes": [],
      "_model_module": "@jupyter-widgets/controls",
      "_model_module_version": "1.5.0",
      "_model_name": "FloatProgressModel",
      "_view_count": null,
      "_view_module": "@jupyter-widgets/controls",
      "_view_module_version": "1.5.0",
      "_view_name": "ProgressView",
      "bar_style": "success",
      "description": "",
      "description_tooltip": null,
      "layout": "IPY_MODEL_c1786f627aae422ca06e863e3b4f2d92",
      "max": 153,
      "min": 0,
      "orientation": "horizontal",
      "style": "IPY_MODEL_d3d7a4b14f5241af8bb2ebd3d4dcb1f7",
      "value": 153
     }
    },
    "acd21cdfe7814cf5b62d35365b05502a": {
     "model_module": "@jupyter-widgets/base",
     "model_module_version": "1.2.0",
     "model_name": "LayoutModel",
     "state": {
      "_model_module": "@jupyter-widgets/base",
      "_model_module_version": "1.2.0",
      "_model_name": "LayoutModel",
      "_view_count": null,
      "_view_module": "@jupyter-widgets/base",
      "_view_module_version": "1.2.0",
      "_view_name": "LayoutView",
      "align_content": null,
      "align_items": null,
      "align_self": null,
      "border": null,
      "bottom": null,
      "display": null,
      "flex": null,
      "flex_flow": null,
      "grid_area": null,
      "grid_auto_columns": null,
      "grid_auto_flow": null,
      "grid_auto_rows": null,
      "grid_column": null,
      "grid_gap": null,
      "grid_row": null,
      "grid_template_areas": null,
      "grid_template_columns": null,
      "grid_template_rows": null,
      "height": null,
      "justify_content": null,
      "justify_items": null,
      "left": null,
      "margin": null,
      "max_height": null,
      "max_width": null,
      "min_height": null,
      "min_width": null,
      "object_fit": null,
      "object_position": null,
      "order": null,
      "overflow": null,
      "overflow_x": null,
      "overflow_y": null,
      "padding": null,
      "right": null,
      "top": null,
      "visibility": null,
      "width": null
     }
    },
    "b3de61dfb1fa4acf8a6433c81dde37ce": {
     "model_module": "@jupyter-widgets/base",
     "model_module_version": "1.2.0",
     "model_name": "LayoutModel",
     "state": {
      "_model_module": "@jupyter-widgets/base",
      "_model_module_version": "1.2.0",
      "_model_name": "LayoutModel",
      "_view_count": null,
      "_view_module": "@jupyter-widgets/base",
      "_view_module_version": "1.2.0",
      "_view_name": "LayoutView",
      "align_content": null,
      "align_items": null,
      "align_self": null,
      "border": null,
      "bottom": null,
      "display": null,
      "flex": null,
      "flex_flow": null,
      "grid_area": null,
      "grid_auto_columns": null,
      "grid_auto_flow": null,
      "grid_auto_rows": null,
      "grid_column": null,
      "grid_gap": null,
      "grid_row": null,
      "grid_template_areas": null,
      "grid_template_columns": null,
      "grid_template_rows": null,
      "height": null,
      "justify_content": null,
      "justify_items": null,
      "left": null,
      "margin": null,
      "max_height": null,
      "max_width": null,
      "min_height": null,
      "min_width": null,
      "object_fit": null,
      "object_position": null,
      "order": null,
      "overflow": null,
      "overflow_x": null,
      "overflow_y": null,
      "padding": null,
      "right": null,
      "top": null,
      "visibility": null,
      "width": null
     }
    },
    "b880099b74c3455c88666ce2f61c9fd3": {
     "model_module": "@jupyter-widgets/base",
     "model_module_version": "1.2.0",
     "model_name": "LayoutModel",
     "state": {
      "_model_module": "@jupyter-widgets/base",
      "_model_module_version": "1.2.0",
      "_model_name": "LayoutModel",
      "_view_count": null,
      "_view_module": "@jupyter-widgets/base",
      "_view_module_version": "1.2.0",
      "_view_name": "LayoutView",
      "align_content": null,
      "align_items": null,
      "align_self": null,
      "border": null,
      "bottom": null,
      "display": null,
      "flex": null,
      "flex_flow": null,
      "grid_area": null,
      "grid_auto_columns": null,
      "grid_auto_flow": null,
      "grid_auto_rows": null,
      "grid_column": null,
      "grid_gap": null,
      "grid_row": null,
      "grid_template_areas": null,
      "grid_template_columns": null,
      "grid_template_rows": null,
      "height": null,
      "justify_content": null,
      "justify_items": null,
      "left": null,
      "margin": null,
      "max_height": null,
      "max_width": null,
      "min_height": null,
      "min_width": null,
      "object_fit": null,
      "object_position": null,
      "order": null,
      "overflow": null,
      "overflow_x": null,
      "overflow_y": null,
      "padding": null,
      "right": null,
      "top": null,
      "visibility": null,
      "width": null
     }
    },
    "bcafa557d2774abe862e35387074a7d8": {
     "model_module": "@jupyter-widgets/controls",
     "model_module_version": "1.5.0",
     "model_name": "DescriptionStyleModel",
     "state": {
      "_model_module": "@jupyter-widgets/controls",
      "_model_module_version": "1.5.0",
      "_model_name": "DescriptionStyleModel",
      "_view_count": null,
      "_view_module": "@jupyter-widgets/base",
      "_view_module_version": "1.2.0",
      "_view_name": "StyleView",
      "description_width": ""
     }
    },
    "c1725fe2b54e4b3883e075ed41653282": {
     "model_module": "@jupyter-widgets/controls",
     "model_module_version": "1.5.0",
     "model_name": "FloatProgressModel",
     "state": {
      "_dom_classes": [],
      "_model_module": "@jupyter-widgets/controls",
      "_model_module_version": "1.5.0",
      "_model_name": "FloatProgressModel",
      "_view_count": null,
      "_view_module": "@jupyter-widgets/controls",
      "_view_module_version": "1.5.0",
      "_view_name": "ProgressView",
      "bar_style": "success",
      "description": "",
      "description_tooltip": null,
      "layout": "IPY_MODEL_4b7b9d838fe64a059fd22067d813c787",
      "max": 799,
      "min": 0,
      "orientation": "horizontal",
      "style": "IPY_MODEL_098e50a595214699ad6338eae0527673",
      "value": 799
     }
    },
    "c1786f627aae422ca06e863e3b4f2d92": {
     "model_module": "@jupyter-widgets/base",
     "model_module_version": "1.2.0",
     "model_name": "LayoutModel",
     "state": {
      "_model_module": "@jupyter-widgets/base",
      "_model_module_version": "1.2.0",
      "_model_name": "LayoutModel",
      "_view_count": null,
      "_view_module": "@jupyter-widgets/base",
      "_view_module_version": "1.2.0",
      "_view_name": "LayoutView",
      "align_content": null,
      "align_items": null,
      "align_self": null,
      "border": null,
      "bottom": null,
      "display": null,
      "flex": null,
      "flex_flow": null,
      "grid_area": null,
      "grid_auto_columns": null,
      "grid_auto_flow": null,
      "grid_auto_rows": null,
      "grid_column": null,
      "grid_gap": null,
      "grid_row": null,
      "grid_template_areas": null,
      "grid_template_columns": null,
      "grid_template_rows": null,
      "height": null,
      "justify_content": null,
      "justify_items": null,
      "left": null,
      "margin": null,
      "max_height": null,
      "max_width": null,
      "min_height": null,
      "min_width": null,
      "object_fit": null,
      "object_position": null,
      "order": null,
      "overflow": null,
      "overflow_x": null,
      "overflow_y": null,
      "padding": null,
      "right": null,
      "top": null,
      "visibility": null,
      "width": null
     }
    },
    "c1a13210dfce4bbc82ed4a229e27417a": {
     "model_module": "@jupyter-widgets/controls",
     "model_module_version": "1.5.0",
     "model_name": "HBoxModel",
     "state": {
      "_dom_classes": [],
      "_model_module": "@jupyter-widgets/controls",
      "_model_module_version": "1.5.0",
      "_model_name": "HBoxModel",
      "_view_count": null,
      "_view_module": "@jupyter-widgets/controls",
      "_view_module_version": "1.5.0",
      "_view_name": "HBoxView",
      "box_style": "",
      "children": [
       "IPY_MODEL_cbc14efecbb244f498de6ccf67e00f7e",
       "IPY_MODEL_796173b96d19489baeb3850040bd2a82",
       "IPY_MODEL_08dfe01820e04279886a7a27be876ba9"
      ],
      "layout": "IPY_MODEL_acd21cdfe7814cf5b62d35365b05502a"
     }
    },
    "cbc14efecbb244f498de6ccf67e00f7e": {
     "model_module": "@jupyter-widgets/controls",
     "model_module_version": "1.5.0",
     "model_name": "HTMLModel",
     "state": {
      "_dom_classes": [],
      "_model_module": "@jupyter-widgets/controls",
      "_model_module_version": "1.5.0",
      "_model_name": "HTMLModel",
      "_view_count": null,
      "_view_module": "@jupyter-widgets/controls",
      "_view_module_version": "1.5.0",
      "_view_name": "HTMLView",
      "description": "",
      "description_tooltip": null,
      "layout": "IPY_MODEL_46228472d8544785983fecfd59874256",
      "placeholder": "​",
      "style": "IPY_MODEL_bcafa557d2774abe862e35387074a7d8",
      "value": "Downloading: 100%"
     }
    },
    "ce608a4650054529bd9247d43a549f5b": {
     "model_module": "@jupyter-widgets/controls",
     "model_module_version": "1.5.0",
     "model_name": "HTMLModel",
     "state": {
      "_dom_classes": [],
      "_model_module": "@jupyter-widgets/controls",
      "_model_module_version": "1.5.0",
      "_model_name": "HTMLModel",
      "_view_count": null,
      "_view_module": "@jupyter-widgets/controls",
      "_view_module_version": "1.5.0",
      "_view_name": "HTMLView",
      "description": "",
      "description_tooltip": null,
      "layout": "IPY_MODEL_f12a141892ad439fad4b5c42cbb9a6d7",
      "placeholder": "​",
      "style": "IPY_MODEL_31c85465013b47f4adc2e681fe4b76bd",
      "value": " 799/799 [00:00&lt;00:00, 9.69kB/s]"
     }
    },
    "d3d7a4b14f5241af8bb2ebd3d4dcb1f7": {
     "model_module": "@jupyter-widgets/controls",
     "model_module_version": "1.5.0",
     "model_name": "ProgressStyleModel",
     "state": {
      "_model_module": "@jupyter-widgets/controls",
      "_model_module_version": "1.5.0",
      "_model_name": "ProgressStyleModel",
      "_view_count": null,
      "_view_module": "@jupyter-widgets/base",
      "_view_module_version": "1.2.0",
      "_view_name": "StyleView",
      "bar_color": null,
      "description_width": ""
     }
    },
    "e370957383a7463781d717ab4eb395c3": {
     "model_module": "@jupyter-widgets/controls",
     "model_module_version": "1.5.0",
     "model_name": "HTMLModel",
     "state": {
      "_dom_classes": [],
      "_model_module": "@jupyter-widgets/controls",
      "_model_module_version": "1.5.0",
      "_model_name": "HTMLModel",
      "_view_count": null,
      "_view_module": "@jupyter-widgets/controls",
      "_view_module_version": "1.5.0",
      "_view_name": "HTMLView",
      "description": "",
      "description_tooltip": null,
      "layout": "IPY_MODEL_6494f7912b1441edbc9d272fb803539b",
      "placeholder": "​",
      "style": "IPY_MODEL_6ef52f608bb44808a0f6fbf55309303c",
      "value": " 153/153 [00:00&lt;00:00, 2.28kB/s]"
     }
    },
    "e566eeef5af64482b1bd1ea55420547e": {
     "model_module": "@jupyter-widgets/controls",
     "model_module_version": "1.5.0",
     "model_name": "DescriptionStyleModel",
     "state": {
      "_model_module": "@jupyter-widgets/controls",
      "_model_module_version": "1.5.0",
      "_model_name": "DescriptionStyleModel",
      "_view_count": null,
      "_view_module": "@jupyter-widgets/base",
      "_view_module_version": "1.2.0",
      "_view_name": "StyleView",
      "description_width": ""
     }
    },
    "e835c978852942839a49a80e5aeca0f8": {
     "model_module": "@jupyter-widgets/controls",
     "model_module_version": "1.5.0",
     "model_name": "HBoxModel",
     "state": {
      "_dom_classes": [],
      "_model_module": "@jupyter-widgets/controls",
      "_model_module_version": "1.5.0",
      "_model_name": "HBoxModel",
      "_view_count": null,
      "_view_module": "@jupyter-widgets/controls",
      "_view_module_version": "1.5.0",
      "_view_name": "HBoxView",
      "box_style": "",
      "children": [
       "IPY_MODEL_4fe6eca73cd1475d816773d9f2bc7bf2",
       "IPY_MODEL_771bdda75178499aa0e94d298fa843b8",
       "IPY_MODEL_97203ae630734aaf8f0e66d23267df8d"
      ],
      "layout": "IPY_MODEL_6fd95c50fe7742fa93a51c7458634524"
     }
    },
    "e854b1118873441e99709f34a9a88d2a": {
     "model_module": "@jupyter-widgets/controls",
     "model_module_version": "1.5.0",
     "model_name": "HTMLModel",
     "state": {
      "_dom_classes": [],
      "_model_module": "@jupyter-widgets/controls",
      "_model_module_version": "1.5.0",
      "_model_name": "HTMLModel",
      "_view_count": null,
      "_view_module": "@jupyter-widgets/controls",
      "_view_module_version": "1.5.0",
      "_view_name": "HTMLView",
      "description": "",
      "description_tooltip": null,
      "layout": "IPY_MODEL_24ba99067a8648619968720fc953246b",
      "placeholder": "​",
      "style": "IPY_MODEL_148d92ea5f8649329a9ff6ba9beac0ea",
      "value": "Downloading: 100%"
     }
    },
    "f12a141892ad439fad4b5c42cbb9a6d7": {
     "model_module": "@jupyter-widgets/base",
     "model_module_version": "1.2.0",
     "model_name": "LayoutModel",
     "state": {
      "_model_module": "@jupyter-widgets/base",
      "_model_module_version": "1.2.0",
      "_model_name": "LayoutModel",
      "_view_count": null,
      "_view_module": "@jupyter-widgets/base",
      "_view_module_version": "1.2.0",
      "_view_name": "LayoutView",
      "align_content": null,
      "align_items": null,
      "align_self": null,
      "border": null,
      "bottom": null,
      "display": null,
      "flex": null,
      "flex_flow": null,
      "grid_area": null,
      "grid_auto_columns": null,
      "grid_auto_flow": null,
      "grid_auto_rows": null,
      "grid_column": null,
      "grid_gap": null,
      "grid_row": null,
      "grid_template_areas": null,
      "grid_template_columns": null,
      "grid_template_rows": null,
      "height": null,
      "justify_content": null,
      "justify_items": null,
      "left": null,
      "margin": null,
      "max_height": null,
      "max_width": null,
      "min_height": null,
      "min_width": null,
      "object_fit": null,
      "object_position": null,
      "order": null,
      "overflow": null,
      "overflow_x": null,
      "overflow_y": null,
      "padding": null,
      "right": null,
      "top": null,
      "visibility": null,
      "width": null
     }
    },
    "f5a81adac3814f8897fd3a3ae8866f92": {
     "model_module": "@jupyter-widgets/controls",
     "model_module_version": "1.5.0",
     "model_name": "HTMLModel",
     "state": {
      "_dom_classes": [],
      "_model_module": "@jupyter-widgets/controls",
      "_model_module_version": "1.5.0",
      "_model_name": "HTMLModel",
      "_view_count": null,
      "_view_module": "@jupyter-widgets/controls",
      "_view_module_version": "1.5.0",
      "_view_name": "HTMLView",
      "description": "",
      "description_tooltip": null,
      "layout": "IPY_MODEL_585a2c7d691d4fc99bbcb89fa3cc2392",
      "placeholder": "​",
      "style": "IPY_MODEL_e566eeef5af64482b1bd1ea55420547e",
      "value": "Downloading: 100%"
     }
    }
   }
  }
 },
 "nbformat": 4,
 "nbformat_minor": 5
}
